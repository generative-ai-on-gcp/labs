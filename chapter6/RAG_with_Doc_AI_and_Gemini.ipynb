{
  "cells": [
    {
      "cell_type": "code",
      "execution_count": null,
      "metadata": {
        "id": "ur8xi4C7S06n"
      },
      "outputs": [],
      "source": [
        "# Licensed under the Apache License, Version 2.0 (the \"License\");\n",
        "# you may not use this file except in compliance with the License.\n",
        "# You may obtain a copy of the License at\n",
        "#\n",
        "#     https://www.apache.org/licenses/LICENSE-2.0\n",
        "#\n",
        "# Unless required by applicable law or agreed to in writing, software\n",
        "# distributed under the License is distributed on an \"AS IS\" BASIS,\n",
        "# WITHOUT WARRANTIES OR CONDITIONS OF ANY KIND, either express or implied.\n",
        "# See the License for the specific language governing permissions and\n",
        "# limitations under the License."
      ]
    },
    {
      "cell_type": "markdown",
      "metadata": {
        "id": "JAPoU8Sm5E6e",
        "tags": []
      },
      "source": [
        "# Question answering with Large Documents using Document AI and LLM APIs\n",
        "\n",
        "\n",
        "<table align=\"left\">\n",
        "\n",
        "  <td>\n",
        "    <a href=\"https://colab.research.google.com/github/GoogleCloudPlatform/generative-ai/blob/main/language/examples/reference-architectures/question_answering_with_large_documents.ipynb\">\n",
        "      <img src=\"https://cloud.google.com/ml-engine/images/colab-logo-32px.png\" alt=\"Colab logo\"> Run in Colab\n",
        "    </a>\n",
        "  </td>\n",
        "  <td>\n",
        "    <a href=\"https://github.com/GoogleCloudPlatform/generative-ai/blob/main/language/examples/reference-architectures/question_answering_with_large_documents.ipynb\">\n",
        "      <img src=\"https://cloud.google.com/ml-engine/images/github-logo-32px.png\" alt=\"GitHub logo\">\n",
        "      View on GitHub\n",
        "    </a>\n",
        "  </td>\n",
        "  <td>\n",
        "    <a href=\"https://console.cloud.google.com/vertex-ai/workbench/deploy-notebook?download_url=https://raw.githubusercontent.com/GoogleCloudPlatform/generative-ai/blob/main/language/examples/reference-architectures/question_answering_with_large_documents.ipynb\">\n",
        "      <img src=\"https://lh3.googleusercontent.com/UiNooY4LUgW_oTvpsNhPpQzsstV5W8F7rYgxgGBD85cWJoLmrOzhVs_ksK_vgx40SHs7jCqkTkCk=e14-rj-sc0xffffff-h130-w32\" alt=\"Vertex AI logo\">\n",
        "      Open in Vertex AI Workbench\n",
        "    </a>\n",
        "  </td>\n",
        "</table>"
      ]
    },
    {
      "cell_type": "markdown",
      "metadata": {
        "id": "tvgnzT1CKxrO"
      },
      "source": [
        "## Overview\n",
        "\n",
        "\n",
        "Question answering for large documents is a challenging task because it requires the ability to understand and process a large amount of text.\n",
        "Question answering for large documents using Document AI and PaLM is a powerful approach that can be used to extract information from large amounts of text. Document AI can be used to extract structured data from documents, such as tables, lists, and images. PaLM can then be used to answer questions about the extracted data.\n",
        "\n",
        "\n",
        "[Document AI](https://cloud.google.com/document-ai) provides a scalable and managed way to extract data from documents using AI. In this notebook, you will use the [Document OCR processor](https://cloud.google.com/document-ai/docs/document-ocr), which is a pre-trained model that will extract text and layout information from document files.\n",
        "\n",
        "# Here are some of the benefits of using Document AI and Gemini for question answering for large documents:\n",
        "\n",
        "It can be used to extract information from a variety of document formats.\n",
        "It can be used to answer questions about a variety of topics.\n",
        "It can be used to answer questions in natural language.\n",
        "It is a scalable solution that can be used to answer questions about large amounts of data.\n",
        "\n",
        "\n"
      ]
    },
    {
      "cell_type": "markdown",
      "metadata": {
        "id": "4j1gvi3jqG6U"
      },
      "source": [
        "### Costs\n",
        "\n",
        "This tutorial uses billable components of Google Cloud:\n",
        "\n",
        "* Vertex AI APIs(Foundation model)\n",
        "* Document AI\n",
        "\n",
        "Learn about [Vertex AI pricing](https://cloud.google.com/vertex-ai/pricing),\n",
        "Learn about [Document AI pricing](https://cloud.google.com/document-ai/pricing),\n",
        "and use the [Pricing Calculator](https://cloud.google.com/products/calculator/)\n",
        "to generate a cost estimate based on your projected usage."
      ]
    },
    {
      "cell_type": "markdown",
      "metadata": {
        "id": "QDU0XJ1xRDlL"
      },
      "source": [
        "## Getting Started"
      ]
    },
    {
      "cell_type": "markdown",
      "metadata": {
        "id": "2a5AEr0lkLKD"
      },
      "source": [
        "### Install Vertex AI SDK & Other dependencies"
      ]
    },
    {
      "cell_type": "code",
      "execution_count": null,
      "metadata": {
        "id": "GYACuZHAF3DQ",
        "colab": {
          "base_uri": "https://localhost:8080/"
        },
        "outputId": "87ff1719-1e52-448d-babb-9fd971918260"
      },
      "outputs": [
        {
          "output_type": "stream",
          "name": "stdout",
          "text": [
            "Requirement already satisfied: google-cloud-aiplatform in /root/.local/lib/python3.10/site-packages (1.43.0)\n",
            "Requirement already satisfied: google-cloud-documentai==2.18.0 in /root/.local/lib/python3.10/site-packages (2.18.0)\n",
            "Requirement already satisfied: backoff==2.2.1 in /root/.local/lib/python3.10/site-packages (2.2.1)\n",
            "Requirement already satisfied: google-api-core[grpc]!=2.0.*,!=2.1.*,!=2.10.*,!=2.2.*,!=2.3.*,!=2.4.*,!=2.5.*,!=2.6.*,!=2.7.*,!=2.8.*,!=2.9.*,<3.0.0dev,>=1.34.0 in /usr/local/lib/python3.10/dist-packages (from google-cloud-documentai==2.18.0) (2.11.1)\n",
            "Requirement already satisfied: proto-plus<2.0.0dev,>=1.22.0 in /usr/local/lib/python3.10/dist-packages (from google-cloud-documentai==2.18.0) (1.23.0)\n",
            "Requirement already satisfied: protobuf!=3.20.0,!=3.20.1,!=4.21.0,!=4.21.1,!=4.21.2,!=4.21.3,!=4.21.4,!=4.21.5,<5.0.0dev,>=3.19.5 in /usr/local/lib/python3.10/dist-packages (from google-cloud-documentai==2.18.0) (3.20.3)\n",
            "Requirement already satisfied: google-auth<3.0.0dev,>=2.14.1 in /usr/local/lib/python3.10/dist-packages (from google-cloud-aiplatform) (2.27.0)\n",
            "Requirement already satisfied: packaging>=14.3 in /usr/local/lib/python3.10/dist-packages (from google-cloud-aiplatform) (24.0)\n",
            "Requirement already satisfied: google-cloud-storage<3.0.0dev,>=1.32.0 in /usr/local/lib/python3.10/dist-packages (from google-cloud-aiplatform) (2.8.0)\n",
            "Requirement already satisfied: google-cloud-bigquery<4.0.0dev,>=1.15.0 in /usr/local/lib/python3.10/dist-packages (from google-cloud-aiplatform) (3.12.0)\n",
            "Requirement already satisfied: google-cloud-resource-manager<3.0.0dev,>=1.3.3 in /usr/local/lib/python3.10/dist-packages (from google-cloud-aiplatform) (1.12.3)\n",
            "Requirement already satisfied: shapely<3.0.0dev in /root/.local/lib/python3.10/site-packages (from google-cloud-aiplatform) (1.8.5.post1)\n",
            "Requirement already satisfied: googleapis-common-protos<2.0.dev0,>=1.56.2 in /usr/local/lib/python3.10/dist-packages (from google-api-core[grpc]!=2.0.*,!=2.1.*,!=2.10.*,!=2.2.*,!=2.3.*,!=2.4.*,!=2.5.*,!=2.6.*,!=2.7.*,!=2.8.*,!=2.9.*,<3.0.0dev,>=1.34.0->google-cloud-documentai==2.18.0) (1.63.0)\n",
            "Requirement already satisfied: requests<3.0.0.dev0,>=2.18.0 in /usr/local/lib/python3.10/dist-packages (from google-api-core[grpc]!=2.0.*,!=2.1.*,!=2.10.*,!=2.2.*,!=2.3.*,!=2.4.*,!=2.5.*,!=2.6.*,!=2.7.*,!=2.8.*,!=2.9.*,<3.0.0dev,>=1.34.0->google-cloud-documentai==2.18.0) (2.31.0)\n",
            "Requirement already satisfied: grpcio<2.0dev,>=1.33.2 in /usr/local/lib/python3.10/dist-packages (from google-api-core[grpc]!=2.0.*,!=2.1.*,!=2.10.*,!=2.2.*,!=2.3.*,!=2.4.*,!=2.5.*,!=2.6.*,!=2.7.*,!=2.8.*,!=2.9.*,<3.0.0dev,>=1.34.0->google-cloud-documentai==2.18.0) (1.62.1)\n",
            "Requirement already satisfied: grpcio-status<2.0.dev0,>=1.33.2 in /usr/local/lib/python3.10/dist-packages (from google-api-core[grpc]!=2.0.*,!=2.1.*,!=2.10.*,!=2.2.*,!=2.3.*,!=2.4.*,!=2.5.*,!=2.6.*,!=2.7.*,!=2.8.*,!=2.9.*,<3.0.0dev,>=1.34.0->google-cloud-documentai==2.18.0) (1.48.2)\n",
            "Requirement already satisfied: cachetools<6.0,>=2.0.0 in /usr/local/lib/python3.10/dist-packages (from google-auth<3.0.0dev,>=2.14.1->google-cloud-aiplatform) (5.3.3)\n",
            "Requirement already satisfied: pyasn1-modules>=0.2.1 in /usr/local/lib/python3.10/dist-packages (from google-auth<3.0.0dev,>=2.14.1->google-cloud-aiplatform) (0.3.0)\n",
            "Requirement already satisfied: rsa<5,>=3.1.4 in /usr/local/lib/python3.10/dist-packages (from google-auth<3.0.0dev,>=2.14.1->google-cloud-aiplatform) (4.9)\n",
            "Requirement already satisfied: google-cloud-core<3.0.0dev,>=1.6.0 in /usr/local/lib/python3.10/dist-packages (from google-cloud-bigquery<4.0.0dev,>=1.15.0->google-cloud-aiplatform) (2.3.3)\n",
            "Requirement already satisfied: google-resumable-media<3.0dev,>=0.6.0 in /usr/local/lib/python3.10/dist-packages (from google-cloud-bigquery<4.0.0dev,>=1.15.0->google-cloud-aiplatform) (2.7.0)\n",
            "Requirement already satisfied: python-dateutil<3.0dev,>=2.7.2 in /usr/local/lib/python3.10/dist-packages (from google-cloud-bigquery<4.0.0dev,>=1.15.0->google-cloud-aiplatform) (2.8.2)\n",
            "Requirement already satisfied: grpc-google-iam-v1<1.0.0dev,>=0.12.4 in /usr/local/lib/python3.10/dist-packages (from google-cloud-resource-manager<3.0.0dev,>=1.3.3->google-cloud-aiplatform) (0.13.0)\n",
            "Requirement already satisfied: google-crc32c<2.0dev,>=1.0 in /usr/local/lib/python3.10/dist-packages (from google-resumable-media<3.0dev,>=0.6.0->google-cloud-bigquery<4.0.0dev,>=1.15.0->google-cloud-aiplatform) (1.5.0)\n",
            "Requirement already satisfied: pyasn1<0.6.0,>=0.4.6 in /usr/local/lib/python3.10/dist-packages (from pyasn1-modules>=0.2.1->google-auth<3.0.0dev,>=2.14.1->google-cloud-aiplatform) (0.5.1)\n",
            "Requirement already satisfied: six>=1.5 in /usr/local/lib/python3.10/dist-packages (from python-dateutil<3.0dev,>=2.7.2->google-cloud-bigquery<4.0.0dev,>=1.15.0->google-cloud-aiplatform) (1.16.0)\n",
            "Requirement already satisfied: charset-normalizer<4,>=2 in /usr/local/lib/python3.10/dist-packages (from requests<3.0.0.dev0,>=2.18.0->google-api-core[grpc]!=2.0.*,!=2.1.*,!=2.10.*,!=2.2.*,!=2.3.*,!=2.4.*,!=2.5.*,!=2.6.*,!=2.7.*,!=2.8.*,!=2.9.*,<3.0.0dev,>=1.34.0->google-cloud-documentai==2.18.0) (3.3.2)\n",
            "Requirement already satisfied: idna<4,>=2.5 in /usr/local/lib/python3.10/dist-packages (from requests<3.0.0.dev0,>=2.18.0->google-api-core[grpc]!=2.0.*,!=2.1.*,!=2.10.*,!=2.2.*,!=2.3.*,!=2.4.*,!=2.5.*,!=2.6.*,!=2.7.*,!=2.8.*,!=2.9.*,<3.0.0dev,>=1.34.0->google-cloud-documentai==2.18.0) (3.6)\n",
            "Requirement already satisfied: urllib3<3,>=1.21.1 in /usr/local/lib/python3.10/dist-packages (from requests<3.0.0.dev0,>=2.18.0->google-api-core[grpc]!=2.0.*,!=2.1.*,!=2.10.*,!=2.2.*,!=2.3.*,!=2.4.*,!=2.5.*,!=2.6.*,!=2.7.*,!=2.8.*,!=2.9.*,<3.0.0dev,>=1.34.0->google-cloud-documentai==2.18.0) (2.0.7)\n",
            "Requirement already satisfied: certifi>=2017.4.17 in /usr/local/lib/python3.10/dist-packages (from requests<3.0.0.dev0,>=2.18.0->google-api-core[grpc]!=2.0.*,!=2.1.*,!=2.10.*,!=2.2.*,!=2.3.*,!=2.4.*,!=2.5.*,!=2.6.*,!=2.7.*,!=2.8.*,!=2.9.*,<3.0.0dev,>=1.34.0->google-cloud-documentai==2.18.0) (2024.2.2)\n"
          ]
        }
      ],
      "source": [
        "%pip install --upgrade --user google-cloud-aiplatform google-cloud-documentai==2.18.0 backoff==2.2.1  --user"
      ]
    },
    {
      "cell_type": "markdown",
      "metadata": {
        "id": "UG3WsMySF3DQ"
      },
      "source": [
        "**Colab only**: Run the following cell to restart the kernel. For Vertex AI Workbench you can restart the terminal using the button on top."
      ]
    },
    {
      "cell_type": "code",
      "execution_count": null,
      "metadata": {
        "id": "_Hsqwn4hkLKE"
      },
      "outputs": [],
      "source": [
        "import sys\n",
        "if \"google.colab\" in sys.modules:\n",
        "    # Automatically restart kernel after installs so that your environment can access the new packages\n",
        "    import IPython\n",
        "\n",
        "    app = IPython.Application.instance()\n",
        "    app.kernel.do_shutdown(True)\n",
        "else:\n",
        "    # Otherwise, attempt to discover local credentials as described on https://cloud.google.com/docs/authentication/application-default-credentials\n",
        "    pass"
      ]
    },
    {
      "cell_type": "markdown",
      "metadata": {
        "id": "5XtUQRDqlwTY"
      },
      "source": [
        "## Colab Only\n",
        "You will need to run the following cell to authenticates your Colab environment with your Google Cloud account."
      ]
    },
    {
      "cell_type": "code",
      "execution_count": null,
      "metadata": {
        "id": "P_100VNRj-xn"
      },
      "outputs": [],
      "source": [
        "from google.colab import auth\n",
        "auth.authenticate_user()"
      ]
    },
    {
      "cell_type": "markdown",
      "metadata": {
        "id": "R-yyDsflbCc0"
      },
      "source": [
        "### Enable the APIs in your project"
      ]
    },
    {
      "cell_type": "code",
      "execution_count": null,
      "metadata": {
        "id": "ElgyIjJ7eSIy"
      },
      "outputs": [],
      "source": [
        "from __future__ import annotations\n",
        "import backoff\n",
        "from tenacity import retry, stop_after_attempt, wait_random_exponential\n",
        "from google.api_core.exceptions import ResourceExhausted\n",
        "from google.api_core.client_options import ClientOptions\n",
        "from google.api_core.exceptions import AlreadyExists\n",
        "from google.cloud import documentai\n",
        "import numpy as np\n",
        "import glob\n",
        "import os\n",
        "import textwrap\n",
        "from typing import Dict, List\n",
        "import pandas as pd\n",
        "from logging import error\n",
        "import re\n",
        "import textwrap\n",
        "from typing import Tuple, List\n",
        "import vertexai\n",
        "from vertexai.generative_models import GenerationConfig, GenerativeModel, Image, Part\n",
        "from vertexai.language_models import TextEmbeddingModel"
      ]
    },
    {
      "cell_type": "code",
      "execution_count": null,
      "metadata": {
        "id": "Ai62J2sLPDFX",
        "colab": {
          "base_uri": "https://localhost:8080/"
        },
        "outputId": "71c72e7a-ada8-43d1-93bb-6557ba7957ed"
      },
      "outputs": [
        {
          "output_type": "stream",
          "name": "stdout",
          "text": [
            "Updated property [core/project].\n",
            "Operation \"operations/acat.p2-474775107710-87c0ad06-58c9-4d76-9bf3-b826b1787a5d\" finished successfully.\n"
          ]
        }
      ],
      "source": [
        "!gcloud config set project \"kaggle-on-gcp\"\n",
        "\n",
        "!gcloud services enable documentai.googleapis.com storage.googleapis.com aiplatform.googleapis.com"
      ]
    },
    {
      "cell_type": "markdown",
      "metadata": {
        "id": "UP76a2la7O-a"
      },
      "source": [
        "## Document AI\n",
        "\n",
        "The following [limits](https://cloud.google.com/document-ai/quotas) apply for online processing with the Document OCR processor.\n",
        "\n",
        "| Limit             \t| Value \t|\n",
        "|-------------------\t|------:\t|\n",
        "| Maximum file size \t| 20 MB \t|\n",
        "| Maximum pages     \t| 15    \t|\n",
        "\n",
        "For documents that don't meet these limits, you can use [batch processing](https://cloud.google.com/document-ai/docs/send-request#batch-process) to extract the document text. (Not covered in this notebook.)"
      ]
    },
    {
      "cell_type": "markdown",
      "metadata": {
        "id": "HZkLDRTjTcfm"
      },
      "source": [
        "### Preparing data files\n",
        "\n",
        "To begin, you will need to download PDFs for the summarizing tasks below.\n",
        "For this notebook, you will be using Alphabet earnings report PDFs hosted in a public Google Cloud Storage bucket."
      ]
    },
    {
      "cell_type": "code",
      "execution_count": null,
      "metadata": {
        "id": "f-IWo-lb-gbn",
        "colab": {
          "base_uri": "https://localhost:8080/"
        },
        "outputId": "45dae9e0-550f-4cd3-888d-caf5acef24c0"
      },
      "outputs": [
        {
          "output_type": "stream",
          "name": "stdout",
          "text": [
            "Copying gs://github-repo/documents/docai/20230203_alphabet_10K-pages-1-14-compressed.pdf...\n",
            "/ [0/4 files][    0.0 B/  5.0 MiB]   0% Done                                    \rCopying gs://github-repo/documents/docai/20230426_alphabet_10Q-pages-1-14.pdf...\n",
            "Copying gs://github-repo/documents/docai/documents_20220202_alphabet_10K.pdf...\n"
          ]
        }
      ],
      "source": [
        "# Copying the files from the GCS bucket to local storage\n",
        "!gsutil -m cp -r gs://github-repo/documents/docai ."
      ]
    },
    {
      "cell_type": "markdown",
      "metadata": {
        "id": "FxmWYA05o4jj"
      },
      "source": [
        "### Create Document AI OCR Processor\n",
        "\n",
        "A [Document AI processor](https://cloud.google.com/document-ai/docs/overview#dai-processors) is an interface between a document file and a machine learning model that performs document processing actions. They can be used to classify, split, parse, or analyze a document. Each Google Cloud project needs to create its own processor instances.\n",
        "\n",
        "There are two types of Document AI processors:\n",
        "\n",
        "* Pre-trained processors: These processors are pre-trained on a large dataset of documents and can be used to perform common document processing tasks, such as Optical Character Recognition (OCR), form parsing, and entity extraction.\n",
        "* Custom processors: These processors can be trained on your own dataset of documents to perform specific tasks that are not covered by the pre-trained processors.\n",
        "\n",
        "Refer to [Full processor and detail list](https://cloud.google.com/document-ai/docs/processors-list) for all supported processors.\n",
        "\n",
        "Processors take a PDF or image file as input and output the data in the [`Document`](https://cloud.google.com/document-ai/docs/reference/rest/v1/Document) format."
      ]
    },
    {
      "cell_type": "markdown",
      "metadata": {
        "id": "t9URyhLDo4jk"
      },
      "source": [
        "### Create a processor\n",
        "\n",
        "Set these variables below:\n",
        "\n",
        "1. Enter `YOUR_PROJECT_ID` in project_id\n",
        "2. Enter `YOUR_PROCESSOR_DISPLAY_NAME` for `processor_display_name`. For example `processor_display_name = \"my processor\"`, before running the code below.\n",
        "\n",
        "Note:  Run this code only once to create the processor.\n",
        "You cannot create multiple processors with the same display name. If you receieve an error, change the name of the processor and rerun."
      ]
    },
    {
      "cell_type": "code",
      "execution_count": null,
      "metadata": {
        "id": "7isig7e07O-a",
        "colab": {
          "base_uri": "https://localhost:8080/"
        },
        "outputId": "90ba473e-bfe4-418c-a016-9422d048950d"
      },
      "outputs": [
        {
          "output_type": "stream",
          "name": "stdout",
          "text": [
            "Created Processor projects/474775107710/locations/us/processors/a9dcb8674d28787e\n"
          ]
        }
      ],
      "source": [
        "\n",
        "\n",
        "# TODO(developer): Edit these variables before running the code.\n",
        "project_id = \"kaggle-on-gcp\"\n",
        "\n",
        "# See https://cloud.google.com/document-ai/docs/regions for all options.\n",
        "location = \"us\"\n",
        "\n",
        "# Must be unique per project, e.g.: \"My Processor\"\n",
        "processor_display_name = \"Doc-processor-mmona\"\n",
        "\n",
        "# You must set the `api_endpoint` if you use a location other than \"us\".\n",
        "client_options = ClientOptions(api_endpoint=f\"{location}-documentai.googleapis.com\")\n",
        "\n",
        "\n",
        "def create_processor(\n",
        "    project_id: str, location: str, processor_display_name: str\n",
        ") -> documentai.Processor:\n",
        "    client = documentai.DocumentProcessorServiceClient(client_options=client_options)\n",
        "\n",
        "    # The full resource name of the location\n",
        "    # e.g.: projects/project_id/locations/location\n",
        "    parent = client.common_location_path(project_id, location)\n",
        "\n",
        "    # Create a processor\n",
        "    return client.create_processor(\n",
        "        parent=parent,\n",
        "        processor=documentai.Processor(\n",
        "            display_name=processor_display_name, type_=\"OCR_PROCESSOR\"\n",
        "        ),\n",
        "    )\n",
        "\n",
        "\n",
        "try:\n",
        "    processor = create_processor(project_id, location, processor_display_name)\n",
        "    print(f\"Created Processor {processor.name}\")\n",
        "except AlreadyExists as e:\n",
        "    print(\n",
        "        f\"Processor already exits, change the processor name and rerun this code. {e.message}\"\n",
        "    )"
      ]
    },
    {
      "cell_type": "markdown",
      "metadata": {
        "id": "JkK74RRio4jk",
        "tags": []
      },
      "source": [
        "### Process the documents\n",
        "\n",
        "Process document takes the processor name and file path of the document and extracts the text from the document."
      ]
    },
    {
      "cell_type": "code",
      "execution_count": null,
      "metadata": {
        "id": "L7bE7ZGtlcxv"
      },
      "outputs": [],
      "source": [
        "def process_document(\n",
        "    processor_name: str,\n",
        "    file_path: str,\n",
        ") -> documentai.Document:\n",
        "    client = documentai.DocumentProcessorServiceClient(client_options=client_options)\n",
        "\n",
        "    # Read the file into memory\n",
        "    with open(file_path, \"rb\") as image:\n",
        "        image_content = image.read()\n",
        "\n",
        "    # Load Binary Data into Document AI RawDocument Object\n",
        "    raw_document = documentai.RawDocument(\n",
        "        content=image_content, mime_type=\"application/pdf\"\n",
        "    )\n",
        "\n",
        "    # Configure the process request\n",
        "    request = documentai.ProcessRequest(name=processor_name, raw_document=raw_document)\n",
        "\n",
        "    result = client.process_document(request=request)\n",
        "\n",
        "    return result.document"
      ]
    },
    {
      "cell_type": "markdown",
      "metadata": {
        "id": "usKPLAna5mLd"
      },
      "source": [
        "#### Create data chunks\n",
        "\n",
        "LLMs produce the best results when documents text is broken up into small \"chunks\" before being added to the prompt.\n",
        "\n",
        "Chunking is a technique used to break a document into smaller chunks that are easier to process. This can be done by dividing the document into sentences, paragraphs, or even sections.\n",
        "\n",
        "The current token size limit for PaLM is 8196 tokens. This means that a single request to the PaLM API can only process a document that is up to 8196 tokens long. If the document is longer than this, it will need to be broken up into smaller chunks.\n",
        "\n",
        "Chunking can be used to adjust for the token size limit in PaLM by breaking the document up into smaller chunks that are each less than 8196 tokens long. This allows the document to be processed in smaller, more manageable chunks.\n",
        "The best chunk size depends on the size of the documents. It is a good idea to experiment with different chunk sizes to see what works best for your specific dataset and application. For the provided documents, we are taking `5000` as a `chunk_value`. You should experiment with other values as well and see how it affects your summarization."
      ]
    },
    {
      "cell_type": "code",
      "execution_count": null,
      "metadata": {
        "id": "nDf7Zw3SGuyW",
        "colab": {
          "base_uri": "https://localhost:8080/"
        },
        "outputId": "af42db43-2815-4c01-d25e-636fee5b4b1b"
      },
      "outputs": [
        {
          "output_type": "stream",
          "name": "stdout",
          "text": [
            "Processing docai/documents_20220202_alphabet_10K\n",
            "Processing docai/20230426_alphabet_10Q-pages-1-14\n",
            "Processing docai/20230203_alphabet_10K-pages-1-14-compressed\n"
          ]
        }
      ],
      "source": [
        "\n",
        "\n",
        "# If you already have a Document AI Processor in your project, assign the full processor resource name here.\n",
        "processor_name = processor.name\n",
        "chunk_size = 5000\n",
        "extracted_data: List[Dict] = []\n",
        "\n",
        "# Loop through each PDF file in the \"docai\" directory.\n",
        "for path in glob.glob(\"docai/*.pdf\"):\n",
        "    # Extract the file name and type from the path.\n",
        "    file_name, file_type = os.path.splitext(path)\n",
        "\n",
        "    print(f\"Processing {file_name}\")\n",
        "\n",
        "    # Process the document.\n",
        "    document = process_document(processor_name, file_path=path)\n",
        "\n",
        "    if document:\n",
        "        # Split the text into chunks of the specified size.\n",
        "        document_chunks = textwrap.wrap(text=document.text, width=chunk_size)\n",
        "\n",
        "        # Loop through each chunk and create a dictionary with metadata and content.\n",
        "        for chunk_number, chunk_content in enumerate(document_chunks, start=1):\n",
        "            # Append the chunk information to the extracted_data list.\n",
        "            extracted_data.append(\n",
        "                {\n",
        "                    \"file_name\": file_name,\n",
        "                    \"file_type\": file_type,\n",
        "                    \"chunk_number\": chunk_number,\n",
        "                    \"content\": chunk_content,\n",
        "                }\n",
        "            )"
      ]
    },
    {
      "cell_type": "code",
      "execution_count": null,
      "metadata": {
        "id": "zbPhNWEGw1hC",
        "colab": {
          "base_uri": "https://localhost:8080/",
          "height": 206
        },
        "outputId": "2693d25b-acd6-4e54-d95f-73fc2d9033ca"
      },
      "outputs": [
        {
          "output_type": "execute_result",
          "data": {
            "text/plain": [
              "                                           file_name file_type  chunk_number  \\\n",
              "0  docai/20230203_alphabet_10K-pages-1-14-compressed      .pdf            13   \n",
              "1  docai/20230203_alphabet_10K-pages-1-14-compressed      .pdf            11   \n",
              "2  docai/20230203_alphabet_10K-pages-1-14-compressed      .pdf            10   \n",
              "3  docai/20230203_alphabet_10K-pages-1-14-compressed      .pdf             9   \n",
              "4  docai/20230203_alphabet_10K-pages-1-14-compressed      .pdf             8   \n",
              "\n",
              "                                             content  \n",
              "0  that might prevent us from repatriating cash e...  \n",
              "1  certain innovations that later turn out to be ...  \n",
              "2  Contents Alphabet Inc. Within Google Cloud, we...  \n",
              "3  digital advertising. Failing to provide superi...  \n",
              "4  remain uncertain. Particularly with regard to ...  "
            ],
            "text/html": [
              "\n",
              "  <div id=\"df-8c68c8be-9153-4fb1-97ab-34cb97dab9a0\" class=\"colab-df-container\">\n",
              "    <div>\n",
              "<style scoped>\n",
              "    .dataframe tbody tr th:only-of-type {\n",
              "        vertical-align: middle;\n",
              "    }\n",
              "\n",
              "    .dataframe tbody tr th {\n",
              "        vertical-align: top;\n",
              "    }\n",
              "\n",
              "    .dataframe thead th {\n",
              "        text-align: right;\n",
              "    }\n",
              "</style>\n",
              "<table border=\"1\" class=\"dataframe\">\n",
              "  <thead>\n",
              "    <tr style=\"text-align: right;\">\n",
              "      <th></th>\n",
              "      <th>file_name</th>\n",
              "      <th>file_type</th>\n",
              "      <th>chunk_number</th>\n",
              "      <th>content</th>\n",
              "    </tr>\n",
              "  </thead>\n",
              "  <tbody>\n",
              "    <tr>\n",
              "      <th>0</th>\n",
              "      <td>docai/20230203_alphabet_10K-pages-1-14-compressed</td>\n",
              "      <td>.pdf</td>\n",
              "      <td>13</td>\n",
              "      <td>that might prevent us from repatriating cash e...</td>\n",
              "    </tr>\n",
              "    <tr>\n",
              "      <th>1</th>\n",
              "      <td>docai/20230203_alphabet_10K-pages-1-14-compressed</td>\n",
              "      <td>.pdf</td>\n",
              "      <td>11</td>\n",
              "      <td>certain innovations that later turn out to be ...</td>\n",
              "    </tr>\n",
              "    <tr>\n",
              "      <th>2</th>\n",
              "      <td>docai/20230203_alphabet_10K-pages-1-14-compressed</td>\n",
              "      <td>.pdf</td>\n",
              "      <td>10</td>\n",
              "      <td>Contents Alphabet Inc. Within Google Cloud, we...</td>\n",
              "    </tr>\n",
              "    <tr>\n",
              "      <th>3</th>\n",
              "      <td>docai/20230203_alphabet_10K-pages-1-14-compressed</td>\n",
              "      <td>.pdf</td>\n",
              "      <td>9</td>\n",
              "      <td>digital advertising. Failing to provide superi...</td>\n",
              "    </tr>\n",
              "    <tr>\n",
              "      <th>4</th>\n",
              "      <td>docai/20230203_alphabet_10K-pages-1-14-compressed</td>\n",
              "      <td>.pdf</td>\n",
              "      <td>8</td>\n",
              "      <td>remain uncertain. Particularly with regard to ...</td>\n",
              "    </tr>\n",
              "  </tbody>\n",
              "</table>\n",
              "</div>\n",
              "    <div class=\"colab-df-buttons\">\n",
              "\n",
              "  <div class=\"colab-df-container\">\n",
              "    <button class=\"colab-df-convert\" onclick=\"convertToInteractive('df-8c68c8be-9153-4fb1-97ab-34cb97dab9a0')\"\n",
              "            title=\"Convert this dataframe to an interactive table.\"\n",
              "            style=\"display:none;\">\n",
              "\n",
              "  <svg xmlns=\"http://www.w3.org/2000/svg\" height=\"24px\" viewBox=\"0 -960 960 960\">\n",
              "    <path d=\"M120-120v-720h720v720H120Zm60-500h600v-160H180v160Zm220 220h160v-160H400v160Zm0 220h160v-160H400v160ZM180-400h160v-160H180v160Zm440 0h160v-160H620v160ZM180-180h160v-160H180v160Zm440 0h160v-160H620v160Z\"/>\n",
              "  </svg>\n",
              "    </button>\n",
              "\n",
              "  <style>\n",
              "    .colab-df-container {\n",
              "      display:flex;\n",
              "      gap: 12px;\n",
              "    }\n",
              "\n",
              "    .colab-df-convert {\n",
              "      background-color: #E8F0FE;\n",
              "      border: none;\n",
              "      border-radius: 50%;\n",
              "      cursor: pointer;\n",
              "      display: none;\n",
              "      fill: #1967D2;\n",
              "      height: 32px;\n",
              "      padding: 0 0 0 0;\n",
              "      width: 32px;\n",
              "    }\n",
              "\n",
              "    .colab-df-convert:hover {\n",
              "      background-color: #E2EBFA;\n",
              "      box-shadow: 0px 1px 2px rgba(60, 64, 67, 0.3), 0px 1px 3px 1px rgba(60, 64, 67, 0.15);\n",
              "      fill: #174EA6;\n",
              "    }\n",
              "\n",
              "    .colab-df-buttons div {\n",
              "      margin-bottom: 4px;\n",
              "    }\n",
              "\n",
              "    [theme=dark] .colab-df-convert {\n",
              "      background-color: #3B4455;\n",
              "      fill: #D2E3FC;\n",
              "    }\n",
              "\n",
              "    [theme=dark] .colab-df-convert:hover {\n",
              "      background-color: #434B5C;\n",
              "      box-shadow: 0px 1px 3px 1px rgba(0, 0, 0, 0.15);\n",
              "      filter: drop-shadow(0px 1px 2px rgba(0, 0, 0, 0.3));\n",
              "      fill: #FFFFFF;\n",
              "    }\n",
              "  </style>\n",
              "\n",
              "    <script>\n",
              "      const buttonEl =\n",
              "        document.querySelector('#df-8c68c8be-9153-4fb1-97ab-34cb97dab9a0 button.colab-df-convert');\n",
              "      buttonEl.style.display =\n",
              "        google.colab.kernel.accessAllowed ? 'block' : 'none';\n",
              "\n",
              "      async function convertToInteractive(key) {\n",
              "        const element = document.querySelector('#df-8c68c8be-9153-4fb1-97ab-34cb97dab9a0');\n",
              "        const dataTable =\n",
              "          await google.colab.kernel.invokeFunction('convertToInteractive',\n",
              "                                                    [key], {});\n",
              "        if (!dataTable) return;\n",
              "\n",
              "        const docLinkHtml = 'Like what you see? Visit the ' +\n",
              "          '<a target=\"_blank\" href=https://colab.research.google.com/notebooks/data_table.ipynb>data table notebook</a>'\n",
              "          + ' to learn more about interactive tables.';\n",
              "        element.innerHTML = '';\n",
              "        dataTable['output_type'] = 'display_data';\n",
              "        await google.colab.output.renderOutput(dataTable, element);\n",
              "        const docLink = document.createElement('div');\n",
              "        docLink.innerHTML = docLinkHtml;\n",
              "        element.appendChild(docLink);\n",
              "      }\n",
              "    </script>\n",
              "  </div>\n",
              "\n",
              "\n",
              "<div id=\"df-841d17c5-eec9-496a-b3ee-65f76c781b79\">\n",
              "  <button class=\"colab-df-quickchart\" onclick=\"quickchart('df-841d17c5-eec9-496a-b3ee-65f76c781b79')\"\n",
              "            title=\"Suggest charts\"\n",
              "            style=\"display:none;\">\n",
              "\n",
              "<svg xmlns=\"http://www.w3.org/2000/svg\" height=\"24px\"viewBox=\"0 0 24 24\"\n",
              "     width=\"24px\">\n",
              "    <g>\n",
              "        <path d=\"M19 3H5c-1.1 0-2 .9-2 2v14c0 1.1.9 2 2 2h14c1.1 0 2-.9 2-2V5c0-1.1-.9-2-2-2zM9 17H7v-7h2v7zm4 0h-2V7h2v10zm4 0h-2v-4h2v4z\"/>\n",
              "    </g>\n",
              "</svg>\n",
              "  </button>\n",
              "\n",
              "<style>\n",
              "  .colab-df-quickchart {\n",
              "      --bg-color: #E8F0FE;\n",
              "      --fill-color: #1967D2;\n",
              "      --hover-bg-color: #E2EBFA;\n",
              "      --hover-fill-color: #174EA6;\n",
              "      --disabled-fill-color: #AAA;\n",
              "      --disabled-bg-color: #DDD;\n",
              "  }\n",
              "\n",
              "  [theme=dark] .colab-df-quickchart {\n",
              "      --bg-color: #3B4455;\n",
              "      --fill-color: #D2E3FC;\n",
              "      --hover-bg-color: #434B5C;\n",
              "      --hover-fill-color: #FFFFFF;\n",
              "      --disabled-bg-color: #3B4455;\n",
              "      --disabled-fill-color: #666;\n",
              "  }\n",
              "\n",
              "  .colab-df-quickchart {\n",
              "    background-color: var(--bg-color);\n",
              "    border: none;\n",
              "    border-radius: 50%;\n",
              "    cursor: pointer;\n",
              "    display: none;\n",
              "    fill: var(--fill-color);\n",
              "    height: 32px;\n",
              "    padding: 0;\n",
              "    width: 32px;\n",
              "  }\n",
              "\n",
              "  .colab-df-quickchart:hover {\n",
              "    background-color: var(--hover-bg-color);\n",
              "    box-shadow: 0 1px 2px rgba(60, 64, 67, 0.3), 0 1px 3px 1px rgba(60, 64, 67, 0.15);\n",
              "    fill: var(--button-hover-fill-color);\n",
              "  }\n",
              "\n",
              "  .colab-df-quickchart-complete:disabled,\n",
              "  .colab-df-quickchart-complete:disabled:hover {\n",
              "    background-color: var(--disabled-bg-color);\n",
              "    fill: var(--disabled-fill-color);\n",
              "    box-shadow: none;\n",
              "  }\n",
              "\n",
              "  .colab-df-spinner {\n",
              "    border: 2px solid var(--fill-color);\n",
              "    border-color: transparent;\n",
              "    border-bottom-color: var(--fill-color);\n",
              "    animation:\n",
              "      spin 1s steps(1) infinite;\n",
              "  }\n",
              "\n",
              "  @keyframes spin {\n",
              "    0% {\n",
              "      border-color: transparent;\n",
              "      border-bottom-color: var(--fill-color);\n",
              "      border-left-color: var(--fill-color);\n",
              "    }\n",
              "    20% {\n",
              "      border-color: transparent;\n",
              "      border-left-color: var(--fill-color);\n",
              "      border-top-color: var(--fill-color);\n",
              "    }\n",
              "    30% {\n",
              "      border-color: transparent;\n",
              "      border-left-color: var(--fill-color);\n",
              "      border-top-color: var(--fill-color);\n",
              "      border-right-color: var(--fill-color);\n",
              "    }\n",
              "    40% {\n",
              "      border-color: transparent;\n",
              "      border-right-color: var(--fill-color);\n",
              "      border-top-color: var(--fill-color);\n",
              "    }\n",
              "    60% {\n",
              "      border-color: transparent;\n",
              "      border-right-color: var(--fill-color);\n",
              "    }\n",
              "    80% {\n",
              "      border-color: transparent;\n",
              "      border-right-color: var(--fill-color);\n",
              "      border-bottom-color: var(--fill-color);\n",
              "    }\n",
              "    90% {\n",
              "      border-color: transparent;\n",
              "      border-bottom-color: var(--fill-color);\n",
              "    }\n",
              "  }\n",
              "</style>\n",
              "\n",
              "  <script>\n",
              "    async function quickchart(key) {\n",
              "      const quickchartButtonEl =\n",
              "        document.querySelector('#' + key + ' button');\n",
              "      quickchartButtonEl.disabled = true;  // To prevent multiple clicks.\n",
              "      quickchartButtonEl.classList.add('colab-df-spinner');\n",
              "      try {\n",
              "        const charts = await google.colab.kernel.invokeFunction(\n",
              "            'suggestCharts', [key], {});\n",
              "      } catch (error) {\n",
              "        console.error('Error during call to suggestCharts:', error);\n",
              "      }\n",
              "      quickchartButtonEl.classList.remove('colab-df-spinner');\n",
              "      quickchartButtonEl.classList.add('colab-df-quickchart-complete');\n",
              "    }\n",
              "    (() => {\n",
              "      let quickchartButtonEl =\n",
              "        document.querySelector('#df-841d17c5-eec9-496a-b3ee-65f76c781b79 button');\n",
              "      quickchartButtonEl.style.display =\n",
              "        google.colab.kernel.accessAllowed ? 'block' : 'none';\n",
              "    })();\n",
              "  </script>\n",
              "</div>\n",
              "\n",
              "    </div>\n",
              "  </div>\n"
            ],
            "application/vnd.google.colaboratory.intrinsic+json": {
              "type": "dataframe",
              "variable_name": "pdf_data",
              "summary": "{\n  \"name\": \"pdf_data\",\n  \"rows\": 33,\n  \"fields\": [\n    {\n      \"column\": \"file_name\",\n      \"properties\": {\n        \"dtype\": \"category\",\n        \"num_unique_values\": 3,\n        \"samples\": [\n          \"docai/20230203_alphabet_10K-pages-1-14-compressed\",\n          \"docai/20230426_alphabet_10Q-pages-1-14\",\n          \"docai/documents_20220202_alphabet_10K\"\n        ],\n        \"semantic_type\": \"\",\n        \"description\": \"\"\n      }\n    },\n    {\n      \"column\": \"file_type\",\n      \"properties\": {\n        \"dtype\": \"category\",\n        \"num_unique_values\": 1,\n        \"samples\": [\n          \".pdf\"\n        ],\n        \"semantic_type\": \"\",\n        \"description\": \"\"\n      }\n    },\n    {\n      \"column\": \"chunk_number\",\n      \"properties\": {\n        \"dtype\": \"number\",\n        \"std\": 3,\n        \"min\": 1,\n        \"max\": 13,\n        \"num_unique_values\": 13,\n        \"samples\": [\n          1\n        ],\n        \"semantic_type\": \"\",\n        \"description\": \"\"\n      }\n    },\n    {\n      \"column\": \"content\",\n      \"properties\": {\n        \"dtype\": \"string\",\n        \"num_unique_values\": 33,\n        \"samples\": [\n          \"Report on Form 10-K to the extent stated herein. Such proxy statement will be filed with the Securities and Exchange Commission within 120 days of the registrant's fiscal year ended December 31, 2021. Table of Contents Alphabet Inc. Form 10-K For the Fiscal Year Ended December 31, 2021 Note About Forward-Looking Statements TABLE OF CONTENTS Alphabet Inc. Page PART I Item 1. Business Item 1A. Risk Factors Item 1B. Unresolved Staff Comments Item 2. Properties Item 3. Legal Proceedings Item 4. Mine Safety Disclosures 22222 4 10 24 24 24 24 PART II Item 5. Market for Registrant's Common Equity, Related Stockholder Matters and Issuer Purchases of Equity Securities 25 Item 6. [Reserved] 27 Item 7. Item 7A. Management's Discussion and Analysis of Financial Condition and Results of Operations Quantitative and Qualitative Disclosures About Market Risk 28 42 Item 8. Financial Statements and Supplementary Data 45 Item 9. Item 9A. Changes in and Disagreements With Accountants on Accounting and Financial Disclosure Controls and Procedures 86 86 Item 9B. Other Information 86 Item 9C. Disclosure Regarding Foreign Jurisdictions that Prevent Inspections 87 PART III Item 10. Directors, Executive Officers and Corporate Governance 88 Item 11. Executive Compensation 88 Item 12. Security Ownership of Certain Beneficial Owners and Management and Related Stockholder Matters 88 Item 13. Item 14. Certain Relationships and Related Transactions, and Director Independence Principal Accountant Fees and Services 88 88 PART IV Item 15. Item 16. Exhibits, Financial Statement Schedules 89 Form 10-K Summary 92 Signatures 2 Table of Contents NOTE ABOUT FORWARD-LOOKING STATEMENTS Alphabet Inc. This Annual Report on Form 10-K contains forward-looking statements within the meaning of the Private Securities Litigation Reform Act of 1995. These include, among other things, statements regarding: \\u2022 \\u2022 \\u2022 \\u2022 \\u2022 \\u2022 \\u2022 \\u2022 \\u2022 \\u2022 \\u2022 \\u2022 \\u2022 \\u2022 \\u2022 \\u2022 the ongoing effect of the novel coronavirus pandemic (\\\"COVID-19\\\"), including its macroeconomic effects on our business, operations, and financial results; the growth of our business and revenues and our expectations about the factors that influence our success and trends in our business; fluctuations in our revenue growth rate and operating margin and various factors contributing to such fluctuations; our expectation that the continuing shift from an offline to online world will continue to benefit our business; our expectation that the portion of our revenues that we derive from non-advertising revenues will continue to increase and may affect our margins; our expectation that our traffic acquisition costs (TAC) and the associated TAC rate will fluctuate, which could affect our overall margins; our expectation that our monetization trends will fluctuate, which could affect our revenues and margins; fluctuations in our revenue growth, as well as the change in paid clicks and cost-per-click and the change in impressions and cost-per-impression, and various factors contributing to such fluctuations; our expectation that we will continue to periodically review, refine, and update our methodologies for monitoring, gathering, and counting the number of paid clicks and impressions; our expectation that our results will be affected by our performance in international markets as users in developing economies increasingly come online; our expectation that our foreign exchange risk management program will not fully offset our net exposure to fluctuations in foreign currency exchange rates; the expected variability of gains and losses related to hedging activities under our foreign exchange risk management program; the amount and timing of revenue recognition from customer contracts with commitments for performance obligations, including our estimate of the remaining amount of commitments and when we expect to recognize revenue; fluctuations in our capital expenditures; our plans to continue to invest in new businesses, products, services and technologies, systems, land and buildings for data centers and offices, and infrastructure, as well as to continue to invest in acquisitions and strategic investments; our pace of hiring and our plans to provide competitive compensation programs; our expectation that our cost of revenues, research and development (R&D) expenses, sales and marketing expenses, and general and administrative expenses may increase in amount and/or may increase as a percentage of revenues and may be affected by a number of factors; \\u2022 estimates of our future compensation expenses; \\u2022 . our expectation that our other income (expense), net (OI&E), will fluctuate in the future, as it is largely driven by market dynamics; fluctuations in our effective tax rate; seasonal fluctuations in internet usage and advertiser expenditures, underlying business trends such as traditional retail seasonality, which are likely to cause fluctuations in our quarterly results; \\u2022 the sufficiency of our sources of funding; \\u2022 our potential\"\n        ],\n        \"semantic_type\": \"\",\n        \"description\": \"\"\n      }\n    }\n  ]\n}"
            }
          },
          "metadata": {},
          "execution_count": 11
        }
      ],
      "source": [
        "\n",
        "# Convert extracted_data to a sorted Pandas DataFrame\n",
        "pdf_data = pd.DataFrame.from_dict(extracted_data).sort_values(by=[\"file_name\"]).reset_index(drop=True)\n",
        "\n",
        "pdf_data.head()"
      ]
    },
    {
      "cell_type": "code",
      "execution_count": null,
      "metadata": {
        "id": "y3r_0YLUw1hD",
        "colab": {
          "base_uri": "https://localhost:8080/",
          "height": 293
        },
        "outputId": "45aa8351-5f6f-4f2e-bb88-268dc1b21798"
      },
      "outputs": [
        {
          "output_type": "execute_result",
          "data": {
            "text/plain": [
              "                                           file_name file_type  chunk_number  \\\n",
              "0  docai/20230203_alphabet_10K-pages-1-14-compressed      .pdf            13   \n",
              "1  docai/20230203_alphabet_10K-pages-1-14-compressed      .pdf            11   \n",
              "2  docai/20230203_alphabet_10K-pages-1-14-compressed      .pdf            10   \n",
              "3  docai/20230203_alphabet_10K-pages-1-14-compressed      .pdf             9   \n",
              "4  docai/20230203_alphabet_10K-pages-1-14-compressed      .pdf             8   \n",
              "\n",
              "                                             content  \\\n",
              "0  that might prevent us from repatriating cash e...   \n",
              "1  certain innovations that later turn out to be ...   \n",
              "2  Contents Alphabet Inc Within Google Cloud we d...   \n",
              "3  digital advertising Failing to provide superio...   \n",
              "4  remain uncertain Particularly with regard to d...   \n",
              "\n",
              "                                              chunks  \n",
              "0  that might prevent us from repatriating cash e...  \n",
              "1  certain innovations that later turn out to be ...  \n",
              "2  Contents Alphabet Inc Within Google Cloud we d...  \n",
              "3  digital advertising Failing to provide superio...  \n",
              "4  remain uncertain Particularly with regard to d...  "
            ],
            "text/html": [
              "\n",
              "  <div id=\"df-138e147e-b410-4f41-b720-e01ce7a7c6f4\" class=\"colab-df-container\">\n",
              "    <div>\n",
              "<style scoped>\n",
              "    .dataframe tbody tr th:only-of-type {\n",
              "        vertical-align: middle;\n",
              "    }\n",
              "\n",
              "    .dataframe tbody tr th {\n",
              "        vertical-align: top;\n",
              "    }\n",
              "\n",
              "    .dataframe thead th {\n",
              "        text-align: right;\n",
              "    }\n",
              "</style>\n",
              "<table border=\"1\" class=\"dataframe\">\n",
              "  <thead>\n",
              "    <tr style=\"text-align: right;\">\n",
              "      <th></th>\n",
              "      <th>file_name</th>\n",
              "      <th>file_type</th>\n",
              "      <th>chunk_number</th>\n",
              "      <th>content</th>\n",
              "      <th>chunks</th>\n",
              "    </tr>\n",
              "  </thead>\n",
              "  <tbody>\n",
              "    <tr>\n",
              "      <th>0</th>\n",
              "      <td>docai/20230203_alphabet_10K-pages-1-14-compressed</td>\n",
              "      <td>.pdf</td>\n",
              "      <td>13</td>\n",
              "      <td>that might prevent us from repatriating cash e...</td>\n",
              "      <td>that might prevent us from repatriating cash e...</td>\n",
              "    </tr>\n",
              "    <tr>\n",
              "      <th>1</th>\n",
              "      <td>docai/20230203_alphabet_10K-pages-1-14-compressed</td>\n",
              "      <td>.pdf</td>\n",
              "      <td>11</td>\n",
              "      <td>certain innovations that later turn out to be ...</td>\n",
              "      <td>certain innovations that later turn out to be ...</td>\n",
              "    </tr>\n",
              "    <tr>\n",
              "      <th>2</th>\n",
              "      <td>docai/20230203_alphabet_10K-pages-1-14-compressed</td>\n",
              "      <td>.pdf</td>\n",
              "      <td>10</td>\n",
              "      <td>Contents Alphabet Inc Within Google Cloud we d...</td>\n",
              "      <td>Contents Alphabet Inc Within Google Cloud we d...</td>\n",
              "    </tr>\n",
              "    <tr>\n",
              "      <th>3</th>\n",
              "      <td>docai/20230203_alphabet_10K-pages-1-14-compressed</td>\n",
              "      <td>.pdf</td>\n",
              "      <td>9</td>\n",
              "      <td>digital advertising Failing to provide superio...</td>\n",
              "      <td>digital advertising Failing to provide superio...</td>\n",
              "    </tr>\n",
              "    <tr>\n",
              "      <th>4</th>\n",
              "      <td>docai/20230203_alphabet_10K-pages-1-14-compressed</td>\n",
              "      <td>.pdf</td>\n",
              "      <td>8</td>\n",
              "      <td>remain uncertain Particularly with regard to d...</td>\n",
              "      <td>remain uncertain Particularly with regard to d...</td>\n",
              "    </tr>\n",
              "  </tbody>\n",
              "</table>\n",
              "</div>\n",
              "    <div class=\"colab-df-buttons\">\n",
              "\n",
              "  <div class=\"colab-df-container\">\n",
              "    <button class=\"colab-df-convert\" onclick=\"convertToInteractive('df-138e147e-b410-4f41-b720-e01ce7a7c6f4')\"\n",
              "            title=\"Convert this dataframe to an interactive table.\"\n",
              "            style=\"display:none;\">\n",
              "\n",
              "  <svg xmlns=\"http://www.w3.org/2000/svg\" height=\"24px\" viewBox=\"0 -960 960 960\">\n",
              "    <path d=\"M120-120v-720h720v720H120Zm60-500h600v-160H180v160Zm220 220h160v-160H400v160Zm0 220h160v-160H400v160ZM180-400h160v-160H180v160Zm440 0h160v-160H620v160ZM180-180h160v-160H180v160Zm440 0h160v-160H620v160Z\"/>\n",
              "  </svg>\n",
              "    </button>\n",
              "\n",
              "  <style>\n",
              "    .colab-df-container {\n",
              "      display:flex;\n",
              "      gap: 12px;\n",
              "    }\n",
              "\n",
              "    .colab-df-convert {\n",
              "      background-color: #E8F0FE;\n",
              "      border: none;\n",
              "      border-radius: 50%;\n",
              "      cursor: pointer;\n",
              "      display: none;\n",
              "      fill: #1967D2;\n",
              "      height: 32px;\n",
              "      padding: 0 0 0 0;\n",
              "      width: 32px;\n",
              "    }\n",
              "\n",
              "    .colab-df-convert:hover {\n",
              "      background-color: #E2EBFA;\n",
              "      box-shadow: 0px 1px 2px rgba(60, 64, 67, 0.3), 0px 1px 3px 1px rgba(60, 64, 67, 0.15);\n",
              "      fill: #174EA6;\n",
              "    }\n",
              "\n",
              "    .colab-df-buttons div {\n",
              "      margin-bottom: 4px;\n",
              "    }\n",
              "\n",
              "    [theme=dark] .colab-df-convert {\n",
              "      background-color: #3B4455;\n",
              "      fill: #D2E3FC;\n",
              "    }\n",
              "\n",
              "    [theme=dark] .colab-df-convert:hover {\n",
              "      background-color: #434B5C;\n",
              "      box-shadow: 0px 1px 3px 1px rgba(0, 0, 0, 0.15);\n",
              "      filter: drop-shadow(0px 1px 2px rgba(0, 0, 0, 0.3));\n",
              "      fill: #FFFFFF;\n",
              "    }\n",
              "  </style>\n",
              "\n",
              "    <script>\n",
              "      const buttonEl =\n",
              "        document.querySelector('#df-138e147e-b410-4f41-b720-e01ce7a7c6f4 button.colab-df-convert');\n",
              "      buttonEl.style.display =\n",
              "        google.colab.kernel.accessAllowed ? 'block' : 'none';\n",
              "\n",
              "      async function convertToInteractive(key) {\n",
              "        const element = document.querySelector('#df-138e147e-b410-4f41-b720-e01ce7a7c6f4');\n",
              "        const dataTable =\n",
              "          await google.colab.kernel.invokeFunction('convertToInteractive',\n",
              "                                                    [key], {});\n",
              "        if (!dataTable) return;\n",
              "\n",
              "        const docLinkHtml = 'Like what you see? Visit the ' +\n",
              "          '<a target=\"_blank\" href=https://colab.research.google.com/notebooks/data_table.ipynb>data table notebook</a>'\n",
              "          + ' to learn more about interactive tables.';\n",
              "        element.innerHTML = '';\n",
              "        dataTable['output_type'] = 'display_data';\n",
              "        await google.colab.output.renderOutput(dataTable, element);\n",
              "        const docLink = document.createElement('div');\n",
              "        docLink.innerHTML = docLinkHtml;\n",
              "        element.appendChild(docLink);\n",
              "      }\n",
              "    </script>\n",
              "  </div>\n",
              "\n",
              "\n",
              "<div id=\"df-617d7ee1-2c27-4be6-92d0-83dcbad39a2f\">\n",
              "  <button class=\"colab-df-quickchart\" onclick=\"quickchart('df-617d7ee1-2c27-4be6-92d0-83dcbad39a2f')\"\n",
              "            title=\"Suggest charts\"\n",
              "            style=\"display:none;\">\n",
              "\n",
              "<svg xmlns=\"http://www.w3.org/2000/svg\" height=\"24px\"viewBox=\"0 0 24 24\"\n",
              "     width=\"24px\">\n",
              "    <g>\n",
              "        <path d=\"M19 3H5c-1.1 0-2 .9-2 2v14c0 1.1.9 2 2 2h14c1.1 0 2-.9 2-2V5c0-1.1-.9-2-2-2zM9 17H7v-7h2v7zm4 0h-2V7h2v10zm4 0h-2v-4h2v4z\"/>\n",
              "    </g>\n",
              "</svg>\n",
              "  </button>\n",
              "\n",
              "<style>\n",
              "  .colab-df-quickchart {\n",
              "      --bg-color: #E8F0FE;\n",
              "      --fill-color: #1967D2;\n",
              "      --hover-bg-color: #E2EBFA;\n",
              "      --hover-fill-color: #174EA6;\n",
              "      --disabled-fill-color: #AAA;\n",
              "      --disabled-bg-color: #DDD;\n",
              "  }\n",
              "\n",
              "  [theme=dark] .colab-df-quickchart {\n",
              "      --bg-color: #3B4455;\n",
              "      --fill-color: #D2E3FC;\n",
              "      --hover-bg-color: #434B5C;\n",
              "      --hover-fill-color: #FFFFFF;\n",
              "      --disabled-bg-color: #3B4455;\n",
              "      --disabled-fill-color: #666;\n",
              "  }\n",
              "\n",
              "  .colab-df-quickchart {\n",
              "    background-color: var(--bg-color);\n",
              "    border: none;\n",
              "    border-radius: 50%;\n",
              "    cursor: pointer;\n",
              "    display: none;\n",
              "    fill: var(--fill-color);\n",
              "    height: 32px;\n",
              "    padding: 0;\n",
              "    width: 32px;\n",
              "  }\n",
              "\n",
              "  .colab-df-quickchart:hover {\n",
              "    background-color: var(--hover-bg-color);\n",
              "    box-shadow: 0 1px 2px rgba(60, 64, 67, 0.3), 0 1px 3px 1px rgba(60, 64, 67, 0.15);\n",
              "    fill: var(--button-hover-fill-color);\n",
              "  }\n",
              "\n",
              "  .colab-df-quickchart-complete:disabled,\n",
              "  .colab-df-quickchart-complete:disabled:hover {\n",
              "    background-color: var(--disabled-bg-color);\n",
              "    fill: var(--disabled-fill-color);\n",
              "    box-shadow: none;\n",
              "  }\n",
              "\n",
              "  .colab-df-spinner {\n",
              "    border: 2px solid var(--fill-color);\n",
              "    border-color: transparent;\n",
              "    border-bottom-color: var(--fill-color);\n",
              "    animation:\n",
              "      spin 1s steps(1) infinite;\n",
              "  }\n",
              "\n",
              "  @keyframes spin {\n",
              "    0% {\n",
              "      border-color: transparent;\n",
              "      border-bottom-color: var(--fill-color);\n",
              "      border-left-color: var(--fill-color);\n",
              "    }\n",
              "    20% {\n",
              "      border-color: transparent;\n",
              "      border-left-color: var(--fill-color);\n",
              "      border-top-color: var(--fill-color);\n",
              "    }\n",
              "    30% {\n",
              "      border-color: transparent;\n",
              "      border-left-color: var(--fill-color);\n",
              "      border-top-color: var(--fill-color);\n",
              "      border-right-color: var(--fill-color);\n",
              "    }\n",
              "    40% {\n",
              "      border-color: transparent;\n",
              "      border-right-color: var(--fill-color);\n",
              "      border-top-color: var(--fill-color);\n",
              "    }\n",
              "    60% {\n",
              "      border-color: transparent;\n",
              "      border-right-color: var(--fill-color);\n",
              "    }\n",
              "    80% {\n",
              "      border-color: transparent;\n",
              "      border-right-color: var(--fill-color);\n",
              "      border-bottom-color: var(--fill-color);\n",
              "    }\n",
              "    90% {\n",
              "      border-color: transparent;\n",
              "      border-bottom-color: var(--fill-color);\n",
              "    }\n",
              "  }\n",
              "</style>\n",
              "\n",
              "  <script>\n",
              "    async function quickchart(key) {\n",
              "      const quickchartButtonEl =\n",
              "        document.querySelector('#' + key + ' button');\n",
              "      quickchartButtonEl.disabled = true;  // To prevent multiple clicks.\n",
              "      quickchartButtonEl.classList.add('colab-df-spinner');\n",
              "      try {\n",
              "        const charts = await google.colab.kernel.invokeFunction(\n",
              "            'suggestCharts', [key], {});\n",
              "      } catch (error) {\n",
              "        console.error('Error during call to suggestCharts:', error);\n",
              "      }\n",
              "      quickchartButtonEl.classList.remove('colab-df-spinner');\n",
              "      quickchartButtonEl.classList.add('colab-df-quickchart-complete');\n",
              "    }\n",
              "    (() => {\n",
              "      let quickchartButtonEl =\n",
              "        document.querySelector('#df-617d7ee1-2c27-4be6-92d0-83dcbad39a2f button');\n",
              "      quickchartButtonEl.style.display =\n",
              "        google.colab.kernel.accessAllowed ? 'block' : 'none';\n",
              "    })();\n",
              "  </script>\n",
              "</div>\n",
              "\n",
              "    </div>\n",
              "  </div>\n"
            ],
            "application/vnd.google.colaboratory.intrinsic+json": {
              "type": "dataframe",
              "variable_name": "pdf_data_sample",
              "summary": "{\n  \"name\": \"pdf_data_sample\",\n  \"rows\": 33,\n  \"fields\": [\n    {\n      \"column\": \"file_name\",\n      \"properties\": {\n        \"dtype\": \"category\",\n        \"num_unique_values\": 3,\n        \"samples\": [\n          \"docai/20230203_alphabet_10K-pages-1-14-compressed\",\n          \"docai/20230426_alphabet_10Q-pages-1-14\",\n          \"docai/documents_20220202_alphabet_10K\"\n        ],\n        \"semantic_type\": \"\",\n        \"description\": \"\"\n      }\n    },\n    {\n      \"column\": \"file_type\",\n      \"properties\": {\n        \"dtype\": \"category\",\n        \"num_unique_values\": 1,\n        \"samples\": [\n          \".pdf\"\n        ],\n        \"semantic_type\": \"\",\n        \"description\": \"\"\n      }\n    },\n    {\n      \"column\": \"chunk_number\",\n      \"properties\": {\n        \"dtype\": \"number\",\n        \"std\": 3,\n        \"min\": 1,\n        \"max\": 13,\n        \"num_unique_values\": 13,\n        \"samples\": [\n          1\n        ],\n        \"semantic_type\": \"\",\n        \"description\": \"\"\n      }\n    },\n    {\n      \"column\": \"content\",\n      \"properties\": {\n        \"dtype\": \"string\",\n        \"num_unique_values\": 33,\n        \"samples\": [\n          \"Report on Form 10 K to the extent stated herein Such proxy statement will be filed with the Securities and Exchange Commission within 120 days of the registrant s fiscal year ended December 31 2021 Table of Contents Alphabet Inc Form 10 K For the Fiscal Year Ended December 31 2021 Note About Forward Looking Statements TABLE OF CONTENTS Alphabet Inc Page PART I Item 1 Business Item 1A Risk Factors Item 1B Unresolved Staff Comments Item 2 Properties Item 3 Legal Proceedings Item 4 Mine Safety Disclosures 22222 4 10 24 24 24 24 PART II Item 5 Market for Registrant s Common Equity Related Stockholder Matters and Issuer Purchases of Equity Securities 25 Item 6 Reserved 27 Item 7 Item 7A Management s Discussion and Analysis of Financial Condition and Results of Operations Quantitative and Qualitative Disclosures About Market Risk 28 42 Item 8 Financial Statements and Supplementary Data 45 Item 9 Item 9A Changes in and Disagreements With Accountants on Accounting and Financial Disclosure Controls and Procedures 86 86 Item 9B Other Information 86 Item 9C Disclosure Regarding Foreign Jurisdictions that Prevent Inspections 87 PART III Item 10 Directors Executive Officers and Corporate Governance 88 Item 11 Executive Compensation 88 Item 12 Security Ownership of Certain Beneficial Owners and Management and Related Stockholder Matters 88 Item 13 Item 14 Certain Relationships and Related Transactions and Director Independence Principal Accountant Fees and Services 88 88 PART IV Item 15 Item 16 Exhibits Financial Statement Schedules 89 Form 10 K Summary 92 Signatures 2 Table of Contents NOTE ABOUT FORWARD LOOKING STATEMENTS Alphabet Inc This Annual Report on Form 10 K contains forward looking statements within the meaning of the Private Securities Litigation Reform Act of 1995 These include among other things statements regarding the ongoing effect of the novel coronavirus pandemic COVID 19 including its macroeconomic effects on our business operations and financial results the growth of our business and revenues and our expectations about the factors that influence our success and trends in our business fluctuations in our revenue growth rate and operating margin and various factors contributing to such fluctuations our expectation that the continuing shift from an offline to online world will continue to benefit our business our expectation that the portion of our revenues that we derive from non advertising revenues will continue to increase and may affect our margins our expectation that our traffic acquisition costs TAC and the associated TAC rate will fluctuate which could affect our overall margins our expectation that our monetization trends will fluctuate which could affect our revenues and margins fluctuations in our revenue growth as well as the change in paid clicks and cost per click and the change in impressions and cost per impression and various factors contributing to such fluctuations our expectation that we will continue to periodically review refine and update our methodologies for monitoring gathering and counting the number of paid clicks and impressions our expectation that our results will be affected by our performance in international markets as users in developing economies increasingly come online our expectation that our foreign exchange risk management program will not fully offset our net exposure to fluctuations in foreign currency exchange rates the expected variability of gains and losses related to hedging activities under our foreign exchange risk management program the amount and timing of revenue recognition from customer contracts with commitments for performance obligations including our estimate of the remaining amount of commitments and when we expect to recognize revenue fluctuations in our capital expenditures our plans to continue to invest in new businesses products services and technologies systems land and buildings for data centers and offices and infrastructure as well as to continue to invest in acquisitions and strategic investments our pace of hiring and our plans to provide competitive compensation programs our expectation that our cost of revenues research and development R D expenses sales and marketing expenses and general and administrative expenses may increase in amount and or may increase as a percentage of revenues and may be affected by a number of factors estimates of our future compensation expenses our expectation that our other income expense net OI E will fluctuate in the future as it is largely driven by market dynamics fluctuations in our effective tax rate seasonal fluctuations in internet usage and advertiser expenditures underlying business trends such as traditional retail seasonality which are likely to cause fluctuations in our quarterly results the sufficiency of our sources of funding our potential\"\n        ],\n        \"semantic_type\": \"\",\n        \"description\": \"\"\n      }\n    },\n    {\n      \"column\": \"chunks\",\n      \"properties\": {\n        \"dtype\": \"string\",\n        \"num_unique_values\": 33,\n        \"samples\": [\n          \"Report on Form 10 K to the extent stated herein Such proxy statement will be filed with the Securities and Exchange Commission within 120 days of the registrant s fiscal year ended December 31 2021 Table of Contents Alphabet Inc Form 10 K For the Fiscal Year Ended December 31 2021 Note About Forward Looking Statements TABLE OF CONTENTS Alphabet Inc Page PART I Item 1 Business Item 1A Risk Factors Item 1B Unresolved Staff Comments Item 2 Properties Item 3 Legal Proceedings Item 4 Mine Safety Disclosures 22222 4 10 24 24 24 24 PART II Item 5 Market for Registrant s Common Equity Related Stockholder Matters and Issuer Purchases of Equity Securities 25 Item 6 Reserved 27 Item 7 Item 7A Management s Discussion and Analysis of Financial Condition and Results of Operations Quantitative and Qualitative Disclosures About Market Risk 28 42 Item 8 Financial Statements and Supplementary Data 45 Item 9 Item 9A Changes in and Disagreements With Accountants on Accounting and Financial Disclosure Controls and Procedures 86 86 Item 9B Other Information 86 Item 9C Disclosure Regarding Foreign Jurisdictions that Prevent Inspections 87 PART III Item 10 Directors Executive Officers and Corporate Governance 88 Item 11 Executive Compensation 88 Item 12 Security Ownership of Certain Beneficial Owners and Management and Related Stockholder Matters 88 Item 13 Item 14 Certain Relationships and Related Transactions and Director Independence Principal Accountant Fees and Services 88 88 PART IV Item 15 Item 16 Exhibits Financial Statement Schedules 89 Form 10 K Summary 92 Signatures 2 Table of Contents NOTE ABOUT FORWARD LOOKING STATEMENTS Alphabet Inc This Annual Report on Form 10 K contains forward looking statements within the meaning of the Private Securities Litigation Reform Act of 1995 These include among other things statements regarding the ongoing effect of the novel coronavirus pandemic COVID 19 including its macroeconomic effects on our business operations and financial results the growth of our business and revenues and our expectations about the factors that influence our success and trends in our business fluctuations in our revenue growth rate and operating margin and various factors contributing to such fluctuations our expectation that the continuing shift from an offline to online world will continue to benefit our business our expectation that the portion of our revenues that we derive from non advertising revenues will continue to increase and may affect our margins our expectation that our traffic acquisition costs TAC and the associated TAC rate will fluctuate which could affect our overall margins our expectation that our monetization trends will fluctuate which could affect our revenues and margins fluctuations in our revenue growth as well as the change in paid clicks and cost per click and the change in impressions and cost per impression and various factors contributing to such fluctuations our expectation that we will continue to periodically review refine and update our methodologies for monitoring gathering and counting the number of paid clicks and impressions our expectation that our results will be affected by our performance in international markets as users in developing economies increasingly come online our expectation that our foreign exchange risk management program will not fully offset our net exposure to fluctuations in foreign currency exchange rates the expected variability of gains and losses related to hedging activities under our foreign exchange risk management program the amount and timing of revenue recognition from customer contracts with commitments for performance obligations including our estimate of the remaining amount of commitments and when we expect to recognize revenue fluctuations in our capital expenditures our plans to continue to invest in new businesses products services and technologies systems land and buildings for data centers and offices and infrastructure as well as to continue to invest in acquisitions and strategic investments our pace of hiring and our plans to provide competitive compensation programs our expectation that our cost of revenues research and development R D expenses sales and marketing expenses and general and administrative expenses may increase in amount and or may increase as a percentage of revenues and may be affected by a number of factors estimates of our future compensation expenses our expectation that our other income expense net OI E will fluctuate in the future as it is largely driven by market dynamics fluctuations in our effective tax rate seasonal fluctuations in internet usage and advertiser expenditures underlying business trends such as traditional retail seasonality which are likely to cause fluctuations in our quarterly results the sufficiency of our sources of funding our potential\"\n        ],\n        \"semantic_type\": \"\",\n        \"description\": \"\"\n      }\n    }\n  ]\n}"
            }
          },
          "metadata": {},
          "execution_count": 12
        }
      ],
      "source": [
        "\n",
        "# Define the maximum number of characters in each chunk.\n",
        "chunk_size = 5000\n",
        "\n",
        "pdf_data_sample = pdf_data.copy()\n",
        "\n",
        "# Remove all non-alphabets and numbers from the data to clean it up.\n",
        "# This is harsh cleaning. You can define your custom logic for cleansing here.\n",
        "pdf_data_sample[\"content\"] = pdf_data_sample[\"content\"].apply(\n",
        "    lambda x: re.sub(\"[^A-Za-z0-9]+\", \" \", x)\n",
        ")\n",
        "\n",
        "# Apply chunk splitting logic to each row of content in the DataFrame.\n",
        "pdf_data_sample[\"chunks\"] = pdf_data_sample[\"content\"].apply(\n",
        "    lambda row: textwrap.wrap(row, width=chunk_size)\n",
        ")\n",
        "\n",
        "# Now, each row in 'chunks' contains list of all chunks and hence we need to explode them into individual rows.\n",
        "pdf_data_sample = pdf_data_sample.explode(\"chunks\")\n",
        "\n",
        "# Sort and reset index\n",
        "pdf_data_sample = pdf_data_sample.sort_values(by=[\"file_name\"]).reset_index(drop=True)\n",
        "pdf_data_sample.head()"
      ]
    },
    {
      "cell_type": "code",
      "execution_count": null,
      "metadata": {
        "id": "-Vp9LwVww1hE",
        "colab": {
          "base_uri": "https://localhost:8080/"
        },
        "outputId": "f8a83f89-f611-4435-d1d3-f5272d237d28"
      },
      "outputs": [
        {
          "output_type": "stream",
          "name": "stdout",
          "text": [
            "The original dataframe has : 33  rows without chunking\n",
            "The chunked dataframe has : 33  rows with chunking\n"
          ]
        }
      ],
      "source": [
        "print(\"The original dataframe has :\", pdf_data.shape[0], \" rows without chunking\")\n",
        "print(\"The chunked dataframe has :\", pdf_data_sample.shape[0], \" rows with chunking\")"
      ]
    },
    {
      "cell_type": "markdown",
      "metadata": {
        "id": "Jj7KMupOPUX-",
        "tags": []
      },
      "source": [
        "## Question Answering and Summarization\n",
        "\n",
        "You have just used Document AI to extract text from PDF files.\n",
        "\n",
        "In the next section, you will perform question answering and summarization on the extracted text using the Gemini and Gecko Embedding model with Vertex AI.\n",
        "\n",
        "1. Represent the documents that contain the answer as vectors using the Gecko embedding model.\n",
        "2. Compare the question to the document vector store.\n",
        "3. The document with the most similar vector to the question is the document that contains the answer."
      ]
    },
    {
      "cell_type": "markdown",
      "metadata": {
        "id": "Xe7OuYuGkLKF"
      },
      "source": [
        "### Authenticating your notebook environment\n",
        "* If you are using **Colab** to run this notebook, run the cell below and continue.\n",
        "* If you are using **Vertex AI Workbench**, check out the setup instructions [here](https://github.com/GoogleCloudPlatform/generative-ai/tree/main/setup-env)."
      ]
    },
    {
      "cell_type": "code",
      "execution_count": null,
      "metadata": {
        "id": "8YRKSFYOqSH4"
      },
      "outputs": [],
      "source": [
        "\n",
        "\n",
        "PROJECT_ID = \"kaggle-on-gcp\"  # @param {type:\"string\"}\n",
        "vertexai.init(project=PROJECT_ID, location=\"us-central1\")"
      ]
    },
    {
      "cell_type": "markdown",
      "metadata": {
        "id": "H3edk4BiDkQ4"
      },
      "source": [
        "### Import  models"
      ]
    },
    {
      "cell_type": "code",
      "execution_count": null,
      "metadata": {
        "id": "CKzpNLuzDeC4"
      },
      "outputs": [],
      "source": [
        "\n",
        "\n",
        "generation_model = GenerativeModel(\"gemini-1.0-pro\")\n",
        "embedding_model = TextEmbeddingModel.from_pretrained(\"textembedding-gecko@001\")\n",
        "\n",
        "# This decorator is used to handle exceptions and apply exponential backoff in case of ResourceExhausted errors.\n",
        "# It means the function will be retried with increasing time intervals in case of this specific exception.\n",
        "\n",
        "\n",
        "@retry(wait=wait_random_exponential(min=10, max=120), stop=stop_after_attempt(5))\n",
        "def embedding_model_with_backoff(text=[]):\n",
        "    embeddings = embedding_model.get_embeddings(text)\n",
        "    return [each.values for each in embeddings][0]"
      ]
    },
    {
      "cell_type": "markdown",
      "metadata": {
        "id": "kU-s4MWnF3DV"
      },
      "source": [
        "#Chunking\n",
        "You can start the implementation first by simply getting the embeddings for each chunk.\n",
        "\n",
        "This will add the embeddings (vector/number representation) of each chunk as a separate column."
      ]
    },
    {
      "cell_type": "code",
      "execution_count": null,
      "metadata": {
        "id": "PeJCuEx5w1hF",
        "colab": {
          "base_uri": "https://localhost:8080/",
          "height": 147
        },
        "outputId": "72eb5061-f766-416c-a3b5-3f7c68bbf019"
      },
      "outputs": [
        {
          "output_type": "execute_result",
          "data": {
            "text/plain": [
              "                                           file_name file_type  chunk_number  \\\n",
              "0  docai/20230203_alphabet_10K-pages-1-14-compressed      .pdf            13   \n",
              "1  docai/20230203_alphabet_10K-pages-1-14-compressed      .pdf            11   \n",
              "\n",
              "                                             content  \\\n",
              "0  that might prevent us from repatriating cash e...   \n",
              "1  certain innovations that later turn out to be ...   \n",
              "\n",
              "                                              chunks  \\\n",
              "0  that might prevent us from repatriating cash e...   \n",
              "1  certain innovations that later turn out to be ...   \n",
              "\n",
              "                                           embedding  \n",
              "0  [-0.015862643718719482, -0.030764959752559662,...  \n",
              "1  [-0.007669443730264902, -0.019847970455884933,...  "
            ],
            "text/html": [
              "\n",
              "  <div id=\"df-341ea616-1497-4ed2-9958-70560d22fc9b\" class=\"colab-df-container\">\n",
              "    <div>\n",
              "<style scoped>\n",
              "    .dataframe tbody tr th:only-of-type {\n",
              "        vertical-align: middle;\n",
              "    }\n",
              "\n",
              "    .dataframe tbody tr th {\n",
              "        vertical-align: top;\n",
              "    }\n",
              "\n",
              "    .dataframe thead th {\n",
              "        text-align: right;\n",
              "    }\n",
              "</style>\n",
              "<table border=\"1\" class=\"dataframe\">\n",
              "  <thead>\n",
              "    <tr style=\"text-align: right;\">\n",
              "      <th></th>\n",
              "      <th>file_name</th>\n",
              "      <th>file_type</th>\n",
              "      <th>chunk_number</th>\n",
              "      <th>content</th>\n",
              "      <th>chunks</th>\n",
              "      <th>embedding</th>\n",
              "    </tr>\n",
              "  </thead>\n",
              "  <tbody>\n",
              "    <tr>\n",
              "      <th>0</th>\n",
              "      <td>docai/20230203_alphabet_10K-pages-1-14-compressed</td>\n",
              "      <td>.pdf</td>\n",
              "      <td>13</td>\n",
              "      <td>that might prevent us from repatriating cash e...</td>\n",
              "      <td>that might prevent us from repatriating cash e...</td>\n",
              "      <td>[-0.015862643718719482, -0.030764959752559662,...</td>\n",
              "    </tr>\n",
              "    <tr>\n",
              "      <th>1</th>\n",
              "      <td>docai/20230203_alphabet_10K-pages-1-14-compressed</td>\n",
              "      <td>.pdf</td>\n",
              "      <td>11</td>\n",
              "      <td>certain innovations that later turn out to be ...</td>\n",
              "      <td>certain innovations that later turn out to be ...</td>\n",
              "      <td>[-0.007669443730264902, -0.019847970455884933,...</td>\n",
              "    </tr>\n",
              "  </tbody>\n",
              "</table>\n",
              "</div>\n",
              "    <div class=\"colab-df-buttons\">\n",
              "\n",
              "  <div class=\"colab-df-container\">\n",
              "    <button class=\"colab-df-convert\" onclick=\"convertToInteractive('df-341ea616-1497-4ed2-9958-70560d22fc9b')\"\n",
              "            title=\"Convert this dataframe to an interactive table.\"\n",
              "            style=\"display:none;\">\n",
              "\n",
              "  <svg xmlns=\"http://www.w3.org/2000/svg\" height=\"24px\" viewBox=\"0 -960 960 960\">\n",
              "    <path d=\"M120-120v-720h720v720H120Zm60-500h600v-160H180v160Zm220 220h160v-160H400v160Zm0 220h160v-160H400v160ZM180-400h160v-160H180v160Zm440 0h160v-160H620v160ZM180-180h160v-160H180v160Zm440 0h160v-160H620v160Z\"/>\n",
              "  </svg>\n",
              "    </button>\n",
              "\n",
              "  <style>\n",
              "    .colab-df-container {\n",
              "      display:flex;\n",
              "      gap: 12px;\n",
              "    }\n",
              "\n",
              "    .colab-df-convert {\n",
              "      background-color: #E8F0FE;\n",
              "      border: none;\n",
              "      border-radius: 50%;\n",
              "      cursor: pointer;\n",
              "      display: none;\n",
              "      fill: #1967D2;\n",
              "      height: 32px;\n",
              "      padding: 0 0 0 0;\n",
              "      width: 32px;\n",
              "    }\n",
              "\n",
              "    .colab-df-convert:hover {\n",
              "      background-color: #E2EBFA;\n",
              "      box-shadow: 0px 1px 2px rgba(60, 64, 67, 0.3), 0px 1px 3px 1px rgba(60, 64, 67, 0.15);\n",
              "      fill: #174EA6;\n",
              "    }\n",
              "\n",
              "    .colab-df-buttons div {\n",
              "      margin-bottom: 4px;\n",
              "    }\n",
              "\n",
              "    [theme=dark] .colab-df-convert {\n",
              "      background-color: #3B4455;\n",
              "      fill: #D2E3FC;\n",
              "    }\n",
              "\n",
              "    [theme=dark] .colab-df-convert:hover {\n",
              "      background-color: #434B5C;\n",
              "      box-shadow: 0px 1px 3px 1px rgba(0, 0, 0, 0.15);\n",
              "      filter: drop-shadow(0px 1px 2px rgba(0, 0, 0, 0.3));\n",
              "      fill: #FFFFFF;\n",
              "    }\n",
              "  </style>\n",
              "\n",
              "    <script>\n",
              "      const buttonEl =\n",
              "        document.querySelector('#df-341ea616-1497-4ed2-9958-70560d22fc9b button.colab-df-convert');\n",
              "      buttonEl.style.display =\n",
              "        google.colab.kernel.accessAllowed ? 'block' : 'none';\n",
              "\n",
              "      async function convertToInteractive(key) {\n",
              "        const element = document.querySelector('#df-341ea616-1497-4ed2-9958-70560d22fc9b');\n",
              "        const dataTable =\n",
              "          await google.colab.kernel.invokeFunction('convertToInteractive',\n",
              "                                                    [key], {});\n",
              "        if (!dataTable) return;\n",
              "\n",
              "        const docLinkHtml = 'Like what you see? Visit the ' +\n",
              "          '<a target=\"_blank\" href=https://colab.research.google.com/notebooks/data_table.ipynb>data table notebook</a>'\n",
              "          + ' to learn more about interactive tables.';\n",
              "        element.innerHTML = '';\n",
              "        dataTable['output_type'] = 'display_data';\n",
              "        await google.colab.output.renderOutput(dataTable, element);\n",
              "        const docLink = document.createElement('div');\n",
              "        docLink.innerHTML = docLinkHtml;\n",
              "        element.appendChild(docLink);\n",
              "      }\n",
              "    </script>\n",
              "  </div>\n",
              "\n",
              "\n",
              "<div id=\"df-36851b26-cd0e-4765-9016-7bf742f7125f\">\n",
              "  <button class=\"colab-df-quickchart\" onclick=\"quickchart('df-36851b26-cd0e-4765-9016-7bf742f7125f')\"\n",
              "            title=\"Suggest charts\"\n",
              "            style=\"display:none;\">\n",
              "\n",
              "<svg xmlns=\"http://www.w3.org/2000/svg\" height=\"24px\"viewBox=\"0 0 24 24\"\n",
              "     width=\"24px\">\n",
              "    <g>\n",
              "        <path d=\"M19 3H5c-1.1 0-2 .9-2 2v14c0 1.1.9 2 2 2h14c1.1 0 2-.9 2-2V5c0-1.1-.9-2-2-2zM9 17H7v-7h2v7zm4 0h-2V7h2v10zm4 0h-2v-4h2v4z\"/>\n",
              "    </g>\n",
              "</svg>\n",
              "  </button>\n",
              "\n",
              "<style>\n",
              "  .colab-df-quickchart {\n",
              "      --bg-color: #E8F0FE;\n",
              "      --fill-color: #1967D2;\n",
              "      --hover-bg-color: #E2EBFA;\n",
              "      --hover-fill-color: #174EA6;\n",
              "      --disabled-fill-color: #AAA;\n",
              "      --disabled-bg-color: #DDD;\n",
              "  }\n",
              "\n",
              "  [theme=dark] .colab-df-quickchart {\n",
              "      --bg-color: #3B4455;\n",
              "      --fill-color: #D2E3FC;\n",
              "      --hover-bg-color: #434B5C;\n",
              "      --hover-fill-color: #FFFFFF;\n",
              "      --disabled-bg-color: #3B4455;\n",
              "      --disabled-fill-color: #666;\n",
              "  }\n",
              "\n",
              "  .colab-df-quickchart {\n",
              "    background-color: var(--bg-color);\n",
              "    border: none;\n",
              "    border-radius: 50%;\n",
              "    cursor: pointer;\n",
              "    display: none;\n",
              "    fill: var(--fill-color);\n",
              "    height: 32px;\n",
              "    padding: 0;\n",
              "    width: 32px;\n",
              "  }\n",
              "\n",
              "  .colab-df-quickchart:hover {\n",
              "    background-color: var(--hover-bg-color);\n",
              "    box-shadow: 0 1px 2px rgba(60, 64, 67, 0.3), 0 1px 3px 1px rgba(60, 64, 67, 0.15);\n",
              "    fill: var(--button-hover-fill-color);\n",
              "  }\n",
              "\n",
              "  .colab-df-quickchart-complete:disabled,\n",
              "  .colab-df-quickchart-complete:disabled:hover {\n",
              "    background-color: var(--disabled-bg-color);\n",
              "    fill: var(--disabled-fill-color);\n",
              "    box-shadow: none;\n",
              "  }\n",
              "\n",
              "  .colab-df-spinner {\n",
              "    border: 2px solid var(--fill-color);\n",
              "    border-color: transparent;\n",
              "    border-bottom-color: var(--fill-color);\n",
              "    animation:\n",
              "      spin 1s steps(1) infinite;\n",
              "  }\n",
              "\n",
              "  @keyframes spin {\n",
              "    0% {\n",
              "      border-color: transparent;\n",
              "      border-bottom-color: var(--fill-color);\n",
              "      border-left-color: var(--fill-color);\n",
              "    }\n",
              "    20% {\n",
              "      border-color: transparent;\n",
              "      border-left-color: var(--fill-color);\n",
              "      border-top-color: var(--fill-color);\n",
              "    }\n",
              "    30% {\n",
              "      border-color: transparent;\n",
              "      border-left-color: var(--fill-color);\n",
              "      border-top-color: var(--fill-color);\n",
              "      border-right-color: var(--fill-color);\n",
              "    }\n",
              "    40% {\n",
              "      border-color: transparent;\n",
              "      border-right-color: var(--fill-color);\n",
              "      border-top-color: var(--fill-color);\n",
              "    }\n",
              "    60% {\n",
              "      border-color: transparent;\n",
              "      border-right-color: var(--fill-color);\n",
              "    }\n",
              "    80% {\n",
              "      border-color: transparent;\n",
              "      border-right-color: var(--fill-color);\n",
              "      border-bottom-color: var(--fill-color);\n",
              "    }\n",
              "    90% {\n",
              "      border-color: transparent;\n",
              "      border-bottom-color: var(--fill-color);\n",
              "    }\n",
              "  }\n",
              "</style>\n",
              "\n",
              "  <script>\n",
              "    async function quickchart(key) {\n",
              "      const quickchartButtonEl =\n",
              "        document.querySelector('#' + key + ' button');\n",
              "      quickchartButtonEl.disabled = true;  // To prevent multiple clicks.\n",
              "      quickchartButtonEl.classList.add('colab-df-spinner');\n",
              "      try {\n",
              "        const charts = await google.colab.kernel.invokeFunction(\n",
              "            'suggestCharts', [key], {});\n",
              "      } catch (error) {\n",
              "        console.error('Error during call to suggestCharts:', error);\n",
              "      }\n",
              "      quickchartButtonEl.classList.remove('colab-df-spinner');\n",
              "      quickchartButtonEl.classList.add('colab-df-quickchart-complete');\n",
              "    }\n",
              "    (() => {\n",
              "      let quickchartButtonEl =\n",
              "        document.querySelector('#df-36851b26-cd0e-4765-9016-7bf742f7125f button');\n",
              "      quickchartButtonEl.style.display =\n",
              "        google.colab.kernel.accessAllowed ? 'block' : 'none';\n",
              "    })();\n",
              "  </script>\n",
              "</div>\n",
              "\n",
              "    </div>\n",
              "  </div>\n"
            ],
            "application/vnd.google.colaboratory.intrinsic+json": {
              "type": "dataframe",
              "variable_name": "pdf_data_sample",
              "summary": "{\n  \"name\": \"pdf_data_sample\",\n  \"rows\": 33,\n  \"fields\": [\n    {\n      \"column\": \"file_name\",\n      \"properties\": {\n        \"dtype\": \"category\",\n        \"num_unique_values\": 3,\n        \"samples\": [\n          \"docai/20230203_alphabet_10K-pages-1-14-compressed\",\n          \"docai/20230426_alphabet_10Q-pages-1-14\",\n          \"docai/documents_20220202_alphabet_10K\"\n        ],\n        \"semantic_type\": \"\",\n        \"description\": \"\"\n      }\n    },\n    {\n      \"column\": \"file_type\",\n      \"properties\": {\n        \"dtype\": \"category\",\n        \"num_unique_values\": 1,\n        \"samples\": [\n          \".pdf\"\n        ],\n        \"semantic_type\": \"\",\n        \"description\": \"\"\n      }\n    },\n    {\n      \"column\": \"chunk_number\",\n      \"properties\": {\n        \"dtype\": \"number\",\n        \"std\": 3,\n        \"min\": 1,\n        \"max\": 13,\n        \"num_unique_values\": 13,\n        \"samples\": [\n          1\n        ],\n        \"semantic_type\": \"\",\n        \"description\": \"\"\n      }\n    },\n    {\n      \"column\": \"content\",\n      \"properties\": {\n        \"dtype\": \"string\",\n        \"num_unique_values\": 33,\n        \"samples\": [\n          \"Report on Form 10 K to the extent stated herein Such proxy statement will be filed with the Securities and Exchange Commission within 120 days of the registrant s fiscal year ended December 31 2021 Table of Contents Alphabet Inc Form 10 K For the Fiscal Year Ended December 31 2021 Note About Forward Looking Statements TABLE OF CONTENTS Alphabet Inc Page PART I Item 1 Business Item 1A Risk Factors Item 1B Unresolved Staff Comments Item 2 Properties Item 3 Legal Proceedings Item 4 Mine Safety Disclosures 22222 4 10 24 24 24 24 PART II Item 5 Market for Registrant s Common Equity Related Stockholder Matters and Issuer Purchases of Equity Securities 25 Item 6 Reserved 27 Item 7 Item 7A Management s Discussion and Analysis of Financial Condition and Results of Operations Quantitative and Qualitative Disclosures About Market Risk 28 42 Item 8 Financial Statements and Supplementary Data 45 Item 9 Item 9A Changes in and Disagreements With Accountants on Accounting and Financial Disclosure Controls and Procedures 86 86 Item 9B Other Information 86 Item 9C Disclosure Regarding Foreign Jurisdictions that Prevent Inspections 87 PART III Item 10 Directors Executive Officers and Corporate Governance 88 Item 11 Executive Compensation 88 Item 12 Security Ownership of Certain Beneficial Owners and Management and Related Stockholder Matters 88 Item 13 Item 14 Certain Relationships and Related Transactions and Director Independence Principal Accountant Fees and Services 88 88 PART IV Item 15 Item 16 Exhibits Financial Statement Schedules 89 Form 10 K Summary 92 Signatures 2 Table of Contents NOTE ABOUT FORWARD LOOKING STATEMENTS Alphabet Inc This Annual Report on Form 10 K contains forward looking statements within the meaning of the Private Securities Litigation Reform Act of 1995 These include among other things statements regarding the ongoing effect of the novel coronavirus pandemic COVID 19 including its macroeconomic effects on our business operations and financial results the growth of our business and revenues and our expectations about the factors that influence our success and trends in our business fluctuations in our revenue growth rate and operating margin and various factors contributing to such fluctuations our expectation that the continuing shift from an offline to online world will continue to benefit our business our expectation that the portion of our revenues that we derive from non advertising revenues will continue to increase and may affect our margins our expectation that our traffic acquisition costs TAC and the associated TAC rate will fluctuate which could affect our overall margins our expectation that our monetization trends will fluctuate which could affect our revenues and margins fluctuations in our revenue growth as well as the change in paid clicks and cost per click and the change in impressions and cost per impression and various factors contributing to such fluctuations our expectation that we will continue to periodically review refine and update our methodologies for monitoring gathering and counting the number of paid clicks and impressions our expectation that our results will be affected by our performance in international markets as users in developing economies increasingly come online our expectation that our foreign exchange risk management program will not fully offset our net exposure to fluctuations in foreign currency exchange rates the expected variability of gains and losses related to hedging activities under our foreign exchange risk management program the amount and timing of revenue recognition from customer contracts with commitments for performance obligations including our estimate of the remaining amount of commitments and when we expect to recognize revenue fluctuations in our capital expenditures our plans to continue to invest in new businesses products services and technologies systems land and buildings for data centers and offices and infrastructure as well as to continue to invest in acquisitions and strategic investments our pace of hiring and our plans to provide competitive compensation programs our expectation that our cost of revenues research and development R D expenses sales and marketing expenses and general and administrative expenses may increase in amount and or may increase as a percentage of revenues and may be affected by a number of factors estimates of our future compensation expenses our expectation that our other income expense net OI E will fluctuate in the future as it is largely driven by market dynamics fluctuations in our effective tax rate seasonal fluctuations in internet usage and advertiser expenditures underlying business trends such as traditional retail seasonality which are likely to cause fluctuations in our quarterly results the sufficiency of our sources of funding our potential\"\n        ],\n        \"semantic_type\": \"\",\n        \"description\": \"\"\n      }\n    },\n    {\n      \"column\": \"chunks\",\n      \"properties\": {\n        \"dtype\": \"string\",\n        \"num_unique_values\": 33,\n        \"samples\": [\n          \"Report on Form 10 K to the extent stated herein Such proxy statement will be filed with the Securities and Exchange Commission within 120 days of the registrant s fiscal year ended December 31 2021 Table of Contents Alphabet Inc Form 10 K For the Fiscal Year Ended December 31 2021 Note About Forward Looking Statements TABLE OF CONTENTS Alphabet Inc Page PART I Item 1 Business Item 1A Risk Factors Item 1B Unresolved Staff Comments Item 2 Properties Item 3 Legal Proceedings Item 4 Mine Safety Disclosures 22222 4 10 24 24 24 24 PART II Item 5 Market for Registrant s Common Equity Related Stockholder Matters and Issuer Purchases of Equity Securities 25 Item 6 Reserved 27 Item 7 Item 7A Management s Discussion and Analysis of Financial Condition and Results of Operations Quantitative and Qualitative Disclosures About Market Risk 28 42 Item 8 Financial Statements and Supplementary Data 45 Item 9 Item 9A Changes in and Disagreements With Accountants on Accounting and Financial Disclosure Controls and Procedures 86 86 Item 9B Other Information 86 Item 9C Disclosure Regarding Foreign Jurisdictions that Prevent Inspections 87 PART III Item 10 Directors Executive Officers and Corporate Governance 88 Item 11 Executive Compensation 88 Item 12 Security Ownership of Certain Beneficial Owners and Management and Related Stockholder Matters 88 Item 13 Item 14 Certain Relationships and Related Transactions and Director Independence Principal Accountant Fees and Services 88 88 PART IV Item 15 Item 16 Exhibits Financial Statement Schedules 89 Form 10 K Summary 92 Signatures 2 Table of Contents NOTE ABOUT FORWARD LOOKING STATEMENTS Alphabet Inc This Annual Report on Form 10 K contains forward looking statements within the meaning of the Private Securities Litigation Reform Act of 1995 These include among other things statements regarding the ongoing effect of the novel coronavirus pandemic COVID 19 including its macroeconomic effects on our business operations and financial results the growth of our business and revenues and our expectations about the factors that influence our success and trends in our business fluctuations in our revenue growth rate and operating margin and various factors contributing to such fluctuations our expectation that the continuing shift from an offline to online world will continue to benefit our business our expectation that the portion of our revenues that we derive from non advertising revenues will continue to increase and may affect our margins our expectation that our traffic acquisition costs TAC and the associated TAC rate will fluctuate which could affect our overall margins our expectation that our monetization trends will fluctuate which could affect our revenues and margins fluctuations in our revenue growth as well as the change in paid clicks and cost per click and the change in impressions and cost per impression and various factors contributing to such fluctuations our expectation that we will continue to periodically review refine and update our methodologies for monitoring gathering and counting the number of paid clicks and impressions our expectation that our results will be affected by our performance in international markets as users in developing economies increasingly come online our expectation that our foreign exchange risk management program will not fully offset our net exposure to fluctuations in foreign currency exchange rates the expected variability of gains and losses related to hedging activities under our foreign exchange risk management program the amount and timing of revenue recognition from customer contracts with commitments for performance obligations including our estimate of the remaining amount of commitments and when we expect to recognize revenue fluctuations in our capital expenditures our plans to continue to invest in new businesses products services and technologies systems land and buildings for data centers and offices and infrastructure as well as to continue to invest in acquisitions and strategic investments our pace of hiring and our plans to provide competitive compensation programs our expectation that our cost of revenues research and development R D expenses sales and marketing expenses and general and administrative expenses may increase in amount and or may increase as a percentage of revenues and may be affected by a number of factors estimates of our future compensation expenses our expectation that our other income expense net OI E will fluctuate in the future as it is largely driven by market dynamics fluctuations in our effective tax rate seasonal fluctuations in internet usage and advertiser expenditures underlying business trends such as traditional retail seasonality which are likely to cause fluctuations in our quarterly results the sufficiency of our sources of funding our potential\"\n        ],\n        \"semantic_type\": \"\",\n        \"description\": \"\"\n      }\n    },\n    {\n      \"column\": \"embedding\",\n      \"properties\": {\n        \"dtype\": \"object\",\n        \"semantic_type\": \"\",\n        \"description\": \"\"\n      }\n    }\n  ]\n}"
            }
          },
          "metadata": {},
          "execution_count": 19
        }
      ],
      "source": [
        "\n",
        "\n",
        "pdf_data_sample[\"embedding\"] = pdf_data_sample[\"chunks\"].apply(\n",
        "    lambda x: embedding_model_with_backoff([x])\n",
        ")\n",
        "pdf_data_sample[\"embedding\"] = pdf_data_sample.embedding.apply(np.array)\n",
        "pdf_data_sample.head(2)"
      ]
    },
    {
      "cell_type": "code",
      "execution_count": null,
      "metadata": {
        "id": "8aGR1MrCw1hF"
      },
      "outputs": [],
      "source": [
        "\n",
        "\n",
        "def get_context_from_question(question: str, vector_store: pd.DataFrame, sort_index_value: int = 2) -> Tuple[str, pd.DataFrame]:\n",
        "    query_vector = np.array(embedding_model_with_backoff([question]))\n",
        "    vector_store[\"dot_product\"] = vector_store[\"embedding\"].apply(lambda row: np.dot(row, query_vector))\n",
        "    top_matched = vector_store.sort_values(by=\"dot_product\", ascending=False)[:sort_index_value].index\n",
        "    top_matched_df = vector_store.loc[top_matched, [\"file_name\", \"chunks\"]]\n",
        "    context = \"\\n\".join(top_matched_df[\"chunks\"].values)\n",
        "    return context, top_matched_df"
      ]
    },
    {
      "cell_type": "markdown",
      "metadata": {
        "id": "t_f5ZBqLF3DV"
      },
      "source": [
        "Now that you have a general function that always gets you custom relevant context for the question, you can call it with every new question."
      ]
    },
    {
      "cell_type": "code",
      "execution_count": null,
      "metadata": {
        "id": "nF7J1tanw1hG",
        "colab": {
          "base_uri": "https://localhost:8080/"
        },
        "outputId": "99b9d24b-e908-4924-860b-e868a398d70c"
      },
      "outputs": [
        {
          "output_type": "stream",
          "name": "stdout",
          "text": [
            "Other Bets operate as independent companies and some of them have their own 6 Table of Contents Alphabet Inc boards with independent members and outside investors While these early stage businesses naturally come with considerable uncertainty some of them are already generating revenue and making important strides in their industries Revenues from Other Bets are generated primarily from the sale of health technology and internet services Competition Our business is characterized by rapid change as well as new and disruptive technologies We face formidable competition in every aspect of our business including among others from general purpose search engines and information services vertical search engines and e commerce providers for queries related to travel jobs and health which users may navigate directly to rather than go through Google online advertising platforms and networks other forms of advertising such as billboards magazines newspapers radio and television as our advertisers typically advertise in multiple media both online and offline digital content and application platform providers providers of enterprise cloud services companies that design manufacture and market consumer hardware products including businesses that have developed proprietary platforms providers of digital video services social networks which users may rely on for product or service referrals rather than seeking information through traditional search engines providers of workspace communication and connectivity products and digital assistant providers Competing successfully depends heavily on our ability to develop and distribute innovative products and technologies to the marketplace across our businesses For example for advertising competing successfully depends on attracting and retaining users for whom other products and services are literally one click away largely on the basis of the relevance of our advertising as well as the general usefulness security and availability of our products and services advertisers primarily based on our ability to generate sales leads and ultimately customers and to deliver their advertisements in an efficient and effective manner across a variety of distribution channels and content providers primarily based on the quality of our advertiser base our ability to help these partners generate revenues from advertising and the terms of our agreements with them For additional information about competition see Risk Factors in Item 1A of this Annual Report on Form 10 K Ongoing Commitment to Sustainability We believe that every business has the opportunity and obligation to protect our planet Sustainability is one of our core values at Google and we strive to build sustainability into everything we do We have been a leader on sustainability and climate change since Google s founding more than 20 years ago These are some of our key achievements over the past two decades In 2007 we became the first major company to be carbon neutral for our operations In 2017 we became the first major company to match 100 of our annual electricity use with renewable energy which we have achieved for five consecutive years In 2020 we issued 5 75 billion in sustainability bonds the largest sustainability or green bond issuance by any company in history at the time The net proceeds from the issuance were used to fund environmentally and socially responsible projects in the following eight areas energy efficiency clean energy green buildings clean transportation circular economy and design affordable housing commitment to racial equity and support for small businesses and COVID 19 crisis response As of 2022 we had fully allocated the net proceeds from our sustainability bonds as outlined in our Sustainability Bond Impact Report published in 2022 Our sustainability strategy is focused on three key pillars accelerating the transition to carbon free energy and a circular economy empowering everyone with technology and benefiting the people and places where we operate 7 Table of Contents Alphabet Inc To accelerate the transition to a carbon free and circular economy in 2020 we launched our third decade of climate action and we are now working toward a new set of ambitious goals By 2030 we aim to achieve net zero emissions across all of our operations and value chain including our consumer hardware products become the first major company to run on carbon free energy 24 hours a day seven days a week 365 days a year enable 5 gigawatts of new carbon free energy through investments in our key manufacturing regions and help more than 500 cities and local governments reduce an aggregate of 1 gigaton one billion tons of carbon emissions annually We also aim to maximize the reuse of finite resources across our operations products and supply chains and to enable others to do the same We are\n",
            "as outlined in our Sustainability Bond Impact Report published in 2021 Also in 2020 we compensated for our legacy carbon footprint making Google the first major company to be carbon neutral for its entire operating history Our sustainability strategy is focused on three key pillars accelerating the transition to carbon free energy and a circular economy empowering everyone with technology and benefiting the people and places where we operate To accelerate the transition to a carbon free economy in 2020 we launched our third decade of climate action and we are now working toward a new set of ambitious goals By 2030 we aim to achieve net zero emissions across all of our operations and value chain become the first major company to run on carbon free energy 24 hours a day seven days a week 365 days a year enable 5 gigawatts of new carbon free energy through investments in our key manufacturing regions and help more than 500 cities and local governments reduce an aggregate of 1 gigaton of carbon emissions annually To accelerate the transition to a circular economy we are working to maximize the reuse of finite resources across our operations products and supply chains and to enable others to do the same We are also working to empower everyone with technology by committing to help 1 billion people make more sustainable choices by the end of 2022 through our core products To benefit the people and places where we operate we have set goals to replenish more water than we consume by 2030 and to support water security in communities where we operate We will focus on three areas enhancing our stewardship of water resources across Google office campuses and data centers replenishing our water use and improving watershed health and ecosystems in water stressed communities and sharing technology and tools that help everyone predict prevent and recover from water stress We remain steadfast in our commitment to sustainability and we will continue to lead and encourage others to join us in improving the health of our planet We are proud of what we have achieved so far and we are energized to help move the world closer to a more sustainable and carbon free future for all More information on our approach to sustainability can be found in our annual sustainability reports including Google s Environmental Report and Alphabet s 2021 Sustainability Bond Impact Report which outlines the allocation of our net proceeds from our sustainability bonds The contents of our sustainability reports are not incorporated by reference into this Annual Report on Form 10 K or in any other report or document we file with the SEC For additional information about risks and uncertainties applicable to our commitments to attain certain sustainability goals see Risk Factors in Item 1A of this Annual Report on Form 10 K Culture and Workforce We are a company of curious talented and passionate people We embrace collaboration and creativity and encourage the iteration of ideas to address complex challenges in technology and society Our people are critical for our continued success so we work hard to create an environment where employees can have fulfilling careers and be happy healthy and productive We offer industry leading benefits and programs to take care of the diverse needs of our employees and their families including opportunities for career growth and 8 Table of Contents Alphabet Inc development resources to support their financial health and access to excellent healthcare choices Our competitive compensation programs help us to attract and retain top candidates and we will continue to invest in recruiting talented people to technical and non technical roles and rewarding them well We provide a variety of high quality training and support to our managers to build and strengthen their capabilities ranging from courses for new managers to learning resources that help them provide feedback and manage performance to coaching and individual support At Alphabet we are committed to making diversity equity and inclusion part of everything we do and to growing a workforce that is representative of the users we serve More information on Google s approach to diversity can be found in our annual diversity reports available publicly at diversity google The contents of our diversity reports are not incorporated by reference into this Annual Report on Form 10 K or in any other report or document we file with the SEC As of December 31 2021 Alphabet had 156 500 employees We have work councils and statutory employee representation obligations in certain countries and we are committed to supporting protected labor rights maintaining an open culture and listening to all employees Supporting healthy and open dialogue is central to how we work and we communicate information about the company through multiple internal channels to our employees When necessary we contract with\n",
            "CPU times: user 35 ms, sys: 3.22 ms, total: 38.3 ms\n",
            "Wall time: 655 ms\n"
          ]
        }
      ],
      "source": [
        "%%time\n",
        "# your question for the documents\n",
        "question = \"When did google become carbon neutral?\"\n",
        "\n",
        "# get the custom relevant chunks from all the chunks in vector store.\n",
        "context, top_matched_df = get_context_from_question(\n",
        "    question,\n",
        "    vector_store=pdf_data_sample,\n",
        "    sort_index_value=2,  # Top N results to pick from embedding vector search\n",
        ")\n",
        "# top 5 data that has been picked by model based on user question. This becomes the context.\n",
        "top_matched_df\n",
        "print(context)"
      ]
    },
    {
      "cell_type": "code",
      "execution_count": null,
      "metadata": {
        "id": "KtYluejcw1hG",
        "colab": {
          "base_uri": "https://localhost:8080/"
        },
        "outputId": "ac44f4c0-d661-403b-f5e0-1d91ef07b53b"
      },
      "outputs": [
        {
          "output_type": "stream",
          "name": "stdout",
          "text": [
            " Answer the question in using the provided context in 100 words. \n",
            "\n",
            "\n",
            "            Context: \n",
            " Other Bets operate as independent companies and some of them have their own 6 Table of Contents Alphabet Inc boards with independent members and outside investors While these early stage businesses naturally come with considerable uncertainty some of them are already generating revenue and making important strides in their industries Revenues from Other Bets are generated primarily from the sale of health technology and internet services Competition Our business is characterized by rapid change as well as new and disruptive technologies We face formidable competition in every aspect of our business including among others from general purpose search engines and information services vertical search engines and e commerce providers for queries related to travel jobs and health which users may navigate directly to rather than go through Google online advertising platforms and networks other forms of advertising such as billboards magazines newspapers radio and television as our advertisers typically advertise in multiple media both online and offline digital content and application platform providers providers of enterprise cloud services companies that design manufacture and market consumer hardware products including businesses that have developed proprietary platforms providers of digital video services social networks which users may rely on for product or service referrals rather than seeking information through traditional search engines providers of workspace communication and connectivity products and digital assistant providers Competing successfully depends heavily on our ability to develop and distribute innovative products and technologies to the marketplace across our businesses For example for advertising competing successfully depends on attracting and retaining users for whom other products and services are literally one click away largely on the basis of the relevance of our advertising as well as the general usefulness security and availability of our products and services advertisers primarily based on our ability to generate sales leads and ultimately customers and to deliver their advertisements in an efficient and effective manner across a variety of distribution channels and content providers primarily based on the quality of our advertiser base our ability to help these partners generate revenues from advertising and the terms of our agreements with them For additional information about competition see Risk Factors in Item 1A of this Annual Report on Form 10 K Ongoing Commitment to Sustainability We believe that every business has the opportunity and obligation to protect our planet Sustainability is one of our core values at Google and we strive to build sustainability into everything we do We have been a leader on sustainability and climate change since Google s founding more than 20 years ago These are some of our key achievements over the past two decades In 2007 we became the first major company to be carbon neutral for our operations In 2017 we became the first major company to match 100 of our annual electricity use with renewable energy which we have achieved for five consecutive years In 2020 we issued 5 75 billion in sustainability bonds the largest sustainability or green bond issuance by any company in history at the time The net proceeds from the issuance were used to fund environmentally and socially responsible projects in the following eight areas energy efficiency clean energy green buildings clean transportation circular economy and design affordable housing commitment to racial equity and support for small businesses and COVID 19 crisis response As of 2022 we had fully allocated the net proceeds from our sustainability bonds as outlined in our Sustainability Bond Impact Report published in 2022 Our sustainability strategy is focused on three key pillars accelerating the transition to carbon free energy and a circular economy empowering everyone with technology and benefiting the people and places where we operate 7 Table of Contents Alphabet Inc To accelerate the transition to a carbon free and circular economy in 2020 we launched our third decade of climate action and we are now working toward a new set of ambitious goals By 2030 we aim to achieve net zero emissions across all of our operations and value chain including our consumer hardware products become the first major company to run on carbon free energy 24 hours a day seven days a week 365 days a year enable 5 gigawatts of new carbon free energy through investments in our key manufacturing regions and help more than 500 cities and local governments reduce an aggregate of 1 gigaton one billion tons of carbon emissions annually We also aim to maximize the reuse of finite resources across our operations products and supply chains and to enable others to do the same We are\n",
            "as outlined in our Sustainability Bond Impact Report published in 2021 Also in 2020 we compensated for our legacy carbon footprint making Google the first major company to be carbon neutral for its entire operating history Our sustainability strategy is focused on three key pillars accelerating the transition to carbon free energy and a circular economy empowering everyone with technology and benefiting the people and places where we operate To accelerate the transition to a carbon free economy in 2020 we launched our third decade of climate action and we are now working toward a new set of ambitious goals By 2030 we aim to achieve net zero emissions across all of our operations and value chain become the first major company to run on carbon free energy 24 hours a day seven days a week 365 days a year enable 5 gigawatts of new carbon free energy through investments in our key manufacturing regions and help more than 500 cities and local governments reduce an aggregate of 1 gigaton of carbon emissions annually To accelerate the transition to a circular economy we are working to maximize the reuse of finite resources across our operations products and supply chains and to enable others to do the same We are also working to empower everyone with technology by committing to help 1 billion people make more sustainable choices by the end of 2022 through our core products To benefit the people and places where we operate we have set goals to replenish more water than we consume by 2030 and to support water security in communities where we operate We will focus on three areas enhancing our stewardship of water resources across Google office campuses and data centers replenishing our water use and improving watershed health and ecosystems in water stressed communities and sharing technology and tools that help everyone predict prevent and recover from water stress We remain steadfast in our commitment to sustainability and we will continue to lead and encourage others to join us in improving the health of our planet We are proud of what we have achieved so far and we are energized to help move the world closer to a more sustainable and carbon free future for all More information on our approach to sustainability can be found in our annual sustainability reports including Google s Environmental Report and Alphabet s 2021 Sustainability Bond Impact Report which outlines the allocation of our net proceeds from our sustainability bonds The contents of our sustainability reports are not incorporated by reference into this Annual Report on Form 10 K or in any other report or document we file with the SEC For additional information about risks and uncertainties applicable to our commitments to attain certain sustainability goals see Risk Factors in Item 1A of this Annual Report on Form 10 K Culture and Workforce We are a company of curious talented and passionate people We embrace collaboration and creativity and encourage the iteration of ideas to address complex challenges in technology and society Our people are critical for our continued success so we work hard to create an environment where employees can have fulfilling careers and be happy healthy and productive We offer industry leading benefits and programs to take care of the diverse needs of our employees and their families including opportunities for career growth and 8 Table of Contents Alphabet Inc development resources to support their financial health and access to excellent healthcare choices Our competitive compensation programs help us to attract and retain top candidates and we will continue to invest in recruiting talented people to technical and non technical roles and rewarding them well We provide a variety of high quality training and support to our managers to build and strengthen their capabilities ranging from courses for new managers to learning resources that help them provide feedback and manage performance to coaching and individual support At Alphabet we are committed to making diversity equity and inclusion part of everything we do and to growing a workforce that is representative of the users we serve More information on Google s approach to diversity can be found in our annual diversity reports available publicly at diversity google The contents of our diversity reports are not incorporated by reference into this Annual Report on Form 10 K or in any other report or document we file with the SEC As of December 31 2021 Alphabet had 156 500 employees We have work councils and statutory employee representation obligations in certain countries and we are committed to supporting protected labor rights maintaining an open culture and listening to all employees Supporting healthy and open dialogue is central to how we work and we communicate information about the company through multiple internal channels to our employees When necessary we contract with?\n",
            "\n",
            "            Question: \n",
            " When did google become carbon neutral? \n",
            "\n",
            "            Answer:\n",
            "          \n",
            "Google became carbon neutral for its operations in 2007 and for its entire operating history in 2020."
          ]
        }
      ],
      "source": [
        "# Prompt for Q&A which takes the custom context found in last step.\n",
        "\n",
        "\n",
        "prompt = f\"\"\" Answer the question in using the provided context in 100 words. \\n\\n\n",
        "            Context: \\n {context}?\\n\n",
        "            Question: \\n {question} \\n\n",
        "            Answer:\n",
        "          \"\"\"\n",
        "print(prompt)\n",
        "# Call the API on the prompt.\n",
        "responses = generation_model.generate_content(prompt, stream=True)\n",
        "\n",
        "for response in responses:\n",
        "    print(response.text, end=\"\")\n",
        "\n",
        "\n"
      ]
    },
    {
      "cell_type": "markdown",
      "metadata": {
        "id": "WLFuRGrtN-9l"
      },
      "source": [
        "# Conclusion\n",
        "\n",
        "In this notebook, you learned:\n",
        "\n",
        "1. Extract text from pdf documents using the Document AI OCR processor.\n",
        "2. Use Embedding model Gecko to generate embeddings for the extracted text\n",
        "3. Use Google Gemini model to answer questions on the embeddings datastore."
      ]
    },
    {
      "cell_type": "markdown",
      "metadata": {
        "id": "rhR1vTtpXj1q"
      },
      "source": [
        "## Clean Up\n",
        "\n",
        "If you no longer need the Document AI processor, you can delete it using the following code.\n",
        "\n",
        "Alternatively, you can use the Cloud Console to delete the processor as outlined in [Creating and managing processors > Delete a processor](https://cloud.google.com/document-ai/docs/create-processor#documentai_delete_processor-web)."
      ]
    },
    {
      "cell_type": "code",
      "execution_count": null,
      "metadata": {
        "id": "EuTdzGhbe9C3",
        "colab": {
          "base_uri": "https://localhost:8080/",
          "height": 860
        },
        "outputId": "709712d4-838c-4a77-c060-2f8cfe24a565"
      },
      "outputs": [
        {
          "output_type": "stream",
          "name": "stdout",
          "text": [
            "projects/474775107710/locations/us/operations/16305923139894415530\n"
          ]
        },
        {
          "output_type": "error",
          "ename": "PermissionDenied",
          "evalue": "403 Cloud Document AI API has not been used in project 522309567947 before or it is disabled. Enable it by visiting https://console.developers.google.com/apis/api/documentai.googleapis.com/overview?project=522309567947 then retry. If you enabled this API recently, wait a few minutes for the action to propagate to our systems and retry. [links {\n  description: \"Google developers console API activation\"\n  url: \"https://console.developers.google.com/apis/api/documentai.googleapis.com/overview?project=522309567947\"\n}\n, reason: \"SERVICE_DISABLED\"\ndomain: \"googleapis.com\"\nmetadata {\n  key: \"consumer\"\n  value: \"projects/522309567947\"\n}\nmetadata {\n  key: \"service\"\n  value: \"documentai.googleapis.com\"\n}\n]",
          "traceback": [
            "\u001b[0;31m---------------------------------------------------------------------------\u001b[0m",
            "\u001b[0;31m_InactiveRpcError\u001b[0m                         Traceback (most recent call last)",
            "\u001b[0;32m/usr/local/lib/python3.10/dist-packages/google/api_core/grpc_helpers.py\u001b[0m in \u001b[0;36merror_remapped_callable\u001b[0;34m(*args, **kwargs)\u001b[0m\n\u001b[1;32m     71\u001b[0m         \u001b[0;32mtry\u001b[0m\u001b[0;34m:\u001b[0m\u001b[0;34m\u001b[0m\u001b[0;34m\u001b[0m\u001b[0m\n\u001b[0;32m---> 72\u001b[0;31m             \u001b[0;32mreturn\u001b[0m \u001b[0mcallable_\u001b[0m\u001b[0;34m(\u001b[0m\u001b[0;34m*\u001b[0m\u001b[0margs\u001b[0m\u001b[0;34m,\u001b[0m \u001b[0;34m**\u001b[0m\u001b[0mkwargs\u001b[0m\u001b[0;34m)\u001b[0m\u001b[0;34m\u001b[0m\u001b[0;34m\u001b[0m\u001b[0m\n\u001b[0m\u001b[1;32m     73\u001b[0m         \u001b[0;32mexcept\u001b[0m \u001b[0mgrpc\u001b[0m\u001b[0;34m.\u001b[0m\u001b[0mRpcError\u001b[0m \u001b[0;32mas\u001b[0m \u001b[0mexc\u001b[0m\u001b[0;34m:\u001b[0m\u001b[0;34m\u001b[0m\u001b[0;34m\u001b[0m\u001b[0m\n",
            "\u001b[0;32m/usr/local/lib/python3.10/dist-packages/grpc/_channel.py\u001b[0m in \u001b[0;36m__call__\u001b[0;34m(self, request, timeout, metadata, credentials, wait_for_ready, compression)\u001b[0m\n\u001b[1;32m   1175\u001b[0m         )\n\u001b[0;32m-> 1176\u001b[0;31m         \u001b[0;32mreturn\u001b[0m \u001b[0m_end_unary_response_blocking\u001b[0m\u001b[0;34m(\u001b[0m\u001b[0mstate\u001b[0m\u001b[0;34m,\u001b[0m \u001b[0mcall\u001b[0m\u001b[0;34m,\u001b[0m \u001b[0;32mFalse\u001b[0m\u001b[0;34m,\u001b[0m \u001b[0;32mNone\u001b[0m\u001b[0;34m)\u001b[0m\u001b[0;34m\u001b[0m\u001b[0;34m\u001b[0m\u001b[0m\n\u001b[0m\u001b[1;32m   1177\u001b[0m \u001b[0;34m\u001b[0m\u001b[0m\n",
            "\u001b[0;32m/usr/local/lib/python3.10/dist-packages/grpc/_channel.py\u001b[0m in \u001b[0;36m_end_unary_response_blocking\u001b[0;34m(state, call, with_call, deadline)\u001b[0m\n\u001b[1;32m   1004\u001b[0m     \u001b[0;32melse\u001b[0m\u001b[0;34m:\u001b[0m\u001b[0;34m\u001b[0m\u001b[0;34m\u001b[0m\u001b[0m\n\u001b[0;32m-> 1005\u001b[0;31m         \u001b[0;32mraise\u001b[0m \u001b[0m_InactiveRpcError\u001b[0m\u001b[0;34m(\u001b[0m\u001b[0mstate\u001b[0m\u001b[0;34m)\u001b[0m  \u001b[0;31m# pytype: disable=not-instantiable\u001b[0m\u001b[0;34m\u001b[0m\u001b[0;34m\u001b[0m\u001b[0m\n\u001b[0m\u001b[1;32m   1006\u001b[0m \u001b[0;34m\u001b[0m\u001b[0m\n",
            "\u001b[0;31m_InactiveRpcError\u001b[0m: <_InactiveRpcError of RPC that terminated with:\n\tstatus = StatusCode.PERMISSION_DENIED\n\tdetails = \"Cloud Document AI API has not been used in project 522309567947 before or it is disabled. Enable it by visiting https://console.developers.google.com/apis/api/documentai.googleapis.com/overview?project=522309567947 then retry. If you enabled this API recently, wait a few minutes for the action to propagate to our systems and retry.\"\n\tdebug_error_string = \"UNKNOWN:Error received from peer ipv4:142.251.162.95:443 {created_time:\"2024-03-12T16:29:01.876684981+00:00\", grpc_status:7, grpc_message:\"Cloud Document AI API has not been used in project 522309567947 before or it is disabled. Enable it by visiting https://console.developers.google.com/apis/api/documentai.googleapis.com/overview?project=522309567947 then retry. If you enabled this API recently, wait a few minutes for the action to propagate to our systems and retry.\"}\"\n>",
            "\nThe above exception was the direct cause of the following exception:\n",
            "\u001b[0;31mPermissionDenied\u001b[0m                          Traceback (most recent call last)",
            "\u001b[0;32m<ipython-input-31-4078cafd3c1f>\u001b[0m in \u001b[0;36m<cell line: 12>\u001b[0;34m()\u001b[0m\n\u001b[1;32m     10\u001b[0m \u001b[0;34m\u001b[0m\u001b[0m\n\u001b[1;32m     11\u001b[0m \u001b[0;34m\u001b[0m\u001b[0m\n\u001b[0;32m---> 12\u001b[0;31m \u001b[0mdelete_processor\u001b[0m\u001b[0;34m(\u001b[0m\u001b[0mprocessor_name\u001b[0m\u001b[0;34m)\u001b[0m\u001b[0;34m\u001b[0m\u001b[0;34m\u001b[0m\u001b[0m\n\u001b[0m",
            "\u001b[0;32m<ipython-input-31-4078cafd3c1f>\u001b[0m in \u001b[0;36mdelete_processor\u001b[0;34m(processor_name)\u001b[0m\n\u001b[1;32m      7\u001b[0m     \u001b[0mprint\u001b[0m\u001b[0;34m(\u001b[0m\u001b[0moperation\u001b[0m\u001b[0;34m.\u001b[0m\u001b[0moperation\u001b[0m\u001b[0;34m.\u001b[0m\u001b[0mname\u001b[0m\u001b[0;34m)\u001b[0m\u001b[0;34m\u001b[0m\u001b[0;34m\u001b[0m\u001b[0m\n\u001b[1;32m      8\u001b[0m     \u001b[0;31m# Wait for operation to complete\u001b[0m\u001b[0;34m\u001b[0m\u001b[0;34m\u001b[0m\u001b[0m\n\u001b[0;32m----> 9\u001b[0;31m     \u001b[0moperation\u001b[0m\u001b[0;34m.\u001b[0m\u001b[0mresult\u001b[0m\u001b[0;34m(\u001b[0m\u001b[0;34m)\u001b[0m\u001b[0;34m\u001b[0m\u001b[0;34m\u001b[0m\u001b[0m\n\u001b[0m\u001b[1;32m     10\u001b[0m \u001b[0;34m\u001b[0m\u001b[0m\n\u001b[1;32m     11\u001b[0m \u001b[0;34m\u001b[0m\u001b[0m\n",
            "\u001b[0;32m/usr/local/lib/python3.10/dist-packages/google/api_core/future/polling.py\u001b[0m in \u001b[0;36mresult\u001b[0;34m(self, timeout, retry, polling)\u001b[0m\n\u001b[1;32m    254\u001b[0m         \"\"\"\n\u001b[1;32m    255\u001b[0m \u001b[0;34m\u001b[0m\u001b[0m\n\u001b[0;32m--> 256\u001b[0;31m         \u001b[0mself\u001b[0m\u001b[0;34m.\u001b[0m\u001b[0m_blocking_poll\u001b[0m\u001b[0;34m(\u001b[0m\u001b[0mtimeout\u001b[0m\u001b[0;34m=\u001b[0m\u001b[0mtimeout\u001b[0m\u001b[0;34m,\u001b[0m \u001b[0mretry\u001b[0m\u001b[0;34m=\u001b[0m\u001b[0mretry\u001b[0m\u001b[0;34m,\u001b[0m \u001b[0mpolling\u001b[0m\u001b[0;34m=\u001b[0m\u001b[0mpolling\u001b[0m\u001b[0;34m)\u001b[0m\u001b[0;34m\u001b[0m\u001b[0;34m\u001b[0m\u001b[0m\n\u001b[0m\u001b[1;32m    257\u001b[0m \u001b[0;34m\u001b[0m\u001b[0m\n\u001b[1;32m    258\u001b[0m         \u001b[0;32mif\u001b[0m \u001b[0mself\u001b[0m\u001b[0;34m.\u001b[0m\u001b[0m_exception\u001b[0m \u001b[0;32mis\u001b[0m \u001b[0;32mnot\u001b[0m \u001b[0;32mNone\u001b[0m\u001b[0;34m:\u001b[0m\u001b[0;34m\u001b[0m\u001b[0;34m\u001b[0m\u001b[0m\n",
            "\u001b[0;32m/usr/local/lib/python3.10/dist-packages/google/api_core/future/polling.py\u001b[0m in \u001b[0;36m_blocking_poll\u001b[0;34m(self, timeout, retry, polling)\u001b[0m\n\u001b[1;32m    135\u001b[0m \u001b[0;34m\u001b[0m\u001b[0m\n\u001b[1;32m    136\u001b[0m         \u001b[0;32mtry\u001b[0m\u001b[0;34m:\u001b[0m\u001b[0;34m\u001b[0m\u001b[0;34m\u001b[0m\u001b[0m\n\u001b[0;32m--> 137\u001b[0;31m             \u001b[0mpolling\u001b[0m\u001b[0;34m(\u001b[0m\u001b[0mself\u001b[0m\u001b[0;34m.\u001b[0m\u001b[0m_done_or_raise\u001b[0m\u001b[0;34m)\u001b[0m\u001b[0;34m(\u001b[0m\u001b[0mretry\u001b[0m\u001b[0;34m=\u001b[0m\u001b[0mretry\u001b[0m\u001b[0;34m)\u001b[0m\u001b[0;34m\u001b[0m\u001b[0;34m\u001b[0m\u001b[0m\n\u001b[0m\u001b[1;32m    138\u001b[0m         \u001b[0;32mexcept\u001b[0m \u001b[0mexceptions\u001b[0m\u001b[0;34m.\u001b[0m\u001b[0mRetryError\u001b[0m\u001b[0;34m:\u001b[0m\u001b[0;34m\u001b[0m\u001b[0;34m\u001b[0m\u001b[0m\n\u001b[1;32m    139\u001b[0m             raise concurrent.futures.TimeoutError(\n",
            "\u001b[0;32m/usr/local/lib/python3.10/dist-packages/google/api_core/retry.py\u001b[0m in \u001b[0;36mretry_wrapped_func\u001b[0;34m(*args, **kwargs)\u001b[0m\n\u001b[1;32m    347\u001b[0m                 \u001b[0mself\u001b[0m\u001b[0;34m.\u001b[0m\u001b[0m_initial\u001b[0m\u001b[0;34m,\u001b[0m \u001b[0mself\u001b[0m\u001b[0;34m.\u001b[0m\u001b[0m_maximum\u001b[0m\u001b[0;34m,\u001b[0m \u001b[0mmultiplier\u001b[0m\u001b[0;34m=\u001b[0m\u001b[0mself\u001b[0m\u001b[0;34m.\u001b[0m\u001b[0m_multiplier\u001b[0m\u001b[0;34m\u001b[0m\u001b[0;34m\u001b[0m\u001b[0m\n\u001b[1;32m    348\u001b[0m             )\n\u001b[0;32m--> 349\u001b[0;31m             return retry_target(\n\u001b[0m\u001b[1;32m    350\u001b[0m                 \u001b[0mtarget\u001b[0m\u001b[0;34m,\u001b[0m\u001b[0;34m\u001b[0m\u001b[0;34m\u001b[0m\u001b[0m\n\u001b[1;32m    351\u001b[0m                 \u001b[0mself\u001b[0m\u001b[0;34m.\u001b[0m\u001b[0m_predicate\u001b[0m\u001b[0;34m,\u001b[0m\u001b[0;34m\u001b[0m\u001b[0;34m\u001b[0m\u001b[0m\n",
            "\u001b[0;32m/usr/local/lib/python3.10/dist-packages/google/api_core/retry.py\u001b[0m in \u001b[0;36mretry_target\u001b[0;34m(target, predicate, sleep_generator, timeout, on_error, **kwargs)\u001b[0m\n\u001b[1;32m    189\u001b[0m     \u001b[0;32mfor\u001b[0m \u001b[0msleep\u001b[0m \u001b[0;32min\u001b[0m \u001b[0msleep_generator\u001b[0m\u001b[0;34m:\u001b[0m\u001b[0;34m\u001b[0m\u001b[0;34m\u001b[0m\u001b[0m\n\u001b[1;32m    190\u001b[0m         \u001b[0;32mtry\u001b[0m\u001b[0;34m:\u001b[0m\u001b[0;34m\u001b[0m\u001b[0;34m\u001b[0m\u001b[0m\n\u001b[0;32m--> 191\u001b[0;31m             \u001b[0;32mreturn\u001b[0m \u001b[0mtarget\u001b[0m\u001b[0;34m(\u001b[0m\u001b[0;34m)\u001b[0m\u001b[0;34m\u001b[0m\u001b[0;34m\u001b[0m\u001b[0m\n\u001b[0m\u001b[1;32m    192\u001b[0m \u001b[0;34m\u001b[0m\u001b[0m\n\u001b[1;32m    193\u001b[0m         \u001b[0;31m# pylint: disable=broad-except\u001b[0m\u001b[0;34m\u001b[0m\u001b[0;34m\u001b[0m\u001b[0m\n",
            "\u001b[0;32m/usr/local/lib/python3.10/dist-packages/google/api_core/future/polling.py\u001b[0m in \u001b[0;36m_done_or_raise\u001b[0;34m(self, retry)\u001b[0m\n\u001b[1;32m    117\u001b[0m     \u001b[0;32mdef\u001b[0m \u001b[0m_done_or_raise\u001b[0m\u001b[0;34m(\u001b[0m\u001b[0mself\u001b[0m\u001b[0;34m,\u001b[0m \u001b[0mretry\u001b[0m\u001b[0;34m=\u001b[0m\u001b[0;32mNone\u001b[0m\u001b[0;34m)\u001b[0m\u001b[0;34m:\u001b[0m\u001b[0;34m\u001b[0m\u001b[0;34m\u001b[0m\u001b[0m\n\u001b[1;32m    118\u001b[0m         \u001b[0;34m\"\"\"Check if the future is done and raise if it's not.\"\"\"\u001b[0m\u001b[0;34m\u001b[0m\u001b[0;34m\u001b[0m\u001b[0m\n\u001b[0;32m--> 119\u001b[0;31m         \u001b[0;32mif\u001b[0m \u001b[0;32mnot\u001b[0m \u001b[0mself\u001b[0m\u001b[0;34m.\u001b[0m\u001b[0mdone\u001b[0m\u001b[0;34m(\u001b[0m\u001b[0mretry\u001b[0m\u001b[0;34m=\u001b[0m\u001b[0mretry\u001b[0m\u001b[0;34m)\u001b[0m\u001b[0;34m:\u001b[0m\u001b[0;34m\u001b[0m\u001b[0;34m\u001b[0m\u001b[0m\n\u001b[0m\u001b[1;32m    120\u001b[0m             \u001b[0;32mraise\u001b[0m \u001b[0m_OperationNotComplete\u001b[0m\u001b[0;34m(\u001b[0m\u001b[0;34m)\u001b[0m\u001b[0;34m\u001b[0m\u001b[0;34m\u001b[0m\u001b[0m\n\u001b[1;32m    121\u001b[0m \u001b[0;34m\u001b[0m\u001b[0m\n",
            "\u001b[0;32m/usr/local/lib/python3.10/dist-packages/google/api_core/operation.py\u001b[0m in \u001b[0;36mdone\u001b[0;34m(self, retry)\u001b[0m\n\u001b[1;32m    172\u001b[0m             \u001b[0mbool\u001b[0m\u001b[0;34m:\u001b[0m \u001b[0;32mTrue\u001b[0m \u001b[0;32mif\u001b[0m \u001b[0mthe\u001b[0m \u001b[0moperation\u001b[0m \u001b[0;32mis\u001b[0m \u001b[0mcomplete\u001b[0m\u001b[0;34m,\u001b[0m \u001b[0;32mFalse\u001b[0m \u001b[0motherwise\u001b[0m\u001b[0;34m.\u001b[0m\u001b[0;34m\u001b[0m\u001b[0;34m\u001b[0m\u001b[0m\n\u001b[1;32m    173\u001b[0m         \"\"\"\n\u001b[0;32m--> 174\u001b[0;31m         \u001b[0mself\u001b[0m\u001b[0;34m.\u001b[0m\u001b[0m_refresh_and_update\u001b[0m\u001b[0;34m(\u001b[0m\u001b[0mretry\u001b[0m\u001b[0;34m)\u001b[0m\u001b[0;34m\u001b[0m\u001b[0;34m\u001b[0m\u001b[0m\n\u001b[0m\u001b[1;32m    175\u001b[0m         \u001b[0;32mreturn\u001b[0m \u001b[0mself\u001b[0m\u001b[0;34m.\u001b[0m\u001b[0m_operation\u001b[0m\u001b[0;34m.\u001b[0m\u001b[0mdone\u001b[0m\u001b[0;34m\u001b[0m\u001b[0;34m\u001b[0m\u001b[0m\n\u001b[1;32m    176\u001b[0m \u001b[0;34m\u001b[0m\u001b[0m\n",
            "\u001b[0;32m/usr/local/lib/python3.10/dist-packages/google/api_core/operation.py\u001b[0m in \u001b[0;36m_refresh_and_update\u001b[0;34m(self, retry)\u001b[0m\n\u001b[1;32m    160\u001b[0m         \u001b[0;31m# RPC as it will not change once done.\u001b[0m\u001b[0;34m\u001b[0m\u001b[0;34m\u001b[0m\u001b[0m\n\u001b[1;32m    161\u001b[0m         \u001b[0;32mif\u001b[0m \u001b[0;32mnot\u001b[0m \u001b[0mself\u001b[0m\u001b[0;34m.\u001b[0m\u001b[0m_operation\u001b[0m\u001b[0;34m.\u001b[0m\u001b[0mdone\u001b[0m\u001b[0;34m:\u001b[0m\u001b[0;34m\u001b[0m\u001b[0;34m\u001b[0m\u001b[0m\n\u001b[0;32m--> 162\u001b[0;31m             \u001b[0mself\u001b[0m\u001b[0;34m.\u001b[0m\u001b[0m_operation\u001b[0m \u001b[0;34m=\u001b[0m \u001b[0mself\u001b[0m\u001b[0;34m.\u001b[0m\u001b[0m_refresh\u001b[0m\u001b[0;34m(\u001b[0m\u001b[0mretry\u001b[0m\u001b[0;34m=\u001b[0m\u001b[0mretry\u001b[0m\u001b[0;34m)\u001b[0m \u001b[0;32mif\u001b[0m \u001b[0mretry\u001b[0m \u001b[0;32melse\u001b[0m \u001b[0mself\u001b[0m\u001b[0;34m.\u001b[0m\u001b[0m_refresh\u001b[0m\u001b[0;34m(\u001b[0m\u001b[0;34m)\u001b[0m\u001b[0;34m\u001b[0m\u001b[0;34m\u001b[0m\u001b[0m\n\u001b[0m\u001b[1;32m    163\u001b[0m             \u001b[0mself\u001b[0m\u001b[0;34m.\u001b[0m\u001b[0m_set_result_from_operation\u001b[0m\u001b[0;34m(\u001b[0m\u001b[0;34m)\u001b[0m\u001b[0;34m\u001b[0m\u001b[0;34m\u001b[0m\u001b[0m\n\u001b[1;32m    164\u001b[0m \u001b[0;34m\u001b[0m\u001b[0m\n",
            "\u001b[0;32m/usr/local/lib/python3.10/dist-packages/google/api_core/operations_v1/operations_client.py\u001b[0m in \u001b[0;36mget_operation\u001b[0;34m(self, name, retry, timeout, metadata)\u001b[0m\n\u001b[1;32m    147\u001b[0m         \u001b[0mmetadata\u001b[0m\u001b[0;34m.\u001b[0m\u001b[0mappend\u001b[0m\u001b[0;34m(\u001b[0m\u001b[0mgapic_v1\u001b[0m\u001b[0;34m.\u001b[0m\u001b[0mrouting_header\u001b[0m\u001b[0;34m.\u001b[0m\u001b[0mto_grpc_metadata\u001b[0m\u001b[0;34m(\u001b[0m\u001b[0;34m{\u001b[0m\u001b[0;34m\"name\"\u001b[0m\u001b[0;34m:\u001b[0m \u001b[0mname\u001b[0m\u001b[0;34m}\u001b[0m\u001b[0;34m)\u001b[0m\u001b[0;34m)\u001b[0m\u001b[0;34m\u001b[0m\u001b[0;34m\u001b[0m\u001b[0m\n\u001b[1;32m    148\u001b[0m \u001b[0;34m\u001b[0m\u001b[0m\n\u001b[0;32m--> 149\u001b[0;31m         return self._get_operation(\n\u001b[0m\u001b[1;32m    150\u001b[0m             \u001b[0mrequest\u001b[0m\u001b[0;34m,\u001b[0m \u001b[0mretry\u001b[0m\u001b[0;34m=\u001b[0m\u001b[0mretry\u001b[0m\u001b[0;34m,\u001b[0m \u001b[0mtimeout\u001b[0m\u001b[0;34m=\u001b[0m\u001b[0mtimeout\u001b[0m\u001b[0;34m,\u001b[0m \u001b[0mmetadata\u001b[0m\u001b[0;34m=\u001b[0m\u001b[0mmetadata\u001b[0m\u001b[0;34m\u001b[0m\u001b[0;34m\u001b[0m\u001b[0m\n\u001b[1;32m    151\u001b[0m         )\n",
            "\u001b[0;32m/usr/local/lib/python3.10/dist-packages/google/api_core/gapic_v1/method.py\u001b[0m in \u001b[0;36m__call__\u001b[0;34m(self, timeout, retry, *args, **kwargs)\u001b[0m\n\u001b[1;32m    111\u001b[0m             \u001b[0mkwargs\u001b[0m\u001b[0;34m[\u001b[0m\u001b[0;34m\"metadata\"\u001b[0m\u001b[0;34m]\u001b[0m \u001b[0;34m=\u001b[0m \u001b[0mmetadata\u001b[0m\u001b[0;34m\u001b[0m\u001b[0;34m\u001b[0m\u001b[0m\n\u001b[1;32m    112\u001b[0m \u001b[0;34m\u001b[0m\u001b[0m\n\u001b[0;32m--> 113\u001b[0;31m         \u001b[0;32mreturn\u001b[0m \u001b[0mwrapped_func\u001b[0m\u001b[0;34m(\u001b[0m\u001b[0;34m*\u001b[0m\u001b[0margs\u001b[0m\u001b[0;34m,\u001b[0m \u001b[0;34m**\u001b[0m\u001b[0mkwargs\u001b[0m\u001b[0;34m)\u001b[0m\u001b[0;34m\u001b[0m\u001b[0;34m\u001b[0m\u001b[0m\n\u001b[0m\u001b[1;32m    114\u001b[0m \u001b[0;34m\u001b[0m\u001b[0m\n\u001b[1;32m    115\u001b[0m \u001b[0;34m\u001b[0m\u001b[0m\n",
            "\u001b[0;32m/usr/local/lib/python3.10/dist-packages/google/api_core/retry.py\u001b[0m in \u001b[0;36mretry_wrapped_func\u001b[0;34m(*args, **kwargs)\u001b[0m\n\u001b[1;32m    347\u001b[0m                 \u001b[0mself\u001b[0m\u001b[0;34m.\u001b[0m\u001b[0m_initial\u001b[0m\u001b[0;34m,\u001b[0m \u001b[0mself\u001b[0m\u001b[0;34m.\u001b[0m\u001b[0m_maximum\u001b[0m\u001b[0;34m,\u001b[0m \u001b[0mmultiplier\u001b[0m\u001b[0;34m=\u001b[0m\u001b[0mself\u001b[0m\u001b[0;34m.\u001b[0m\u001b[0m_multiplier\u001b[0m\u001b[0;34m\u001b[0m\u001b[0;34m\u001b[0m\u001b[0m\n\u001b[1;32m    348\u001b[0m             )\n\u001b[0;32m--> 349\u001b[0;31m             return retry_target(\n\u001b[0m\u001b[1;32m    350\u001b[0m                 \u001b[0mtarget\u001b[0m\u001b[0;34m,\u001b[0m\u001b[0;34m\u001b[0m\u001b[0;34m\u001b[0m\u001b[0m\n\u001b[1;32m    351\u001b[0m                 \u001b[0mself\u001b[0m\u001b[0;34m.\u001b[0m\u001b[0m_predicate\u001b[0m\u001b[0;34m,\u001b[0m\u001b[0;34m\u001b[0m\u001b[0;34m\u001b[0m\u001b[0m\n",
            "\u001b[0;32m/usr/local/lib/python3.10/dist-packages/google/api_core/retry.py\u001b[0m in \u001b[0;36mretry_target\u001b[0;34m(target, predicate, sleep_generator, timeout, on_error, **kwargs)\u001b[0m\n\u001b[1;32m    189\u001b[0m     \u001b[0;32mfor\u001b[0m \u001b[0msleep\u001b[0m \u001b[0;32min\u001b[0m \u001b[0msleep_generator\u001b[0m\u001b[0;34m:\u001b[0m\u001b[0;34m\u001b[0m\u001b[0;34m\u001b[0m\u001b[0m\n\u001b[1;32m    190\u001b[0m         \u001b[0;32mtry\u001b[0m\u001b[0;34m:\u001b[0m\u001b[0;34m\u001b[0m\u001b[0;34m\u001b[0m\u001b[0m\n\u001b[0;32m--> 191\u001b[0;31m             \u001b[0;32mreturn\u001b[0m \u001b[0mtarget\u001b[0m\u001b[0;34m(\u001b[0m\u001b[0;34m)\u001b[0m\u001b[0;34m\u001b[0m\u001b[0;34m\u001b[0m\u001b[0m\n\u001b[0m\u001b[1;32m    192\u001b[0m \u001b[0;34m\u001b[0m\u001b[0m\n\u001b[1;32m    193\u001b[0m         \u001b[0;31m# pylint: disable=broad-except\u001b[0m\u001b[0;34m\u001b[0m\u001b[0;34m\u001b[0m\u001b[0m\n",
            "\u001b[0;32m/usr/local/lib/python3.10/dist-packages/google/api_core/timeout.py\u001b[0m in \u001b[0;36mfunc_with_timeout\u001b[0;34m(*args, **kwargs)\u001b[0m\n\u001b[1;32m    118\u001b[0m                 \u001b[0mkwargs\u001b[0m\u001b[0;34m[\u001b[0m\u001b[0;34m\"timeout\"\u001b[0m\u001b[0;34m]\u001b[0m \u001b[0;34m=\u001b[0m \u001b[0mmax\u001b[0m\u001b[0;34m(\u001b[0m\u001b[0;36m0\u001b[0m\u001b[0;34m,\u001b[0m \u001b[0mself\u001b[0m\u001b[0;34m.\u001b[0m\u001b[0m_timeout\u001b[0m \u001b[0;34m-\u001b[0m \u001b[0mtime_since_first_attempt\u001b[0m\u001b[0;34m)\u001b[0m\u001b[0;34m\u001b[0m\u001b[0;34m\u001b[0m\u001b[0m\n\u001b[1;32m    119\u001b[0m \u001b[0;34m\u001b[0m\u001b[0m\n\u001b[0;32m--> 120\u001b[0;31m             \u001b[0;32mreturn\u001b[0m \u001b[0mfunc\u001b[0m\u001b[0;34m(\u001b[0m\u001b[0;34m*\u001b[0m\u001b[0margs\u001b[0m\u001b[0;34m,\u001b[0m \u001b[0;34m**\u001b[0m\u001b[0mkwargs\u001b[0m\u001b[0;34m)\u001b[0m\u001b[0;34m\u001b[0m\u001b[0;34m\u001b[0m\u001b[0m\n\u001b[0m\u001b[1;32m    121\u001b[0m \u001b[0;34m\u001b[0m\u001b[0m\n\u001b[1;32m    122\u001b[0m         \u001b[0;32mreturn\u001b[0m \u001b[0mfunc_with_timeout\u001b[0m\u001b[0;34m\u001b[0m\u001b[0;34m\u001b[0m\u001b[0m\n",
            "\u001b[0;32m/usr/local/lib/python3.10/dist-packages/google/api_core/grpc_helpers.py\u001b[0m in \u001b[0;36merror_remapped_callable\u001b[0;34m(*args, **kwargs)\u001b[0m\n\u001b[1;32m     72\u001b[0m             \u001b[0;32mreturn\u001b[0m \u001b[0mcallable_\u001b[0m\u001b[0;34m(\u001b[0m\u001b[0;34m*\u001b[0m\u001b[0margs\u001b[0m\u001b[0;34m,\u001b[0m \u001b[0;34m**\u001b[0m\u001b[0mkwargs\u001b[0m\u001b[0;34m)\u001b[0m\u001b[0;34m\u001b[0m\u001b[0;34m\u001b[0m\u001b[0m\n\u001b[1;32m     73\u001b[0m         \u001b[0;32mexcept\u001b[0m \u001b[0mgrpc\u001b[0m\u001b[0;34m.\u001b[0m\u001b[0mRpcError\u001b[0m \u001b[0;32mas\u001b[0m \u001b[0mexc\u001b[0m\u001b[0;34m:\u001b[0m\u001b[0;34m\u001b[0m\u001b[0;34m\u001b[0m\u001b[0m\n\u001b[0;32m---> 74\u001b[0;31m             \u001b[0;32mraise\u001b[0m \u001b[0mexceptions\u001b[0m\u001b[0;34m.\u001b[0m\u001b[0mfrom_grpc_error\u001b[0m\u001b[0;34m(\u001b[0m\u001b[0mexc\u001b[0m\u001b[0;34m)\u001b[0m \u001b[0;32mfrom\u001b[0m \u001b[0mexc\u001b[0m\u001b[0;34m\u001b[0m\u001b[0;34m\u001b[0m\u001b[0m\n\u001b[0m\u001b[1;32m     75\u001b[0m \u001b[0;34m\u001b[0m\u001b[0m\n\u001b[1;32m     76\u001b[0m     \u001b[0;32mreturn\u001b[0m \u001b[0merror_remapped_callable\u001b[0m\u001b[0;34m\u001b[0m\u001b[0;34m\u001b[0m\u001b[0m\n",
            "\u001b[0;31mPermissionDenied\u001b[0m: 403 Cloud Document AI API has not been used in project 522309567947 before or it is disabled. Enable it by visiting https://console.developers.google.com/apis/api/documentai.googleapis.com/overview?project=522309567947 then retry. If you enabled this API recently, wait a few minutes for the action to propagate to our systems and retry. [links {\n  description: \"Google developers console API activation\"\n  url: \"https://console.developers.google.com/apis/api/documentai.googleapis.com/overview?project=522309567947\"\n}\n, reason: \"SERVICE_DISABLED\"\ndomain: \"googleapis.com\"\nmetadata {\n  key: \"consumer\"\n  value: \"projects/522309567947\"\n}\nmetadata {\n  key: \"service\"\n  value: \"documentai.googleapis.com\"\n}\n]"
          ]
        }
      ],
      "source": [
        "def delete_processor(processor_name: str) -> None:\n",
        "    client = documentai.DocumentProcessorServiceClient(client_options=client_options)\n",
        "\n",
        "    # Delete a processor\n",
        "    operation = client.delete_processor(name=processor_name)\n",
        "    # Print operation details\n",
        "    print(operation.operation.name)\n",
        "    # Wait for operation to complete\n",
        "    operation.result()\n",
        "\n",
        "\n",
        "delete_processor(processor_name)"
      ]
    }
  ],
  "metadata": {
    "colab": {
      "provenance": []
    },
    "environment": {
      "kernel": "python3",
      "name": "tf2-gpu.2-11.m108",
      "type": "gcloud",
      "uri": "gcr.io/deeplearning-platform-release/tf2-gpu.2-11:m108"
    },
    "kernelspec": {
      "display_name": "Python 3 (ipykernel)",
      "language": "python",
      "name": "python3"
    },
    "language_info": {
      "codemirror_mode": {
        "name": "ipython",
        "version": 3
      },
      "file_extension": ".py",
      "mimetype": "text/x-python",
      "name": "python",
      "nbconvert_exporter": "python",
      "pygments_lexer": "ipython3",
      "version": "3.10.10"
    }
  },
  "nbformat": 4,
  "nbformat_minor": 0
}