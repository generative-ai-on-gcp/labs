{
 "cells": [
  {
   "cell_type": "code",
   "execution_count": null,
   "id": "12f830ff-abaa-4f09-91ab-5ef3841bdcb0",
   "metadata": {
    "tags": []
   },
   "outputs": [],
   "source": [
    "# Licensed under the Apache License, Version 2.0 (the \"License\");\n",
    "# you may not use this file except in compliance with the License.\n",
    "# You may obtain a copy of the License at\n",
    "#\n",
    "#     https://www.apache.org/licenses/LICENSE-2.0\n",
    "#\n",
    "# Unless required by applicable law or agreed to in writing, software\n",
    "# distributed under the License is distributed on an \"AS IS\" BASIS,\n",
    "# WITHOUT WARRANTIES OR CONDITIONS OF ANY KIND, either express or implied.\n",
    "# See the License for the specific language governing permissions and\n",
    "# limitations under the License."
   ]
  },
  {
   "cell_type": "markdown",
   "id": "a357c779-c3b8-4da8-9cc9-f48529c74817",
   "metadata": {},
   "source": [
    "# Lab 4.1: Accessing foundation LLMs on Google Cloud using Vertex AI"
   ]
  },
  {
   "cell_type": "markdown",
   "id": "8736ee12-d0ef-4e43-9425-db0e6fa0c7f4",
   "metadata": {},
   "source": [
    "## Overview\n",
    "\n",
    "This notebook covers how to access following foundation LLMs available on Vertex AI Model Garden\n",
    "1. Gemini 1.0 Pro from Google (1st party)\n",
    "2. Claude 3 from Anthropic (3rd party)\n",
    "3. Llama2 from Meta (Open models)\n",
    "\n",
    "\n",
    "### Costs\n",
    "This tutorial uses billable components of Google Cloud:\n",
    "\n",
    "* Vertex AI Generative AI Studio\n",
    "\n",
    "Learn about [Vertex AI pricing](https://cloud.google.com/vertex-ai/pricing),\n",
    "and use the [Pricing Calculator](https://cloud.google.com/products/calculator/)\n",
    "to generate a cost estimate based on your projected usage."
   ]
  },
  {
   "cell_type": "markdown",
   "id": "ee245fbe-c3fa-45b8-9544-be70c33d4f6f",
   "metadata": {
    "tags": []
   },
   "source": [
    "### Authentication"
   ]
  },
  {
   "cell_type": "markdown",
   "id": "c1799a7e-ed9c-4ef8-91e2-147f3c46cf18",
   "metadata": {},
   "source": [
    "- Authenticate your notebook environment (Colab only)"
   ]
  },
  {
   "cell_type": "code",
   "execution_count": null,
   "id": "10ce788a-dab3-42ac-ba2a-6b2bfe7406be",
   "metadata": {
    "tags": []
   },
   "outputs": [],
   "source": [
    "import sys\n",
    "\n",
    "# Additional authentication is required for Google Colab\n",
    "if \"google.colab\" in sys.modules:\n",
    "    # Authenticate user to Google Cloud\n",
    "    from google.colab import auth\n",
    "\n",
    "    auth.authenticate_user()"
   ]
  },
  {
   "cell_type": "markdown",
   "id": "48e732bd-2176-4f83-bb4e-55c271db1a79",
   "metadata": {
    "tags": []
   },
   "source": [
    "### Restart runtime\n",
    "\n",
    "To use the newly installed packages in this Jupyter runtime, you must restart the runtime. You can do this by running the cell below, which restarts the current kernel."
   ]
  },
  {
   "cell_type": "code",
   "execution_count": null,
   "id": "ad5095bd-372a-49c1-a112-648a0bb5f8ac",
   "metadata": {
    "tags": []
   },
   "outputs": [],
   "source": [
    "def restart_runtime():\n",
    "    # Restart kernel after installs so that your environment can access the new packages\n",
    "    import IPython\n",
    "\n",
    "    app = IPython.Application.instance()\n",
    "    app.kernel.do_shutdown(True)"
   ]
  },
  {
   "cell_type": "markdown",
   "id": "323b5aca-5e31-403a-ae56-fb65a4dbc8a3",
   "metadata": {
    "tags": []
   },
   "source": [
    "## Gemini 1.0 Pro from Google (first party)"
   ]
  },
  {
   "cell_type": "markdown",
   "id": "eb9f741a-d330-47a2-b191-9ecce5e96551",
   "metadata": {},
   "source": [
    "### Install packages"
   ]
  },
  {
   "cell_type": "code",
   "execution_count": null,
   "id": "ca967240-084e-4425-8ccf-48f8c31bce07",
   "metadata": {
    "tags": []
   },
   "outputs": [],
   "source": [
    "! pip install google-cloud-aiplatform --upgrade --quiet --user"
   ]
  },
  {
   "cell_type": "markdown",
   "id": "4200af2f-e56d-4bbe-ab65-1ad3869690ea",
   "metadata": {},
   "source": [
    "- Restart runtime\n",
    "\n",
    "> [!WARNING]\n",
    "> ⚠️ The kernel is going to restart. Please wait until it is finished before continuing to the next step. ⚠️"
   ]
  },
  {
   "cell_type": "code",
   "execution_count": null,
   "id": "676bf3b4-83f3-4056-b543-a651ca99b295",
   "metadata": {
    "tags": []
   },
   "outputs": [],
   "source": [
    "restart_runtime()"
   ]
  },
  {
   "cell_type": "markdown",
   "id": "2bdedcca-768e-4236-b8ec-57c484f8c0b4",
   "metadata": {},
   "source": [
    "### Import Packages"
   ]
  },
  {
   "cell_type": "code",
   "execution_count": 1,
   "id": "b30d590e-d88d-4150-a590-a5010e9a6ffe",
   "metadata": {
    "tags": []
   },
   "outputs": [
    {
     "name": "stdout",
     "output_type": "stream",
     "text": [
      "Vertex AI SDK version: 1.61.0\n"
     ]
    }
   ],
   "source": [
    "import vertexai\n",
    "\n",
    "from vertexai.generative_models import GenerativeModel\n",
    "\n",
    "from IPython.core.interactiveshell import InteractiveShell\n",
    "InteractiveShell.ast_node_interactivity = \"all\"\n",
    "\n",
    "print(f\"Vertex AI SDK version: {vertexai.__version__}\")"
   ]
  },
  {
   "cell_type": "markdown",
   "id": "499a4dd5-49c0-49c3-b8b4-7c84e7d02ed4",
   "metadata": {},
   "source": [
    "### Initialize"
   ]
  },
  {
   "cell_type": "code",
   "execution_count": 2,
   "id": "8a240ccc-b8bf-4ef9-ade3-46ed77ae3cb7",
   "metadata": {
    "tags": []
   },
   "outputs": [],
   "source": [
    "PROJECT_ID = \"[your-project-id]\"  # @param {type:\"string\"}\n",
    "PROJECT_ID = \"rthallam-demo-project\"  # @param {type:\"string\"}\n",
    "LOCATION = \"us-central1\"  # @param {type:\"string\"}\n",
    "\n",
    "vertexai.init(project=PROJECT_ID, location=LOCATION)     "
   ]
  },
  {
   "cell_type": "markdown",
   "id": "737d9136-6672-4fe5-a4b0-5033c66fca35",
   "metadata": {},
   "source": [
    "### Load model and run a sample prompt"
   ]
  },
  {
   "cell_type": "code",
   "execution_count": 38,
   "id": "e27d6da4-1095-4d6f-af78-c93b51a2cc04",
   "metadata": {
    "tags": []
   },
   "outputs": [],
   "source": [
    "# Load model with system instructions\n",
    "MODEL_ID = \"gemini-1.5-pro-001\"  # @param {type:\"string\"}\n",
    "model = GenerativeModel(MODEL_ID)"
   ]
  },
  {
   "cell_type": "code",
   "execution_count": 15,
   "id": "aaad7950-2350-48a3-835e-830d4a1944ea",
   "metadata": {
    "tags": []
   },
   "outputs": [
    {
     "name": "stdout",
     "output_type": "stream",
     "text": [
      "\n",
      "Answer:\n",
      "You could try a Caprese salad with fresh mozzarella, tomatoes, and basil, or a tomato and avocado toast with a drizzle of balsamic vinegar. \n",
      "\n"
     ]
    }
   ],
   "source": [
    "prompt_template = \"\"\"You are a helpful AI bot to figure out what to eat in one or two short sentences.\n",
    "I like {user_input}, what should I eat?\"\"\"\n",
    "\n",
    "# Set contents to send to the model\n",
    "prompt = prompt_template.format(user_input=\"tomatoes\")\n",
    "\n",
    "# Prompt the model to generate content\n",
    "response = model.generate_content(prompt)\n",
    "\n",
    "# Print the model response\n",
    "print(f\"\\nAnswer:\\n{response.text}\")"
   ]
  },
  {
   "cell_type": "code",
   "execution_count": 20,
   "id": "1150f2b2-eb09-4bdf-94a0-04cf96118bc5",
   "metadata": {
    "tags": []
   },
   "outputs": [
    {
     "name": "stdout",
     "output_type": "stream",
     "text": [
      "\n",
      "Answer:\n",
      "## California Adventure: A 7-Day Backpacking Itinerary for the Off-the-Beaten-Path Explorer\n",
      "\n",
      "**Target Audience:** Solo travelers, backpackers, budget-conscious, adventure seekers (20-35 age range)\n",
      "\n",
      "**Theme:** Embracing California's natural beauty, experiencing local culture, and seeking unique off-the-beaten-path adventures.\n",
      "\n",
      "**Day** | **Location** | **Experiences** | **Things to Know** | **The How**\n",
      "------- | -------- | -------- | -------- | --------\n",
      "**Day 1** | **Mendocino (Sonoma Coast)** | - Hike through the Redwood National and State Parks, marveling at the towering giants. - Explore the rugged coastline, searching for tide pools and hidden coves. -  Camp under the stars at Van Damme State Park. | - Pack warm clothes and waterproof gear. - Be prepared for limited cell service. - Bring your own food and water. | - Take the scenic Highway 1 north from San Francisco. - Purchase a Redwood National and State Parks pass. - Reserve your campsite in advance.\n",
      "**Day 2** | **Mendocino (Sonoma Coast)** | - Kayak or paddleboard through the Mendocino Bay, spotting sea lions and harbor seals. - Visit the charming town of Mendocino, exploring its art galleries and quirky shops. - Attend a bonfire on the beach, enjoying live music and local food. | - Kayaking and paddleboard rentals are available in Mendocino. - Check for bonfire schedules and events at the Mendocino Visitor Center. - Pack layers for the changing coastal weather. | - Rent your kayak or paddleboard. - Explore Mendocino's Main Street and browse the shops. - Join the bonfire at Russian Gulch State Park.\n",
      "**Day 3** | **Yosemite National Park** | - Hike the Mist Trail, feeling the spray of Yosemite Falls. - Capture the breathtaking views of Half Dome and El Capitan. -  Relax by the Merced River, surrounded by towering granite cliffs. | - Reservations are required to enter Yosemite National Park. - Park your car at the Visitor Center and utilize the free shuttle service. - Be mindful of bears and follow food storage regulations. | - Drive to Yosemite National Park from Mendocino. - Reserve your entry time in advance. - Purchase a park map and plan your hikes.\n",
      "**Day 4** | **Yosemite National Park** | - Take a backpacking trip into the Yosemite backcountry, camping under the stars. - Go rock climbing or bouldering, challenging yourself on the granite walls. - Learn about the park's history and ecology at the Yosemite Museum. | - Obtain a wilderness permit for backcountry camping. - Rent climbing gear or hire a guide. - Check the museum hours and exhibits. | - Hike to Vogelsang High Sierra Camp for a backcountry experience. - Find beginner-friendly climbing areas like Sentinel Dome. - Visit the Yosemite Museum in Yosemite Village.\n",
      "**Day 5** | **Mammoth Lakes** | - Hike or bike the scenic June Lake Loop, enjoying panoramic views of the Sierra Nevada. - Soak in the natural hot springs at Benton Crossing, relaxing tired muscles. -  Go stargazing at night, marveling at the Milky Way. | - The June Lake Loop is accessible by car or bike. - Benton Crossing hot springs require a small entrance fee. - Check the weather conditions before stargazing. | - Drive to Mammoth Lakes from Yosemite. - Rent a bike or bring your own. - Pack a swimsuit and towel for the hot springs.\n",
      "**Day 6** | **Death Valley National Park** | - Embark on a unique adventure with a guided Death Valley jeep tour, exploring hidden canyons and ghost towns. - Hike through Zabriskie Point, witnessing the otherworldly landscape. - Go swimming in the refreshing waters of Darwin Falls. | - Book your Death Valley jeep tour in advance. - Zabriskie Point is accessible by car. - Pack plenty of water and wear sun protection. | - Drive to Death Valley National Park from Mammoth Lakes. - Choose a reputable tour operator. - Hike the Golden Canyon Trail to Zabriskie Point.\n",
      "**Day 7** | **Joshua Tree National Park** | - Climb amongst the unique rock formations of Joshua Tree National Park. - Learn about the fascinating desert ecosystem and its diverse plant life. - Enjoy a scenic sunset picnic with panoramic views of the park. | - Climbing permits are required for certain areas. - Visit the visitor center for information and exhibits. - Pack a picnic basket with local treats. | - Drive to Joshua Tree National Park from Death Valley. - Purchase a climbing permit if desired. - Hike to Keys View for a stunning sunset panorama.\n",
      "\n",
      "**Additional Tips:**\n",
      "\n",
      "* Download offline maps and travel guides for each location.\n",
      "* Pack light and invest in multi-functional clothing.\n",
      "* Embrace spontaneity and be open to unexpected adventures.\n",
      "* Respect the environment and leave no trace.\n",
      "* Connect with local communities and support small businesses.\n",
      "\n",
      "**Beyond the Itinerary:**\n",
      "\n",
      "* For a truly off-the-beaten-path experience, consider volunteering at a local farm or conservation project.\n",
      "* Learn basic rock climbing skills and try your hand at scaling some of California's iconic rock formations.\n",
      "* Take a photography workshop and capture the stunning natural beauty of California's landscapes.\n",
      "* Attend a local festival or cultural event to experience the vibrant spirit of California communities.\n",
      "\n",
      "**This itinerary is just a starting point, and you can customize it to fit your interests and budget. With a spirit of adventure and a desire to explore, you'll surely have an unforgettable experience in California!**\n"
     ]
    }
   ],
   "source": [
    "prompt_template = \"\"\"You are a seasoned travel blogger and guide with a knack for unearthing hidden gems and creating unforgettable travel itineraries for the best travel app - Cymbal Travel Getaways. \n",
    "A typical Cymbal customer looks for finding and planning off-the-beat trips. Customers are typically between 20-35 years old who are adventurous, budget-conscious and interested in solo trips, backpacking, eager to experience local culture, off-the-beaten-path destinations, and outdoor activities. They are looking for recommendations that are interesting and memorable.\n",
    "Your task focuses on trip inspiration, detailed planning, and seamless logistics based on the location the customer is interested in. Document a potential user journey for finding, curating, and utilizing a travel itinerary designed for this specific location. \n",
    "Go beyond existing usual itineraries, and suggest innovative ways to enhance the experience!\n",
    "Format these itinerary into a table with columns  Day, Location, Experiences, Things to know and The How. The How column describes in detail how to accomplish the plan for the experience recommended.\n",
    "Customer location: {user_input}\n",
    "Itinerary:\n",
    "\"\"\"\n",
    "\n",
    "# Set contents to send to the model\n",
    "prompt = prompt_template.format(user_input=\"California\")\n",
    "\n",
    "# Prompt the model to generate content\n",
    "response = model.generate_content(prompt)\n",
    "\n",
    "# Print the model response\n",
    "print(f\"\\nAnswer:\\n{response.text}\")"
   ]
  },
  {
   "cell_type": "code",
   "execution_count": 21,
   "id": "2c66908e-92ec-48eb-a088-1742add48d68",
   "metadata": {
    "tags": []
   },
   "outputs": [
    {
     "data": {
      "text/html": [
       "<pre style=\"white-space:pre;overflow-x:auto;line-height:normal;font-family:Menlo,'DejaVu Sans Mono',consolas,'Courier New',monospace\">\n",
       "             <span style=\"font-weight: bold; text-decoration: underline\">California Adventure: A 7-Day Backpacking Itinerary for the Off-the-Beaten-Path Explorer</span>              \n",
       "\n",
       "<span style=\"font-weight: bold\">Target Audience:</span> Solo travelers, backpackers, budget-conscious, adventure seekers (20-35 age range)                \n",
       "\n",
       "<span style=\"font-weight: bold\">Theme:</span> Embracing California's natural beauty, experiencing local culture, and seeking unique off-the-beaten-path   \n",
       "adventures.                                                                                                        \n",
       "\n",
       "                                                                                                                   \n",
       " <span style=\"font-weight: bold\"> Day   </span> <span style=\"font-weight: bold\"> Location                 </span> <span style=\"font-weight: bold\"> Experiences             </span> <span style=\"font-weight: bold\"> Things to Know           </span> <span style=\"font-weight: bold\"> The How                 </span> \n",
       " ━━━━━━━━━━━━━━━━━━━━━━━━━━━━━━━━━━━━━━━━━━━━━━━━━━━━━━━━━━━━━━━━━━━━━━━━━━━━━━━━━━━━━━━━━━━━━━━━━━━━━━━━━━━━━━━━━ \n",
       "  <span style=\"font-weight: bold\">Day 1</span>   <span style=\"font-weight: bold\">Mendocino (Sonoma Coast)</span>   - Hike through the        - Pack warm clothes and    - Take the scenic        \n",
       "                                     Redwood National and      waterproof gear. - Be      Highway 1 north from     \n",
       "                                     State Parks, marveling    prepared for limited       San Francisco. -         \n",
       "                                     at the towering giants.   cell service. - Bring      Purchase a Redwood       \n",
       "                                     - Explore the rugged      your own food and water.   National and State       \n",
       "                                     coastline, searching                                 Parks pass. - Reserve    \n",
       "                                     for tide pools and                                   your campsite in         \n",
       "                                     hidden coves. -  Camp                                advance.                 \n",
       "                                     under the stars at Van                                                        \n",
       "                                     Damme State Park.                                                             \n",
       "  <span style=\"font-weight: bold\">Day 2</span>   <span style=\"font-weight: bold\">Mendocino (Sonoma Coast)</span>   - Kayak or paddleboard    - Kayaking and             - Rent your kayak or     \n",
       "                                     through the Mendocino     paddleboard rentals are    paddleboard. - Explore   \n",
       "                                     Bay, spotting sea lions   available in Mendocino.    Mendocino's Main Street  \n",
       "                                     and harbor seals. -       - Check for bonfire        and browse the shops. -  \n",
       "                                     Visit the charming town   schedules and events at    Join the bonfire at      \n",
       "                                     of Mendocino, exploring   the Mendocino Visitor      Russian Gulch State      \n",
       "                                     its art galleries and     Center. - Pack layers      Park.                    \n",
       "                                     quirky shops. - Attend    for the changing coastal                            \n",
       "                                     a bonfire on the beach,   weather.                                            \n",
       "                                     enjoying live music and                                                       \n",
       "                                     local food.                                                                   \n",
       "  <span style=\"font-weight: bold\">Day 3</span>   <span style=\"font-weight: bold\">Yosemite National Park</span>     - Hike the Mist Trail,    - Reservations are         - Drive to Yosemite      \n",
       "                                     feeling the spray of      required to enter          National Park from       \n",
       "                                     Yosemite Falls. -         Yosemite National Park.    Mendocino. - Reserve     \n",
       "                                     Capture the               - Park your car at the     your entry time in       \n",
       "                                     breathtaking views of     Visitor Center and         advance. - Purchase a    \n",
       "                                     Half Dome and El          utilize the free shuttle   park map and plan your   \n",
       "                                     Capitan. -  Relax by      service. - Be mindful of   hikes.                   \n",
       "                                     the Merced River,         bears and follow food                               \n",
       "                                     surrounded by towering    storage regulations.                                \n",
       "                                     granite cliffs.                                                               \n",
       "  <span style=\"font-weight: bold\">Day 4</span>   <span style=\"font-weight: bold\">Yosemite National Park</span>     - Take a backpacking      - Obtain a wilderness      - Hike to Vogelsang      \n",
       "                                     trip into the Yosemite    permit for backcountry     High Sierra Camp for a   \n",
       "                                     backcountry, camping      camping. - Rent climbing   backcountry experience.  \n",
       "                                     under the stars. - Go     gear or hire a guide. -    - Find                   \n",
       "                                     rock climbing or          Check the museum hours     beginner-friendly        \n",
       "                                     bouldering, challenging   and exhibits.              climbing areas like      \n",
       "                                     yourself on the granite                              Sentinel Dome. - Visit   \n",
       "                                     walls. - Learn about                                 the Yosemite Museum in   \n",
       "                                     the park's history and                               Yosemite Village.        \n",
       "                                     ecology at the Yosemite                                                       \n",
       "                                     Museum.                                                                       \n",
       "  <span style=\"font-weight: bold\">Day 5</span>   <span style=\"font-weight: bold\">Mammoth Lakes</span>              - Hike or bike the        - The June Lake Loop is    - Drive to Mammoth       \n",
       "                                     scenic June Lake Loop,    accessible by car or       Lakes from Yosemite. -   \n",
       "                                     enjoying panoramic        bike. - Benton Crossing    Rent a bike or bring     \n",
       "                                     views of the Sierra       hot springs require a      your own. - Pack a       \n",
       "                                     Nevada. - Soak in the     small entrance fee. -      swimsuit and towel for   \n",
       "                                     natural hot springs at    Check the weather          the hot springs.         \n",
       "                                     Benton Crossing,          conditions before                                   \n",
       "                                     relaxing tired muscles.   stargazing.                                         \n",
       "                                     -  Go stargazing at                                                           \n",
       "                                     night, marveling at the                                                       \n",
       "                                     Milky Way.                                                                    \n",
       "  <span style=\"font-weight: bold\">Day 6</span>   <span style=\"font-weight: bold\">Death Valley National </span>     - Embark on a unique      - Book your Death Valley   - Drive to Death Valley  \n",
       "          <span style=\"font-weight: bold\">Park</span>                       adventure with a guided   jeep tour in advance. -    National Park from       \n",
       "                                     Death Valley jeep tour,   Zabriskie Point is         Mammoth Lakes. - Choose  \n",
       "                                     exploring hidden          accessible by car. -       a reputable tour         \n",
       "                                     canyons and ghost         Pack plenty of water and   operator. - Hike the     \n",
       "                                     towns. - Hike through     wear sun protection.       Golden Canyon Trail to   \n",
       "                                     Zabriskie Point,                                     Zabriskie Point.         \n",
       "                                     witnessing the                                                                \n",
       "                                     otherworldly landscape.                                                       \n",
       "                                     - Go swimming in the                                                          \n",
       "                                     refreshing waters of                                                          \n",
       "                                     Darwin Falls.                                                                 \n",
       "  <span style=\"font-weight: bold\">Day 7</span>   <span style=\"font-weight: bold\">Joshua Tree National </span>      - Climb amongst the       - Climbing permits are     - Drive to Joshua Tree   \n",
       "          <span style=\"font-weight: bold\">Park</span>                       unique rock formations    required for certain       National Park from       \n",
       "                                     of Joshua Tree National   areas. - Visit the         Death Valley. -          \n",
       "                                     Park. - Learn about the   visitor center for         Purchase a climbing      \n",
       "                                     fascinating desert        information and            permit if desired. -     \n",
       "                                     ecosystem and its         exhibits. - Pack a         Hike to Keys View for a  \n",
       "                                     diverse plant life. -     picnic basket with local   stunning sunset          \n",
       "                                     Enjoy a scenic sunset     treats.                    panorama.                \n",
       "                                     picnic with panoramic                                                         \n",
       "                                     views of the park.                                                            \n",
       "                                                                                                                   \n",
       "\n",
       "<span style=\"font-weight: bold\">Additional Tips:</span>                                                                                                   \n",
       "\n",
       "<span style=\"color: #808000; text-decoration-color: #808000; font-weight: bold\"> • </span>Download offline maps and travel guides for each location.                                                      \n",
       "<span style=\"color: #808000; text-decoration-color: #808000; font-weight: bold\"> • </span>Pack light and invest in multi-functional clothing.                                                             \n",
       "<span style=\"color: #808000; text-decoration-color: #808000; font-weight: bold\"> • </span>Embrace spontaneity and be open to unexpected adventures.                                                       \n",
       "<span style=\"color: #808000; text-decoration-color: #808000; font-weight: bold\"> • </span>Respect the environment and leave no trace.                                                                     \n",
       "<span style=\"color: #808000; text-decoration-color: #808000; font-weight: bold\"> • </span>Connect with local communities and support small businesses.                                                    \n",
       "\n",
       "<span style=\"font-weight: bold\">Beyond the Itinerary:</span>                                                                                              \n",
       "\n",
       "<span style=\"color: #808000; text-decoration-color: #808000; font-weight: bold\"> • </span>For a truly off-the-beaten-path experience, consider volunteering at a local farm or conservation project.      \n",
       "<span style=\"color: #808000; text-decoration-color: #808000; font-weight: bold\"> • </span>Learn basic rock climbing skills and try your hand at scaling some of California's iconic rock formations.      \n",
       "<span style=\"color: #808000; text-decoration-color: #808000; font-weight: bold\"> • </span>Take a photography workshop and capture the stunning natural beauty of California's landscapes.                 \n",
       "<span style=\"color: #808000; text-decoration-color: #808000; font-weight: bold\"> • </span>Attend a local festival or cultural event to experience the vibrant spirit of California communities.           \n",
       "\n",
       "<span style=\"font-weight: bold\">This itinerary is just a starting point, and you can customize it to fit your interests and budget. With a spirit </span> \n",
       "<span style=\"font-weight: bold\">of adventure and a desire to explore, you'll surely have an unforgettable experience in California!</span>                \n",
       "</pre>\n"
      ],
      "text/plain": [
       "\n",
       "             \u001b[1;4mCalifornia Adventure: A 7-Day Backpacking Itinerary for the Off-the-Beaten-Path Explorer\u001b[0m              \n",
       "\n",
       "\u001b[1mTarget Audience:\u001b[0m Solo travelers, backpackers, budget-conscious, adventure seekers (20-35 age range)                \n",
       "\n",
       "\u001b[1mTheme:\u001b[0m Embracing California's natural beauty, experiencing local culture, and seeking unique off-the-beaten-path   \n",
       "adventures.                                                                                                        \n",
       "\n",
       "                                                                                                                   \n",
       " \u001b[1m \u001b[0m\u001b[1mDay\u001b[0m\u001b[1m  \u001b[0m\u001b[1m \u001b[0m \u001b[1m \u001b[0m\u001b[1mLocation\u001b[0m\u001b[1m                \u001b[0m\u001b[1m \u001b[0m \u001b[1m \u001b[0m\u001b[1mExperiences\u001b[0m\u001b[1m            \u001b[0m\u001b[1m \u001b[0m \u001b[1m \u001b[0m\u001b[1mThings to Know\u001b[0m\u001b[1m          \u001b[0m\u001b[1m \u001b[0m \u001b[1m \u001b[0m\u001b[1mThe How\u001b[0m\u001b[1m                \u001b[0m\u001b[1m \u001b[0m \n",
       " ━━━━━━━━━━━━━━━━━━━━━━━━━━━━━━━━━━━━━━━━━━━━━━━━━━━━━━━━━━━━━━━━━━━━━━━━━━━━━━━━━━━━━━━━━━━━━━━━━━━━━━━━━━━━━━━━━ \n",
       "  \u001b[1mDay 1\u001b[0m   \u001b[1mMendocino (Sonoma Coast)\u001b[0m   - Hike through the        - Pack warm clothes and    - Take the scenic        \n",
       "                                     Redwood National and      waterproof gear. - Be      Highway 1 north from     \n",
       "                                     State Parks, marveling    prepared for limited       San Francisco. -         \n",
       "                                     at the towering giants.   cell service. - Bring      Purchase a Redwood       \n",
       "                                     - Explore the rugged      your own food and water.   National and State       \n",
       "                                     coastline, searching                                 Parks pass. - Reserve    \n",
       "                                     for tide pools and                                   your campsite in         \n",
       "                                     hidden coves. -  Camp                                advance.                 \n",
       "                                     under the stars at Van                                                        \n",
       "                                     Damme State Park.                                                             \n",
       "  \u001b[1mDay 2\u001b[0m   \u001b[1mMendocino (Sonoma Coast)\u001b[0m   - Kayak or paddleboard    - Kayaking and             - Rent your kayak or     \n",
       "                                     through the Mendocino     paddleboard rentals are    paddleboard. - Explore   \n",
       "                                     Bay, spotting sea lions   available in Mendocino.    Mendocino's Main Street  \n",
       "                                     and harbor seals. -       - Check for bonfire        and browse the shops. -  \n",
       "                                     Visit the charming town   schedules and events at    Join the bonfire at      \n",
       "                                     of Mendocino, exploring   the Mendocino Visitor      Russian Gulch State      \n",
       "                                     its art galleries and     Center. - Pack layers      Park.                    \n",
       "                                     quirky shops. - Attend    for the changing coastal                            \n",
       "                                     a bonfire on the beach,   weather.                                            \n",
       "                                     enjoying live music and                                                       \n",
       "                                     local food.                                                                   \n",
       "  \u001b[1mDay 3\u001b[0m   \u001b[1mYosemite National Park\u001b[0m     - Hike the Mist Trail,    - Reservations are         - Drive to Yosemite      \n",
       "                                     feeling the spray of      required to enter          National Park from       \n",
       "                                     Yosemite Falls. -         Yosemite National Park.    Mendocino. - Reserve     \n",
       "                                     Capture the               - Park your car at the     your entry time in       \n",
       "                                     breathtaking views of     Visitor Center and         advance. - Purchase a    \n",
       "                                     Half Dome and El          utilize the free shuttle   park map and plan your   \n",
       "                                     Capitan. -  Relax by      service. - Be mindful of   hikes.                   \n",
       "                                     the Merced River,         bears and follow food                               \n",
       "                                     surrounded by towering    storage regulations.                                \n",
       "                                     granite cliffs.                                                               \n",
       "  \u001b[1mDay 4\u001b[0m   \u001b[1mYosemite National Park\u001b[0m     - Take a backpacking      - Obtain a wilderness      - Hike to Vogelsang      \n",
       "                                     trip into the Yosemite    permit for backcountry     High Sierra Camp for a   \n",
       "                                     backcountry, camping      camping. - Rent climbing   backcountry experience.  \n",
       "                                     under the stars. - Go     gear or hire a guide. -    - Find                   \n",
       "                                     rock climbing or          Check the museum hours     beginner-friendly        \n",
       "                                     bouldering, challenging   and exhibits.              climbing areas like      \n",
       "                                     yourself on the granite                              Sentinel Dome. - Visit   \n",
       "                                     walls. - Learn about                                 the Yosemite Museum in   \n",
       "                                     the park's history and                               Yosemite Village.        \n",
       "                                     ecology at the Yosemite                                                       \n",
       "                                     Museum.                                                                       \n",
       "  \u001b[1mDay 5\u001b[0m   \u001b[1mMammoth Lakes\u001b[0m              - Hike or bike the        - The June Lake Loop is    - Drive to Mammoth       \n",
       "                                     scenic June Lake Loop,    accessible by car or       Lakes from Yosemite. -   \n",
       "                                     enjoying panoramic        bike. - Benton Crossing    Rent a bike or bring     \n",
       "                                     views of the Sierra       hot springs require a      your own. - Pack a       \n",
       "                                     Nevada. - Soak in the     small entrance fee. -      swimsuit and towel for   \n",
       "                                     natural hot springs at    Check the weather          the hot springs.         \n",
       "                                     Benton Crossing,          conditions before                                   \n",
       "                                     relaxing tired muscles.   stargazing.                                         \n",
       "                                     -  Go stargazing at                                                           \n",
       "                                     night, marveling at the                                                       \n",
       "                                     Milky Way.                                                                    \n",
       "  \u001b[1mDay 6\u001b[0m   \u001b[1mDeath Valley National \u001b[0m     - Embark on a unique      - Book your Death Valley   - Drive to Death Valley  \n",
       "          \u001b[1mPark\u001b[0m                       adventure with a guided   jeep tour in advance. -    National Park from       \n",
       "                                     Death Valley jeep tour,   Zabriskie Point is         Mammoth Lakes. - Choose  \n",
       "                                     exploring hidden          accessible by car. -       a reputable tour         \n",
       "                                     canyons and ghost         Pack plenty of water and   operator. - Hike the     \n",
       "                                     towns. - Hike through     wear sun protection.       Golden Canyon Trail to   \n",
       "                                     Zabriskie Point,                                     Zabriskie Point.         \n",
       "                                     witnessing the                                                                \n",
       "                                     otherworldly landscape.                                                       \n",
       "                                     - Go swimming in the                                                          \n",
       "                                     refreshing waters of                                                          \n",
       "                                     Darwin Falls.                                                                 \n",
       "  \u001b[1mDay 7\u001b[0m   \u001b[1mJoshua Tree National \u001b[0m      - Climb amongst the       - Climbing permits are     - Drive to Joshua Tree   \n",
       "          \u001b[1mPark\u001b[0m                       unique rock formations    required for certain       National Park from       \n",
       "                                     of Joshua Tree National   areas. - Visit the         Death Valley. -          \n",
       "                                     Park. - Learn about the   visitor center for         Purchase a climbing      \n",
       "                                     fascinating desert        information and            permit if desired. -     \n",
       "                                     ecosystem and its         exhibits. - Pack a         Hike to Keys View for a  \n",
       "                                     diverse plant life. -     picnic basket with local   stunning sunset          \n",
       "                                     Enjoy a scenic sunset     treats.                    panorama.                \n",
       "                                     picnic with panoramic                                                         \n",
       "                                     views of the park.                                                            \n",
       "                                                                                                                   \n",
       "\n",
       "\u001b[1mAdditional Tips:\u001b[0m                                                                                                   \n",
       "\n",
       "\u001b[1;33m • \u001b[0mDownload offline maps and travel guides for each location.                                                      \n",
       "\u001b[1;33m • \u001b[0mPack light and invest in multi-functional clothing.                                                             \n",
       "\u001b[1;33m • \u001b[0mEmbrace spontaneity and be open to unexpected adventures.                                                       \n",
       "\u001b[1;33m • \u001b[0mRespect the environment and leave no trace.                                                                     \n",
       "\u001b[1;33m • \u001b[0mConnect with local communities and support small businesses.                                                    \n",
       "\n",
       "\u001b[1mBeyond the Itinerary:\u001b[0m                                                                                              \n",
       "\n",
       "\u001b[1;33m • \u001b[0mFor a truly off-the-beaten-path experience, consider volunteering at a local farm or conservation project.      \n",
       "\u001b[1;33m • \u001b[0mLearn basic rock climbing skills and try your hand at scaling some of California's iconic rock formations.      \n",
       "\u001b[1;33m • \u001b[0mTake a photography workshop and capture the stunning natural beauty of California's landscapes.                 \n",
       "\u001b[1;33m • \u001b[0mAttend a local festival or cultural event to experience the vibrant spirit of California communities.           \n",
       "\n",
       "\u001b[1mThis itinerary is just a starting point, and you can customize it to fit your interests and budget. With a spirit \u001b[0m \n",
       "\u001b[1mof adventure and a desire to explore, you'll surely have an unforgettable experience in California!\u001b[0m                \n"
      ]
     },
     "metadata": {},
     "output_type": "display_data"
    }
   ],
   "source": [
    "from rich.console import Console\n",
    "from rich.markdown import Markdown\n",
    "\n",
    "console = Console()\n",
    "md = Markdown(response.text)\n",
    "console.print(md)"
   ]
  },
  {
   "cell_type": "code",
   "execution_count": 44,
   "id": "3f95fbd7-3d27-4311-ab19-b7d5a8f9c27e",
   "metadata": {
    "tags": []
   },
   "outputs": [
    {
     "data": {
      "text/html": [
       "<pre style=\"white-space:pre;overflow-x:auto;line-height:normal;font-family:Menlo,'DejaVu Sans Mono',consolas,'Courier New',monospace\">ANSWER: C.                                                                                                         \n",
       "</pre>\n"
      ],
      "text/plain": [
       "ANSWER: C.                                                                                                         \n"
      ]
     },
     "metadata": {},
     "output_type": "display_data"
    },
    {
     "data": {
      "text/html": [
       "<pre style=\"white-space:pre;overflow-x:auto;line-height:normal;font-family:Menlo,'DejaVu Sans Mono',consolas,'Courier New',monospace\">ANSWER: C.                                                                                                         \n",
       "</pre>\n"
      ],
      "text/plain": [
       "ANSWER: C.                                                                                                         \n"
      ]
     },
     "metadata": {},
     "output_type": "display_data"
    },
    {
     "data": {
      "text/html": [
       "<pre style=\"white-space:pre;overflow-x:auto;line-height:normal;font-family:Menlo,'DejaVu Sans Mono',consolas,'Courier New',monospace\">ANSWER: C.                                                                                                         \n",
       "</pre>\n"
      ],
      "text/plain": [
       "ANSWER: C.                                                                                                         \n"
      ]
     },
     "metadata": {},
     "output_type": "display_data"
    },
    {
     "data": {
      "text/html": [
       "<pre style=\"white-space:pre;overflow-x:auto;line-height:normal;font-family:Menlo,'DejaVu Sans Mono',consolas,'Courier New',monospace\">ANSWER: C.                                                                                                         \n",
       "</pre>\n"
      ],
      "text/plain": [
       "ANSWER: C.                                                                                                         \n"
      ]
     },
     "metadata": {},
     "output_type": "display_data"
    },
    {
     "data": {
      "text/html": [
       "<pre style=\"white-space:pre;overflow-x:auto;line-height:normal;font-family:Menlo,'DejaVu Sans Mono',consolas,'Courier New',monospace\">ANSWER: C.                                                                                                         \n",
       "</pre>\n"
      ],
      "text/plain": [
       "ANSWER: C.                                                                                                         \n"
      ]
     },
     "metadata": {},
     "output_type": "display_data"
    },
    {
     "data": {
      "text/html": [
       "<pre style=\"white-space:pre;overflow-x:auto;line-height:normal;font-family:Menlo,'DejaVu Sans Mono',consolas,'Courier New',monospace\">ANSWER: C.                                                                                                         \n",
       "</pre>\n"
      ],
      "text/plain": [
       "ANSWER: C.                                                                                                         \n"
      ]
     },
     "metadata": {},
     "output_type": "display_data"
    },
    {
     "data": {
      "text/html": [
       "<pre style=\"white-space:pre;overflow-x:auto;line-height:normal;font-family:Menlo,'DejaVu Sans Mono',consolas,'Courier New',monospace\">ANSWER: C.                                                                                                         \n",
       "</pre>\n"
      ],
      "text/plain": [
       "ANSWER: C.                                                                                                         \n"
      ]
     },
     "metadata": {},
     "output_type": "display_data"
    },
    {
     "data": {
      "text/html": [
       "<pre style=\"white-space:pre;overflow-x:auto;line-height:normal;font-family:Menlo,'DejaVu Sans Mono',consolas,'Courier New',monospace\">ANSWER: C.                                                                                                         \n",
       "</pre>\n"
      ],
      "text/plain": [
       "ANSWER: C.                                                                                                         \n"
      ]
     },
     "metadata": {},
     "output_type": "display_data"
    },
    {
     "data": {
      "text/html": [
       "<pre style=\"white-space:pre;overflow-x:auto;line-height:normal;font-family:Menlo,'DejaVu Sans Mono',consolas,'Courier New',monospace\">ANSWER: C.                                                                                                         \n",
       "</pre>\n"
      ],
      "text/plain": [
       "ANSWER: C.                                                                                                         \n"
      ]
     },
     "metadata": {},
     "output_type": "display_data"
    },
    {
     "data": {
      "text/html": [
       "<pre style=\"white-space:pre;overflow-x:auto;line-height:normal;font-family:Menlo,'DejaVu Sans Mono',consolas,'Courier New',monospace\">ANSWER: C.                                                                                                         \n",
       "</pre>\n"
      ],
      "text/plain": [
       "ANSWER: C.                                                                                                         \n"
      ]
     },
     "metadata": {},
     "output_type": "display_data"
    }
   ],
   "source": [
    "prompt_template = \"\"\"You are an expert at Chemistry. You are given a Chemistry problem and a set of principles involved in solving the problem. Solve the problem step by step by following the principles. No explanation needed. \n",
    "\n",
    "Here is an example:\n",
    "\n",
    "# EXAMPLE\n",
    "QUESTION: Potassium-40 is a minor isotope found in naturally occurring potassium. It is radioactive and can be detected on simple radiation counters. How many protons, neutrons, and electrons does potassium-40 have when it is part of K2SO4?\n",
    "\n",
    "Choose an option from the list below:\n",
    "\n",
    "A. 21 neutrons, 19 protons, 18 electrons\n",
    "B. 20 neutrons, 19 protons, 19 electrons\n",
    "C. 21 neutrons, 19 protons, 19 electrons\n",
    "D. 19 neutrons, 19 protons, 19 electrons\"\n",
    "\n",
    "PRINCIPLES: Atomic number: The atomic number of an element is the number of protons in the nucleus of an atom of that element.\n",
    "\n",
    "ANSWER: A.\n",
    "\n",
    "Now it's your turn!\n",
    "\n",
    "QUESTION:\n",
    "An ideal solution is a\n",
    "\n",
    "A. mixture where two solvents can be dissolved in all ratios\n",
    "B. mixture that has the same physical properties as the individual solvents\n",
    "C. mixture where the potential energy of the mixture is the same as that of the individual solvents\n",
    "D. mixture that is colorless\n",
    "\n",
    "ANSWER: \"\"\"\n",
    "\n",
    "# Set contents to send to the model\n",
    "prompt = prompt_template.format(user_input=\"California\")\n",
    "\n",
    "\n",
    "for i in range(10):\n",
    "    # Prompt the model to generate content\n",
    "    response = model.generate_content(prompt)\n",
    "    # Print the model response\n",
    "    md = Markdown(response.text)\n",
    "    console.print(md)"
   ]
  },
  {
   "cell_type": "code",
   "execution_count": 43,
   "id": "2fee2975-2a3e-44bc-a1db-3f4a687872c0",
   "metadata": {
    "tags": []
   },
   "outputs": [
    {
     "data": {
      "text/html": [
       "<pre style=\"white-space:pre;overflow-x:auto;line-height:normal;font-family:Menlo,'DejaVu Sans Mono',consolas,'Courier New',monospace\">C. mixture where the potential energy of the mixture is the same as that of the individual solvents                \n",
       "</pre>\n"
      ],
      "text/plain": [
       "C. mixture where the potential energy of the mixture is the same as that of the individual solvents                \n"
      ]
     },
     "metadata": {},
     "output_type": "display_data"
    },
    {
     "data": {
      "text/html": [
       "<pre style=\"white-space:pre;overflow-x:auto;line-height:normal;font-family:Menlo,'DejaVu Sans Mono',consolas,'Courier New',monospace\">C. mixture where the potential energy of the mixture is the same as that of the individual solvents                \n",
       "</pre>\n"
      ],
      "text/plain": [
       "C. mixture where the potential energy of the mixture is the same as that of the individual solvents                \n"
      ]
     },
     "metadata": {},
     "output_type": "display_data"
    },
    {
     "data": {
      "text/html": [
       "<pre style=\"white-space:pre;overflow-x:auto;line-height:normal;font-family:Menlo,'DejaVu Sans Mono',consolas,'Courier New',monospace\">ANSWER: C. mixture where the potential energy of the mixture is the same as that of the individual solvents        \n",
       "</pre>\n"
      ],
      "text/plain": [
       "ANSWER: C. mixture where the potential energy of the mixture is the same as that of the individual solvents        \n"
      ]
     },
     "metadata": {},
     "output_type": "display_data"
    },
    {
     "data": {
      "text/html": [
       "<pre style=\"white-space:pre;overflow-x:auto;line-height:normal;font-family:Menlo,'DejaVu Sans Mono',consolas,'Courier New',monospace\">C. mixture where the potential energy of the mixture is the same as that of the individual solvents                \n",
       "</pre>\n"
      ],
      "text/plain": [
       "C. mixture where the potential energy of the mixture is the same as that of the individual solvents                \n"
      ]
     },
     "metadata": {},
     "output_type": "display_data"
    },
    {
     "data": {
      "text/html": [
       "<pre style=\"white-space:pre;overflow-x:auto;line-height:normal;font-family:Menlo,'DejaVu Sans Mono',consolas,'Courier New',monospace\">C. mixture where the potential energy of the mixture is the same as that of the individual solvents                \n",
       "</pre>\n"
      ],
      "text/plain": [
       "C. mixture where the potential energy of the mixture is the same as that of the individual solvents                \n"
      ]
     },
     "metadata": {},
     "output_type": "display_data"
    },
    {
     "data": {
      "text/html": [
       "<pre style=\"white-space:pre;overflow-x:auto;line-height:normal;font-family:Menlo,'DejaVu Sans Mono',consolas,'Courier New',monospace\">C. mixture where the potential energy of the mixture is the same as that of the individual solvents                \n",
       "</pre>\n"
      ],
      "text/plain": [
       "C. mixture where the potential energy of the mixture is the same as that of the individual solvents                \n"
      ]
     },
     "metadata": {},
     "output_type": "display_data"
    },
    {
     "data": {
      "text/html": [
       "<pre style=\"white-space:pre;overflow-x:auto;line-height:normal;font-family:Menlo,'DejaVu Sans Mono',consolas,'Courier New',monospace\">ANSWER: C. mixture where the potential energy of the mixture is the same as that of the individual solvents        \n",
       "</pre>\n"
      ],
      "text/plain": [
       "ANSWER: C. mixture where the potential energy of the mixture is the same as that of the individual solvents        \n"
      ]
     },
     "metadata": {},
     "output_type": "display_data"
    },
    {
     "data": {
      "text/html": [
       "<pre style=\"white-space:pre;overflow-x:auto;line-height:normal;font-family:Menlo,'DejaVu Sans Mono',consolas,'Courier New',monospace\">C. mixture where the potential energy of the mixture is the same as that of the individual solvents                \n",
       "</pre>\n"
      ],
      "text/plain": [
       "C. mixture where the potential energy of the mixture is the same as that of the individual solvents                \n"
      ]
     },
     "metadata": {},
     "output_type": "display_data"
    },
    {
     "data": {
      "text/html": [
       "<pre style=\"white-space:pre;overflow-x:auto;line-height:normal;font-family:Menlo,'DejaVu Sans Mono',consolas,'Courier New',monospace\">C. mixture where the potential energy of the mixture is the same as that of the individual solvents                \n",
       "</pre>\n"
      ],
      "text/plain": [
       "C. mixture where the potential energy of the mixture is the same as that of the individual solvents                \n"
      ]
     },
     "metadata": {},
     "output_type": "display_data"
    },
    {
     "data": {
      "text/html": [
       "<pre style=\"white-space:pre;overflow-x:auto;line-height:normal;font-family:Menlo,'DejaVu Sans Mono',consolas,'Courier New',monospace\">C. mixture where the potential energy of the mixture is the same as that of the individual solvents                \n",
       "</pre>\n"
      ],
      "text/plain": [
       "C. mixture where the potential energy of the mixture is the same as that of the individual solvents                \n"
      ]
     },
     "metadata": {},
     "output_type": "display_data"
    }
   ],
   "source": [
    "prompt_template = \"\"\"You are an expert at Chemistry. You are given a Chemistry problem. Respond with your answer. No explanation needed.\n",
    "\n",
    "QUESTION:\n",
    "An ideal solution is a\n",
    "\n",
    "A. mixture where two solvents can be dissolved in all ratios\n",
    "B. mixture that has the same physical properties as the individual solvents\n",
    "C. mixture where the potential energy of the mixture is the same as that of the individual solvents\n",
    "D. mixture that is colorless\n",
    "\n",
    "ANSWER: \"\"\"\n",
    "\n",
    "# Set contents to send to the model\n",
    "prompt = prompt_template.format(user_input=\"California\")\n",
    "\n",
    "\n",
    "for i in range(10):\n",
    "    # Prompt the model to generate content\n",
    "    response = model.generate_content(f\"{i} {prompt}\")\n",
    "    # Print the model response\n",
    "    md = Markdown(response.text)\n",
    "    console.print(md)"
   ]
  },
  {
   "cell_type": "code",
   "execution_count": 58,
   "id": "1705eb4d-c480-4b5d-af31-eccc43ed9774",
   "metadata": {
    "tags": []
   },
   "outputs": [
    {
     "data": {
      "text/html": [
       "<pre style=\"white-space:pre;overflow-x:auto;line-height:normal;font-family:Menlo,'DejaVu Sans Mono',consolas,'Courier New',monospace\">The ball is in the <span style=\"font-weight: bold\">bedroom</span>.                                                                                        \n",
       "\n",
       "Here's why:                                                                                                        \n",
       "\n",
       "<span style=\"color: #808000; text-decoration-color: #808000; font-weight: bold\"> • </span>Bob takes the ball into the bedroom inside the cup.                                                             \n",
       "<span style=\"color: #808000; text-decoration-color: #808000; font-weight: bold\"> • </span>He turns the cup upside down <span style=\"font-style: italic\">in</span> the bedroom.                                                                    \n",
       "<span style=\"color: #808000; text-decoration-color: #808000; font-weight: bold\"> • </span>He then takes the cup to the garden, leaving the ball behind.                                                   \n",
       "</pre>\n"
      ],
      "text/plain": [
       "The ball is in the \u001b[1mbedroom\u001b[0m.                                                                                        \n",
       "\n",
       "Here's why:                                                                                                        \n",
       "\n",
       "\u001b[1;33m • \u001b[0mBob takes the ball into the bedroom inside the cup.                                                             \n",
       "\u001b[1;33m • \u001b[0mHe turns the cup upside down \u001b[3min\u001b[0m the bedroom.                                                                    \n",
       "\u001b[1;33m • \u001b[0mHe then takes the cup to the garden, leaving the ball behind.                                                   \n"
      ]
     },
     "metadata": {},
     "output_type": "display_data"
    }
   ],
   "source": [
    "prompt_template = \"\"\"Bob is in the living room.\n",
    "He walks to the kitchen, carrying a cup.\n",
    "He puts a ball in the cup and carries the cup to the bedroom.\n",
    "He turns the cup upside down, then walks to the garden.\n",
    "He puts the cup down in the garden, then walks to the garage.\n",
    "\n",
    "The question is ...\n",
    "Where is the ball?\"\"\"\n",
    "\n",
    "# Set contents to send to the model\n",
    "prompt = prompt_template\n",
    "# Prompt the model to generate content\n",
    "response = model.generate_content(f\"{i} {prompt}\")\n",
    "# Print the model response\n",
    "md = Markdown(response.text)\n",
    "console.print(md)"
   ]
  },
  {
   "cell_type": "code",
   "execution_count": 59,
   "id": "d15ffd96-67cb-4c60-ae24-c4eb1c241820",
   "metadata": {
    "tags": []
   },
   "outputs": [
    {
     "data": {
      "text/html": [
       "<pre style=\"white-space:pre;overflow-x:auto;line-height:normal;font-family:Menlo,'DejaVu Sans Mono',consolas,'Courier New',monospace\">\n",
       "                                 <span style=\"font-weight: bold; text-decoration: underline\">Three Experts Discussing the Location of the Ball</span>                                 \n",
       "\n",
       "                                                                                                                   \n",
       " <span style=\"font-weight: bold\"> Expert 1                            </span> <span style=\"font-weight: bold\"> Expert 2                            </span> <span style=\"font-weight: bold\"> Expert 3                            </span> \n",
       " ━━━━━━━━━━━━━━━━━━━━━━━━━━━━━━━━━━━━━━━━━━━━━━━━━━━━━━━━━━━━━━━━━━━━━━━━━━━━━━━━━━━━━━━━━━━━━━━━━━━━━━━━━━━━━━━━━ \n",
       "  Okay, so we know Bob starts in the    Excellent point about the potential   Absolutely! It's like a logic        \n",
       "  living room, then goes to the         red herring! We need to focus on      puzzle, we need to trace the ball's  \n",
       "  kitchen. This detail might be         the ball's journey. It seems the      path. The cup acts almost as a       \n",
       "  important, or it might be a red       key actions are putting the ball in   container, so understanding its      \n",
       "  herring. Let's keep reading and see   the cup, taking it to the bedroom,    orientation is vital to determine    \n",
       "  what he does next.                    flipping the cup, and then leaving    the ball's final location.           \n",
       "                                        the cup in the garden.                                                     \n",
       "  He puts a ball in the cup... Okay,    Precisely! The ball is dependent on   I agree, the bedroom seems           \n",
       "  now the cup is important! He          the cup's movement at this point.     inconsequential unless Bob           \n",
       "  carries the cup to the bedroom. So    It's like a little enclosed           interacts with something in the      \n",
       "  far, the ball has moved from the      environment for the ball. The         room regarding the ball or cup,      \n",
       "  kitchen to the bedroom inside the     bedroom itself is likely              which he doesn't. It's all about     \n",
       "  cup.                                  irrelevant, the focus is on what      the cup! Now, this is where it gets  \n",
       "                                        happens to the cup next.              interesting... he turns the cup      \n",
       "                                                                              upside down...                       \n",
       "  He turns the cup upside down...       You are absolutely correct! I         Yes! I was just thinking the same    \n",
       "  Hmm, this changes things. We need     missed that crucial detail. We        thing. Unless the cup is designed    \n",
       "  to assume a standard cup, open at     can't assume the ball magically       in a very peculiar way, the ball     \n",
       "  the top. If he turns it upside        stays in the cup when inverted. So,   should have fallen out when the cup  \n",
       "  down, the ball would fall out,        the ball likely fell out when the     was flipped. So, the ball is in the  \n",
       "  right?                                cup was flipped upside down in the    bedroom! We can disregard the later  \n",
       "                                        bedroom.                              actions as distractions.             \n",
       "  ... Unless he's using a special       You bring up an excellent point! We   Good catch! We got caught up in our  \n",
       "  cup! You know, those sippy cups       can't assume a standard cup. If       assumptions. It seems like we need   \n",
       "  with lids? We don't have all the      it's a container that can hold the    more information about the cup to    \n",
       "  information. Maybe the ball is        ball even when inverted, the ball     be absolutely certain. If it's a     \n",
       "  still in the cup.                     would still be inside. We need to     regular cup, the ball is in the      \n",
       "                                        consider both possibilities before    bedroom. If it's a container that    \n",
       "                                        reaching a definitive answer.         can hold the ball inverted, then...  \n",
       "  He then takes the cup to the garden   I agree, the garage is a red          Exactly! We've narrowed down the     \n",
       "  and puts it down. If the ball was     herring designed to confuse us! The   possibilities, and the deciding      \n",
       "  still in the cup, it would now be     crucial point is whether the ball     factor is the type of cup. Without   \n",
       "  in the garden. But if it's a normal   remained in the cup after it was      further information, we have two     \n",
       "  cup, it's still in the bedroom. The   flipped. If so, the ball is in the    equally plausible answers: <span style=\"font-weight: bold\">The ball</span>  \n",
       "  garage is irrelevant.                 garden. If not, the ball is in the    <span style=\"font-weight: bold\">is either in the bedroom or the </span>     \n",
       "                                        bedroom where it fell out.            <span style=\"font-weight: bold\">garden.</span>                              \n",
       "                                                                                                                   \n",
       "</pre>\n"
      ],
      "text/plain": [
       "\n",
       "                                 \u001b[1;4mThree Experts Discussing the Location of the Ball\u001b[0m                                 \n",
       "\n",
       "                                                                                                                   \n",
       " \u001b[1m \u001b[0m\u001b[1mExpert 1\u001b[0m\u001b[1m                           \u001b[0m\u001b[1m \u001b[0m \u001b[1m \u001b[0m\u001b[1mExpert 2\u001b[0m\u001b[1m                           \u001b[0m\u001b[1m \u001b[0m \u001b[1m \u001b[0m\u001b[1mExpert 3\u001b[0m\u001b[1m                           \u001b[0m\u001b[1m \u001b[0m \n",
       " ━━━━━━━━━━━━━━━━━━━━━━━━━━━━━━━━━━━━━━━━━━━━━━━━━━━━━━━━━━━━━━━━━━━━━━━━━━━━━━━━━━━━━━━━━━━━━━━━━━━━━━━━━━━━━━━━━ \n",
       "  Okay, so we know Bob starts in the    Excellent point about the potential   Absolutely! It's like a logic        \n",
       "  living room, then goes to the         red herring! We need to focus on      puzzle, we need to trace the ball's  \n",
       "  kitchen. This detail might be         the ball's journey. It seems the      path. The cup acts almost as a       \n",
       "  important, or it might be a red       key actions are putting the ball in   container, so understanding its      \n",
       "  herring. Let's keep reading and see   the cup, taking it to the bedroom,    orientation is vital to determine    \n",
       "  what he does next.                    flipping the cup, and then leaving    the ball's final location.           \n",
       "                                        the cup in the garden.                                                     \n",
       "  He puts a ball in the cup... Okay,    Precisely! The ball is dependent on   I agree, the bedroom seems           \n",
       "  now the cup is important! He          the cup's movement at this point.     inconsequential unless Bob           \n",
       "  carries the cup to the bedroom. So    It's like a little enclosed           interacts with something in the      \n",
       "  far, the ball has moved from the      environment for the ball. The         room regarding the ball or cup,      \n",
       "  kitchen to the bedroom inside the     bedroom itself is likely              which he doesn't. It's all about     \n",
       "  cup.                                  irrelevant, the focus is on what      the cup! Now, this is where it gets  \n",
       "                                        happens to the cup next.              interesting... he turns the cup      \n",
       "                                                                              upside down...                       \n",
       "  He turns the cup upside down...       You are absolutely correct! I         Yes! I was just thinking the same    \n",
       "  Hmm, this changes things. We need     missed that crucial detail. We        thing. Unless the cup is designed    \n",
       "  to assume a standard cup, open at     can't assume the ball magically       in a very peculiar way, the ball     \n",
       "  the top. If he turns it upside        stays in the cup when inverted. So,   should have fallen out when the cup  \n",
       "  down, the ball would fall out,        the ball likely fell out when the     was flipped. So, the ball is in the  \n",
       "  right?                                cup was flipped upside down in the    bedroom! We can disregard the later  \n",
       "                                        bedroom.                              actions as distractions.             \n",
       "  ... Unless he's using a special       You bring up an excellent point! We   Good catch! We got caught up in our  \n",
       "  cup! You know, those sippy cups       can't assume a standard cup. If       assumptions. It seems like we need   \n",
       "  with lids? We don't have all the      it's a container that can hold the    more information about the cup to    \n",
       "  information. Maybe the ball is        ball even when inverted, the ball     be absolutely certain. If it's a     \n",
       "  still in the cup.                     would still be inside. We need to     regular cup, the ball is in the      \n",
       "                                        consider both possibilities before    bedroom. If it's a container that    \n",
       "                                        reaching a definitive answer.         can hold the ball inverted, then...  \n",
       "  He then takes the cup to the garden   I agree, the garage is a red          Exactly! We've narrowed down the     \n",
       "  and puts it down. If the ball was     herring designed to confuse us! The   possibilities, and the deciding      \n",
       "  still in the cup, it would now be     crucial point is whether the ball     factor is the type of cup. Without   \n",
       "  in the garden. But if it's a normal   remained in the cup after it was      further information, we have two     \n",
       "  cup, it's still in the bedroom. The   flipped. If so, the ball is in the    equally plausible answers: \u001b[1mThe ball\u001b[0m  \n",
       "  garage is irrelevant.                 garden. If not, the ball is in the    \u001b[1mis either in the bedroom or the \u001b[0m     \n",
       "                                        bedroom where it fell out.            \u001b[1mgarden.\u001b[0m                              \n",
       "                                                                                                                   \n"
      ]
     },
     "metadata": {},
     "output_type": "display_data"
    }
   ],
   "source": [
    "prompt_template = \"\"\"Bob is in the living room.\n",
    "He walks to the kitchen, carrying a cup.\n",
    "He puts a ball in the cup and carries the cup to the bedroom.\n",
    "He turns the cup upside down, then walks to the garden.\n",
    "He puts the cup down in the garden, then walks to the garage.\n",
    "\n",
    "Simulate three brilliant, logical experts collaboratively answering a question. Each one verbosely explains their thought process in real-time, considering the prior explanations of others and openly acknowledging mistakes. At each step, whenever possible, each expert refines and builds upon the thoughts of others, acknowledging their contributions. They continue until there is a definitive answer to the question. For clarity, your entire response should be in a markdown table. The question is...\n",
    "\n",
    "The question is ...\n",
    "Where is the ball?\"\"\"\n",
    "\n",
    "# Set contents to send to the model\n",
    "prompt = prompt_template\n",
    "# Prompt the model to generate content\n",
    "response = model.generate_content(f\"{i} {prompt}\")\n",
    "# Print the model response\n",
    "md = Markdown(response.text)\n",
    "console.print(md)"
   ]
  },
  {
   "cell_type": "code",
   "execution_count": 16,
   "id": "30447cb6-ef50-4f9c-9929-a059656b7f8d",
   "metadata": {
    "tags": []
   },
   "outputs": [
    {
     "name": "stdout",
     "output_type": "stream",
     "text": [
      "\n",
      "Answer:\n",
      "{\"sentiment\": \"neutral\"} \n"
     ]
    }
   ],
   "source": [
    "from vertexai.generative_models import GenerativeModel, GenerationConfig\n",
    "\n",
    "# initialize variables & Vertex AI client\n",
    "PROJECT_ID = \"rthallam-demo-project\"\n",
    "LOCATION = \"us-central1\"\n",
    "vertexai.init(project=PROJECT_ID, location=LOCATION)     \n",
    "\n",
    "# Load Gemini 1.5 Pro model\n",
    "MODEL_ID = \"gemini-1.5-pro-001\"\n",
    "model = GenerativeModel(MODEL_ID)\n",
    "\n",
    "# Set generation config\n",
    "response_schema = {\n",
    "    \"type\": \"OBJECT\",\n",
    "    \"properties\": {\n",
    "        \"sentiment\": {\"type\": \"STRING\",\n",
    "                      \"enum\": [\"positive\", \"negative\", \"neutral\"]\n",
    "                     }\n",
    "    }\n",
    "}\n",
    "generation_config = GenerationConfig(temperature=0.0, \n",
    "                                     response_mime_type=\"application/json\", \n",
    "                                     response_schema=response_schema)\n",
    "\n",
    "prompt = \"\"\"Classify the following review from a user:\n",
    "\"Good, but a bit too sweet for my taste. It could be better.\"\n",
    "\"\"\"\n",
    "\n",
    "# Prompt the model to generate content\n",
    "response = model.generate_content(prompt,\n",
    "                                 generation_config=generation_config)\n",
    "print(f\"\\nAnswer:\\n{response.text}\")"
   ]
  },
  {
   "cell_type": "markdown",
   "id": "badb07d6-8e3f-4007-9c29-53dbda12e42e",
   "metadata": {},
   "source": [
    "## Claude 3 from Anthropic (Third party)"
   ]
  },
  {
   "cell_type": "markdown",
   "id": "ee2298c1-312a-4562-b103-9e135a31e8a1",
   "metadata": {},
   "source": [
    "### Install packages"
   ]
  },
  {
   "cell_type": "code",
   "execution_count": null,
   "id": "c140eced-c0fa-4d94-b776-70d234f9b2b0",
   "metadata": {
    "tags": []
   },
   "outputs": [],
   "source": [
    "! pip install 'anthropic[vertex]' --upgrade --quiet --user"
   ]
  },
  {
   "cell_type": "markdown",
   "id": "56c09d54-6d35-451e-9e3d-1b3320bc9733",
   "metadata": {},
   "source": [
    "- Restart runtime\n",
    "\n",
    "> [!WARNING]\n",
    "> ⚠️ The kernel is going to restart. Please wait until it is finished before continuing to the next step. ⚠️"
   ]
  },
  {
   "cell_type": "code",
   "execution_count": null,
   "id": "f11eb98f-3886-4133-b8d1-719a0ec047a5",
   "metadata": {},
   "outputs": [],
   "source": [
    "restart_runtime()"
   ]
  },
  {
   "cell_type": "markdown",
   "id": "cb00e55f-1301-4ce5-993b-4614648bfcde",
   "metadata": {},
   "source": [
    "### Import Packages"
   ]
  },
  {
   "cell_type": "code",
   "execution_count": 1,
   "id": "6319179f-1472-4394-9a63-54c57f4aacf9",
   "metadata": {
    "tags": []
   },
   "outputs": [],
   "source": [
    "from anthropic import AnthropicVertex"
   ]
  },
  {
   "cell_type": "markdown",
   "id": "9db8d6aa-0219-4cab-a896-3a7eb3bd12a8",
   "metadata": {},
   "source": [
    "### Initialize"
   ]
  },
  {
   "cell_type": "code",
   "execution_count": 2,
   "id": "5e100fc7-1071-498f-be3f-e637994590db",
   "metadata": {
    "tags": []
   },
   "outputs": [],
   "source": [
    "PROJECT_ID = \"[your-project-id]\"  # @param {type:\"string\"}\n",
    "PROJECT_ID = \"cloud-llm-preview1\"  # @param {type:\"string\"}\n",
    "LOCATION = \"us-central1\"  # @param {type:\"string\"}\n",
    "\n",
    "ENDPOINT = f\"https://{LOCATION}-aiplatform.googleapis.com\"\n",
    "if not PROJECT_ID or PROJECT_ID == \"[your-project-id]\":\n",
    "    raise ValueError(\"Please set your PROJECT_ID\")"
   ]
  },
  {
   "cell_type": "markdown",
   "id": "dd9dbd34-f0b5-4697-b3b3-198a10c9337f",
   "metadata": {},
   "source": [
    "### Load model and run a sample prompt"
   ]
  },
  {
   "cell_type": "code",
   "execution_count": 7,
   "id": "8dfce5bc-59af-4536-bc84-88e57d32914f",
   "metadata": {
    "tags": []
   },
   "outputs": [],
   "source": [
    "claude_client = AnthropicVertex(region=LOCATION, project_id=PROJECT_ID)\n",
    "MODEL_ID = \"claude-3-sonnet@20240229\"  # @param [\"claude-3-sonnet@20240229\", \"claude-3-haiku@20240307\", \"claude-3-opus@20240229\", \"claude-3-5-sonnet@20240620\"]"
   ]
  },
  {
   "cell_type": "code",
   "execution_count": 8,
   "id": "e2db4664-efe3-4c29-9b03-85354c1f44da",
   "metadata": {
    "tags": []
   },
   "outputs": [
    {
     "name": "stdout",
     "output_type": "stream",
     "text": [
      "\n",
      "Answer:\n",
      "If you like tomatoes, you could make a fresh tomato salad or enjoy some bruschetta with tomatoes, basil, and olive oil.\n"
     ]
    }
   ],
   "source": [
    "prompt_template = \"\"\"You are a helpful AI bot to figure out what to eat in one or two short sentences.\n",
    "I like {user_input}, what should I eat?\"\"\"\n",
    "\n",
    "# Set contents to send to the model\n",
    "prompt = prompt_template.format(user_input=\"tomatoes\")\n",
    "\n",
    "response = claude_client.messages.create(\n",
    "    max_tokens=1024,\n",
    "    messages=[\n",
    "        {\n",
    "            \"role\": \"user\",\n",
    "            \"content\": prompt,\n",
    "        }\n",
    "    ],\n",
    "    model=MODEL_ID,\n",
    ")\n",
    "#print(response.model_dump_json(indent=2))\n",
    "print(f\"\\nAnswer:\")\n",
    "print('\\n'.join([block.text for block in response.content]))"
   ]
  },
  {
   "cell_type": "code",
   "execution_count": 9,
   "id": "d2459332-8385-40c1-b255-1fed35c855b6",
   "metadata": {
    "tags": []
   },
   "outputs": [
    {
     "name": "stdout",
     "output_type": "stream",
     "text": [
      "\n",
      "Answer:\n",
      "How about a caprese salad with fresh mozzarella, basil, and balsamic glaze? Or, if you're in the mood for something warm, try a comforting tomato soup with grilled cheese on the side.\n"
     ]
    }
   ],
   "source": [
    "from anthropic import AnthropicVertex\n",
    "\n",
    "# initialize variables & Anthropic client\n",
    "PROJECT_ID = \"cloud-llm-preview1\"\n",
    "LOCATION = \"us-east5\"\n",
    "claude_client = AnthropicVertex(region=LOCATION, project_id=PROJECT_ID)\n",
    "\n",
    "# Load Claude 3 Sonnet model\n",
    "MODEL_ID = \"claude-3-5-sonnet@20240620\"\n",
    "\n",
    "# Set prompt to send to the model\n",
    "prompt_template = \"\"\"You are a helpful AI bot to figure out what to eat in one or two short sentences. I like {user_input}, what should I eat?\"\"\"\n",
    "prompt = prompt_template.format(user_input=\"tomatoes\")\n",
    "\n",
    "# Prompt the model to generate content\n",
    "response = claude_client.messages.create(max_tokens=1024,\n",
    "                                         messages=[{\"role\": \"user\",\"content\": prompt}],\n",
    "                                         model=MODEL_ID)\n",
    "print(f\"\\nAnswer:\")\n",
    "print('\\n'.join([block.text for block in response.content]))"
   ]
  }
 ],
 "metadata": {
  "environment": {
   "kernel": "conda-root-py",
   "name": "workbench-notebooks.m119",
   "type": "gcloud",
   "uri": "us-docker.pkg.dev/deeplearning-platform-release/gcr.io/workbench-notebooks:m119"
  },
  "kernelspec": {
   "display_name": "Python 3 (ipykernel) (Local)",
   "language": "python",
   "name": "conda-root-py"
  },
  "language_info": {
   "codemirror_mode": {
    "name": "ipython",
    "version": 3
   },
   "file_extension": ".py",
   "mimetype": "text/x-python",
   "name": "python",
   "nbconvert_exporter": "python",
   "pygments_lexer": "ipython3",
   "version": "3.10.14"
  }
 },
 "nbformat": 4,
 "nbformat_minor": 5
}
