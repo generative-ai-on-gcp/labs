{
 "cells": [
  {
   "cell_type": "code",
   "execution_count": null,
   "metadata": {
    "id": "ijGzTHJJUCPY"
   },
   "outputs": [],
   "source": [
    "#\n",
    "# Licensed under the Apache License, Version 2.0 (the \"License\");\n",
    "# you may not use this file except in compliance with the License.\n",
    "# You may obtain a copy of the License at\n",
    "#\n",
    "#     https://www.apache.org/licenses/LICENSE-2.0\n",
    "#\n",
    "# Unless required by applicable law or agreed to in writing, software\n",
    "# distributed under the License is distributed on an \"AS IS\" BASIS,\n",
    "# WITHOUT WARRANTIES OR CONDITIONS OF ANY KIND, either express or implied.\n",
    "# See the License for the specific language governing permissions and\n",
    "# limitations under the License."
   ]
  },
  {
   "cell_type": "markdown",
   "metadata": {
    "id": "VEqbX8OhE8y9"
   },
   "source": [
    "# Getting Started with the Vertex AI PaLM API & Python SDK\n",
    "\n",
    "<table align=\"left\">\n",
    "  <td style=\"text-align: center\">\n",
    "    <a href=\"https://colab.research.google.com/github/GoogleCloudPlatform/generative-ai/blob/main/language/intro_palm_api.ipynb\">\n",
    "      <img src=\"https://cloud.google.com/ml-engine/images/colab-logo-32px.png\" alt=\"Google Colaboratory logo\"><br> Run in Colab\n",
    "    </a>\n",
    "  </td>\n",
    "  <td style=\"text-align: center\">\n",
    "    <a href=\"https://github.com/GoogleCloudPlatform/generative-ai/blob/main/language/intro_palm_api.ipynb\">\n",
    "      <img src=\"https://cloud.google.com/ml-engine/images/github-logo-32px.png\" alt=\"GitHub logo\"><br> View on GitHub\n",
    "    </a>\n",
    "  </td>\n",
    "  <td style=\"text-align: center\">\n",
    "    <a href=\"https://console.cloud.google.com/vertex-ai/workbench/deploy-notebook?download_url=https://raw.githubusercontent.com/GoogleCloudPlatform/generative-ai/blob/main/language/intro_palm_api.ipynb\">\n",
    "      <img src=\"https://lh3.googleusercontent.com/UiNooY4LUgW_oTvpsNhPpQzsstV5W8F7rYgxgGBD85cWJoLmrOzhVs_ksK_vgx40SHs7jCqkTkCk=e14-rj-sc0xffffff-h130-w32\" alt=\"Vertex AI logo\"><br> Open in Vertex AI Workbench\n",
    "    </a>\n",
    "  </td>\n",
    "</table>\n"
   ]
  },
  {
   "cell_type": "markdown",
   "metadata": {
    "id": "1y6_3dTwV2fI"
   },
   "source": [
    "### Overview\n",
    "We will cover below PaLM2 Foundation models APIs for this notebook\n",
    "1. Text-bsion\n",
    "2. Chat-bison\n",
    "3. Embeddings API\n",
    "4. Code-bison\n",
    "\n",
    "\n",
    "### Costs\n",
    "This tutorial uses billable components of Google Cloud:\n",
    "\n",
    "* Vertex AI Generative AI Studio\n",
    "\n",
    "Learn about [Vertex AI pricing](https://cloud.google.com/vertex-ai/pricing),\n",
    "and use the [Pricing Calculator](https://cloud.google.com/products/calculator/)\n",
    "to generate a cost estimate based on your projected usage."
   ]
  },
  {
   "cell_type": "markdown",
   "metadata": {
    "id": "QDU0XJ1xRDlL"
   },
   "source": [
    "## Getting Started"
   ]
  },
  {
   "cell_type": "markdown",
   "metadata": {
    "id": "N5afkyDMSBW5"
   },
   "source": [
    "### Install Vertex AI SDK"
   ]
  },
  {
   "cell_type": "code",
   "execution_count": 1,
   "metadata": {
    "colab": {
     "base_uri": "https://localhost:8080/",
     "height": 794
    },
    "id": "kc4WxYmLSBW5",
    "outputId": "7d26810d-2e52-41cb-c362-14d9f9ceeab3",
    "tags": []
   },
   "outputs": [
    {
     "name": "stdout",
     "output_type": "stream",
     "text": [
      "Collecting google-cloud-aiplatform\n",
      "  Downloading google_cloud_aiplatform-1.34.0-py2.py3-none-any.whl (3.1 MB)\n",
      "\u001b[2K     \u001b[90m━━━━━━━━━━━━━━━━━━━━━━━━━━━━━━━━━━━━━━━━\u001b[0m \u001b[32m3.1/3.1 MB\u001b[0m \u001b[31m10.0 MB/s\u001b[0m eta \u001b[36m0:00:00\u001b[0m\n",
      "\u001b[?25hRequirement already satisfied: google-api-core[grpc]!=2.0.*,!=2.1.*,!=2.2.*,!=2.3.*,!=2.4.*,!=2.5.*,!=2.6.*,!=2.7.*,<3.0.0dev,>=1.32.0 in /usr/local/lib/python3.10/dist-packages (from google-cloud-aiplatform) (2.11.1)\n",
      "Requirement already satisfied: proto-plus<2.0.0dev,>=1.22.0 in /usr/local/lib/python3.10/dist-packages (from google-cloud-aiplatform) (1.22.3)\n",
      "Requirement already satisfied: protobuf!=3.20.0,!=3.20.1,!=4.21.0,!=4.21.1,!=4.21.2,!=4.21.3,!=4.21.4,!=4.21.5,<5.0.0dev,>=3.19.5 in /usr/local/lib/python3.10/dist-packages (from google-cloud-aiplatform) (3.20.3)\n",
      "Requirement already satisfied: packaging>=14.3 in /usr/local/lib/python3.10/dist-packages (from google-cloud-aiplatform) (23.1)\n",
      "Requirement already satisfied: google-cloud-storage<3.0.0dev,>=1.32.0 in /usr/local/lib/python3.10/dist-packages (from google-cloud-aiplatform) (2.8.0)\n",
      "Requirement already satisfied: google-cloud-bigquery<4.0.0dev,>=1.15.0 in /usr/local/lib/python3.10/dist-packages (from google-cloud-aiplatform) (3.10.0)\n",
      "Collecting google-cloud-resource-manager<3.0.0dev,>=1.3.3 (from google-cloud-aiplatform)\n",
      "  Downloading google_cloud_resource_manager-1.10.4-py2.py3-none-any.whl (320 kB)\n",
      "\u001b[2K     \u001b[90m━━━━━━━━━━━━━━━━━━━━━━━━━━━━━━━━━━━━━━\u001b[0m \u001b[32m321.0/321.0 kB\u001b[0m \u001b[31m13.2 MB/s\u001b[0m eta \u001b[36m0:00:00\u001b[0m\n",
      "\u001b[?25hCollecting shapely<2.0.0 (from google-cloud-aiplatform)\n",
      "  Downloading Shapely-1.8.5.post1-cp310-cp310-manylinux_2_12_x86_64.manylinux2010_x86_64.whl (2.0 MB)\n",
      "\u001b[2K     \u001b[90m━━━━━━━━━━━━━━━━━━━━━━━━━━━━━━━━━━━━━━━━\u001b[0m \u001b[32m2.0/2.0 MB\u001b[0m \u001b[31m18.3 MB/s\u001b[0m eta \u001b[36m0:00:00\u001b[0m\n",
      "\u001b[?25hRequirement already satisfied: googleapis-common-protos<2.0.dev0,>=1.56.2 in /usr/local/lib/python3.10/dist-packages (from google-api-core[grpc]!=2.0.*,!=2.1.*,!=2.2.*,!=2.3.*,!=2.4.*,!=2.5.*,!=2.6.*,!=2.7.*,<3.0.0dev,>=1.32.0->google-cloud-aiplatform) (1.60.0)\n",
      "Requirement already satisfied: google-auth<3.0.dev0,>=2.14.1 in /usr/local/lib/python3.10/dist-packages (from google-api-core[grpc]!=2.0.*,!=2.1.*,!=2.2.*,!=2.3.*,!=2.4.*,!=2.5.*,!=2.6.*,!=2.7.*,<3.0.0dev,>=1.32.0->google-cloud-aiplatform) (2.17.3)\n",
      "Requirement already satisfied: requests<3.0.0.dev0,>=2.18.0 in /usr/local/lib/python3.10/dist-packages (from google-api-core[grpc]!=2.0.*,!=2.1.*,!=2.2.*,!=2.3.*,!=2.4.*,!=2.5.*,!=2.6.*,!=2.7.*,<3.0.0dev,>=1.32.0->google-cloud-aiplatform) (2.31.0)\n",
      "Requirement already satisfied: grpcio<2.0dev,>=1.33.2 in /usr/local/lib/python3.10/dist-packages (from google-api-core[grpc]!=2.0.*,!=2.1.*,!=2.2.*,!=2.3.*,!=2.4.*,!=2.5.*,!=2.6.*,!=2.7.*,<3.0.0dev,>=1.32.0->google-cloud-aiplatform) (1.58.0)\n",
      "Requirement already satisfied: grpcio-status<2.0.dev0,>=1.33.2 in /usr/local/lib/python3.10/dist-packages (from google-api-core[grpc]!=2.0.*,!=2.1.*,!=2.2.*,!=2.3.*,!=2.4.*,!=2.5.*,!=2.6.*,!=2.7.*,<3.0.0dev,>=1.32.0->google-cloud-aiplatform) (1.48.2)\n",
      "Requirement already satisfied: google-cloud-core<3.0.0dev,>=1.6.0 in /usr/local/lib/python3.10/dist-packages (from google-cloud-bigquery<4.0.0dev,>=1.15.0->google-cloud-aiplatform) (2.3.3)\n",
      "Requirement already satisfied: google-resumable-media<3.0dev,>=0.6.0 in /usr/local/lib/python3.10/dist-packages (from google-cloud-bigquery<4.0.0dev,>=1.15.0->google-cloud-aiplatform) (2.6.0)\n",
      "Requirement already satisfied: python-dateutil<3.0dev,>=2.7.2 in /usr/local/lib/python3.10/dist-packages (from google-cloud-bigquery<4.0.0dev,>=1.15.0->google-cloud-aiplatform) (2.8.2)\n",
      "Requirement already satisfied: grpc-google-iam-v1<1.0.0dev,>=0.12.4 in /usr/local/lib/python3.10/dist-packages (from google-cloud-resource-manager<3.0.0dev,>=1.3.3->google-cloud-aiplatform) (0.12.6)\n",
      "Requirement already satisfied: cachetools<6.0,>=2.0.0 in /usr/local/lib/python3.10/dist-packages (from google-auth<3.0.dev0,>=2.14.1->google-api-core[grpc]!=2.0.*,!=2.1.*,!=2.2.*,!=2.3.*,!=2.4.*,!=2.5.*,!=2.6.*,!=2.7.*,<3.0.0dev,>=1.32.0->google-cloud-aiplatform) (5.3.1)\n",
      "Requirement already satisfied: pyasn1-modules>=0.2.1 in /usr/local/lib/python3.10/dist-packages (from google-auth<3.0.dev0,>=2.14.1->google-api-core[grpc]!=2.0.*,!=2.1.*,!=2.2.*,!=2.3.*,!=2.4.*,!=2.5.*,!=2.6.*,!=2.7.*,<3.0.0dev,>=1.32.0->google-cloud-aiplatform) (0.3.0)\n",
      "Requirement already satisfied: six>=1.9.0 in /usr/local/lib/python3.10/dist-packages (from google-auth<3.0.dev0,>=2.14.1->google-api-core[grpc]!=2.0.*,!=2.1.*,!=2.2.*,!=2.3.*,!=2.4.*,!=2.5.*,!=2.6.*,!=2.7.*,<3.0.0dev,>=1.32.0->google-cloud-aiplatform) (1.16.0)\n",
      "Requirement already satisfied: rsa<5,>=3.1.4 in /usr/local/lib/python3.10/dist-packages (from google-auth<3.0.dev0,>=2.14.1->google-api-core[grpc]!=2.0.*,!=2.1.*,!=2.2.*,!=2.3.*,!=2.4.*,!=2.5.*,!=2.6.*,!=2.7.*,<3.0.0dev,>=1.32.0->google-cloud-aiplatform) (4.9)\n",
      "Requirement already satisfied: google-crc32c<2.0dev,>=1.0 in /usr/local/lib/python3.10/dist-packages (from google-resumable-media<3.0dev,>=0.6.0->google-cloud-bigquery<4.0.0dev,>=1.15.0->google-cloud-aiplatform) (1.5.0)\n",
      "Requirement already satisfied: charset-normalizer<4,>=2 in /usr/local/lib/python3.10/dist-packages (from requests<3.0.0.dev0,>=2.18.0->google-api-core[grpc]!=2.0.*,!=2.1.*,!=2.2.*,!=2.3.*,!=2.4.*,!=2.5.*,!=2.6.*,!=2.7.*,<3.0.0dev,>=1.32.0->google-cloud-aiplatform) (3.2.0)\n",
      "Requirement already satisfied: idna<4,>=2.5 in /usr/local/lib/python3.10/dist-packages (from requests<3.0.0.dev0,>=2.18.0->google-api-core[grpc]!=2.0.*,!=2.1.*,!=2.2.*,!=2.3.*,!=2.4.*,!=2.5.*,!=2.6.*,!=2.7.*,<3.0.0dev,>=1.32.0->google-cloud-aiplatform) (3.4)\n",
      "Requirement already satisfied: urllib3<3,>=1.21.1 in /usr/local/lib/python3.10/dist-packages (from requests<3.0.0.dev0,>=2.18.0->google-api-core[grpc]!=2.0.*,!=2.1.*,!=2.2.*,!=2.3.*,!=2.4.*,!=2.5.*,!=2.6.*,!=2.7.*,<3.0.0dev,>=1.32.0->google-cloud-aiplatform) (2.0.5)\n",
      "Requirement already satisfied: certifi>=2017.4.17 in /usr/local/lib/python3.10/dist-packages (from requests<3.0.0.dev0,>=2.18.0->google-api-core[grpc]!=2.0.*,!=2.1.*,!=2.2.*,!=2.3.*,!=2.4.*,!=2.5.*,!=2.6.*,!=2.7.*,<3.0.0dev,>=1.32.0->google-cloud-aiplatform) (2023.7.22)\n",
      "Requirement already satisfied: pyasn1<0.6.0,>=0.4.6 in /usr/local/lib/python3.10/dist-packages (from pyasn1-modules>=0.2.1->google-auth<3.0.dev0,>=2.14.1->google-api-core[grpc]!=2.0.*,!=2.1.*,!=2.2.*,!=2.3.*,!=2.4.*,!=2.5.*,!=2.6.*,!=2.7.*,<3.0.0dev,>=1.32.0->google-cloud-aiplatform) (0.5.0)\n",
      "Installing collected packages: shapely, google-cloud-resource-manager, google-cloud-aiplatform\n",
      "\u001b[33m  WARNING: The script tb-gcp-uploader is installed in '/root/.local/bin' which is not on PATH.\n",
      "  Consider adding this directory to PATH or, if you prefer to suppress this warning, use --no-warn-script-location.\u001b[0m\u001b[33m\n",
      "\u001b[0mSuccessfully installed google-cloud-aiplatform-1.34.0 google-cloud-resource-manager-1.10.4 shapely-1.8.5.post1\n"
     ]
    },
    {
     "data": {
      "application/vnd.colab-display-data+json": {
       "pip_warning": {
        "packages": [
         "google"
        ]
       }
      }
     },
     "metadata": {},
     "output_type": "display_data"
    }
   ],
   "source": [
    "!pip install google-cloud-aiplatform --upgrade --user"
   ]
  },
  {
   "cell_type": "markdown",
   "metadata": {
    "id": "j7UyNVSiyQ96"
   },
   "source": [
    "**Colab only:** Uncomment the following cell to restart the kernel or use the button to restart the kernel. For Vertex AI Workbench you can restart the terminal using the button on top."
   ]
  },
  {
   "cell_type": "code",
   "execution_count": 1,
   "metadata": {
    "colab": {
     "base_uri": "https://localhost:8080/"
    },
    "id": "YmY9HVVGSBW5",
    "outputId": "fcd4e88f-bff9-44e6-c509-06d1a657bb23"
   },
   "outputs": [
    {
     "data": {
      "text/plain": [
       "{'status': 'ok', 'restart': True}"
      ]
     },
     "execution_count": 1,
     "metadata": {},
     "output_type": "execute_result"
    }
   ],
   "source": [
    "# # Automatically restart kernel after installs so that your environment can access the new packages\n",
    "import IPython\n",
    "\n",
    "app = IPython.Application.instance()\n",
    "app.kernel.do_shutdown(True)"
   ]
  },
  {
   "cell_type": "markdown",
   "metadata": {
    "id": "6Fom0ZkMSBW6"
   },
   "source": [
    "### Authenticating your notebook environment\n",
    "* If you are using **Colab** to run this notebook, uncomment the cell below and continue.\n",
    "* If you are using **Vertex AI Workbench**, check out the setup instructions [here](https://github.com/GoogleCloudPlatform/generative-ai/tree/main/setup-env)."
   ]
  },
  {
   "cell_type": "code",
   "execution_count": 1,
   "metadata": {
    "id": "LCaCx6PLSBW6"
   },
   "outputs": [],
   "source": [
    "from google.colab import auth\n",
    "auth.authenticate_user()"
   ]
  },
  {
   "cell_type": "markdown",
   "metadata": {
    "id": "GckO4EysV5BT"
   },
   "source": [
    "## Vertex AI PaLM API models"
   ]
  },
  {
   "cell_type": "markdown",
   "metadata": {
    "id": "BDYqwDmTLgEy"
   },
   "source": [
    "The Vertex AI PaLM API enables you to test, customize, and deploy instances of Google’s large language models (LLM) called as PaLM,  so that you can leverage the capabilities of PaLM in your applications.\n",
    "\n",
    "### Model naming scheme\n",
    "Foundation model names have three components: use case, model size, and version number. The naming convention is in the format:  \n",
    "`<use case>-<model size>@<version number>`\n",
    "\n",
    "For example, text-bison@001 represents the Bison text model, version 001.\n",
    "\n",
    "The model sizes are as follows:\n",
    "- **Bison**: The best value in terms of capability and cost.\n",
    "- **Gecko**: The smallest and cheapest model for simple tasks.\n",
    "\n",
    "### Available models\n",
    "\n",
    "The Vertex AI PaLM API currently supports five models:\n",
    "\n",
    "*   `text-bison@001` : Fine-tuned to follow natural language instructions and is suitable for a variety of language tasks.\n",
    "*   `chat-bison@001` : Fine-tuned for multi-turn conversation use cases like building a chatbot.\n",
    "*   `textembedding-gecko@001` : Returns model embeddings for text inputs.\n",
    "\n",
    "* `code-bison@001`: A model fine-tuned to generate code based on a natural language description of the desired code. For example, it can generate a unit test for a function.\n",
    "\n",
    "\n",
    "You can find more information about the properties of these [foundational models in the Generative AI Studio documentation](https://cloud.google.com/vertex-ai/docs/generative-ai/learn/models#foundation_models).\n"
   ]
  },
  {
   "cell_type": "markdown",
   "metadata": {
    "id": "BuQwwRiniVFG"
   },
   "source": [
    "### Import libraries"
   ]
  },
  {
   "cell_type": "markdown",
   "metadata": {
    "id": "Vnq2kIV8yQ97"
   },
   "source": [
    "**Colab only:** Uncomment the following cell to initialize the Vertex AI SDK. For Vertex AI Workbench, you don't need to run this.  "
   ]
  },
  {
   "cell_type": "code",
   "execution_count": 2,
   "metadata": {
    "id": "rtMowvm-yQ97"
   },
   "outputs": [],
   "source": [
    "import vertexai\n",
    "\n",
    "PROJECT_ID = \"\"  # @param {type:\"string\"}\n",
    "vertexai.init(project=PROJECT_ID, location=\"us-central1\")"
   ]
  },
  {
   "cell_type": "code",
   "execution_count": null,
   "metadata": {
    "id": "MLOzf56Tya3V"
   },
   "outputs": [],
   "source": []
  },
  {
   "cell_type": "code",
   "execution_count": 30,
   "metadata": {
    "id": "4zjV4alsiVql"
   },
   "outputs": [],
   "source": [
    "import pandas as pd\n",
    "import seaborn as sns\n",
    "from IPython.display import Markdown, display\n",
    "from sklearn.metrics.pairwise import cosine_similarity\n",
    "from vertexai.language_models import TextGenerationModel, \\\n",
    "                                     TextEmbeddingModel, \\\n",
    "                                     ChatModel, \\\n",
    "                                     InputOutputTextPair, \\\n",
    "                                     CodeGenerationModel \\\n"
   ]
  },
  {
   "cell_type": "markdown",
   "metadata": {
    "id": "_mU6EZEhakVu"
   },
   "source": [
    "## Text generation with `text-bison@001`\n",
    "\n",
    "The text generation model from PaLM API that you will use in this notebook is `text-bison@001`.\n",
    "It is fine-tuned to follow natural language instructions and is suitable for a variety of language tasks, such as:\n",
    "\n",
    "- Classification\n",
    "- Sentiment analysis\n",
    "- Entity extraction\n",
    "- Extractive question-answering\n",
    "- Summarization\n",
    "- Re-writing text in a different style\n",
    "- Ad copy generation\n",
    "- Concept ideation\n",
    "- Concept simplification"
   ]
  },
  {
   "cell_type": "markdown",
   "metadata": {
    "id": "4437b7608c8e"
   },
   "source": [
    "#### Load model"
   ]
  },
  {
   "cell_type": "code",
   "execution_count": 4,
   "metadata": {
    "id": "2998506fe6d1"
   },
   "outputs": [],
   "source": [
    "generation_model = TextGenerationModel.from_pretrained(\"text-bison@001\")"
   ]
  },
  {
   "cell_type": "markdown",
   "metadata": {
    "id": "7a5d006f3813"
   },
   "source": [
    "#### Prompt design\n",
    "Prompt design is the process of creating prompts that elicit the desired response from a language model. Prompt design is an important part of using language models because it allows non-specialists to control the output of the model with minimal overhead. By carefully crafting the prompts, you can nudge the model to generate a desired result. Prompt design can be an efficient way to experiment with adapting an LLM for a specific use case. The iterative process of repeatedly updating prompts and assessing the model’s responses is sometimes called prompt engineering."
   ]
  },
  {
   "cell_type": "markdown",
   "metadata": {
    "id": "kEAJ0ipmbndQ"
   },
   "source": [
    "#### Hello PaLM"
   ]
  },
  {
   "cell_type": "markdown",
   "metadata": {
    "id": "tCgBDJvNRCF5"
   },
   "source": [
    "Create your first prompt and send it to the text generation model."
   ]
  },
  {
   "cell_type": "code",
   "execution_count": 5,
   "metadata": {
    "colab": {
     "base_uri": "https://localhost:8080/"
    },
    "id": "cx_o455SRCF5",
    "outputId": "52697e13-d900-457f-9396-9ac2f81bf8c9"
   },
   "outputs": [
    {
     "name": "stdout",
     "output_type": "stream",
     "text": [
      "A large language model (LLM) is a type of artificial intelligence (AI) model that can understand and generate human language. LLMs are trained on massive datasets of text and code, and they can learn to perform a wide variety of tasks, such as translating languages, writing different kinds of creative content, and answering your questions in an informative way.\n",
      "\n",
      "LLMs are still under development, but they have the potential to revolutionize many industries. For example, LLMs could be used to create more accurate and personalized customer service experiences, to help doctors diagnose and treat diseases, and to even write entire books and movies.\n",
      "\n",
      "\n"
     ]
    }
   ],
   "source": [
    "prompt = \"What is a generative AI model?\"\n",
    "\n",
    "response = generation_model.predict(prompt=prompt)\n",
    "\n",
    "print(response.text)"
   ]
  },
  {
   "cell_type": "markdown",
   "metadata": {
    "id": "Us8idXnVyQ97"
   },
   "source": [
    "#### Try out your own prompt"
   ]
  },
  {
   "cell_type": "markdown",
   "metadata": {
    "id": "_8YW1hBNyQ97"
   },
   "source": [
    "- What are the biggest challenges facing the healthcare industry?\n",
    "- What are the latest developments in the automotive industry?\n",
    "- What are the biggest opportunities in the retail industry?\n",
    "- (Try your own prompts!)"
   ]
  },
  {
   "cell_type": "code",
   "execution_count": 6,
   "metadata": {
    "colab": {
     "base_uri": "https://localhost:8080/"
    },
    "id": "MmAZQW1GyQ97",
    "outputId": "74ec1f95-8277-43b2-9039-ed7b008b4abe"
   },
   "outputs": [
    {
     "name": "stdout",
     "output_type": "stream",
     "text": [
      "1. **Artificial intelligence**\n",
      "2. **Machine learning**\n",
      "3. **Blockchain**\n",
      "4. **Virtual reality**\n",
      "5. **Augmented reality**\n",
      "6. **5G**\n",
      "7. **Edge computing**\n",
      "8. **Internet of things**\n",
      "9. **Self-driving cars**\n",
      "10. **Wearables**\n"
     ]
    }
   ],
   "source": [
    "prompt = \"\"\"<enter your prompt>\"\"\" # try your own prompt\n",
    "\n",
    "response = generation_model.predict(prompt=prompt)\n",
    "\n",
    "print(response.text)"
   ]
  },
  {
   "cell_type": "markdown",
   "metadata": {
    "id": "EsglQtgDRCF5"
   },
   "source": [
    "#### Prompt templates"
   ]
  },
  {
   "cell_type": "markdown",
   "metadata": {
    "id": "9BP1BKWiRCF6"
   },
   "source": [
    "Prompt templates are useful if you have found a good way to structure your prompt that you can re-use. This can be also be helpful in limiting the open-endedness of freeform prompts. There are many ways to implement prompt templates, and below is just one example using f-strings."
   ]
  },
  {
   "cell_type": "code",
   "execution_count": 31,
   "metadata": {
    "colab": {
     "base_uri": "https://localhost:8080/"
    },
    "id": "2USfPyOuFhlB",
    "outputId": "f54ebbeb-9b6b-426e-ca7c-814aba31e361"
   },
   "outputs": [
    {
     "name": "stdout",
     "output_type": "stream",
     "text": [
      "1. **Artificial intelligence**\n",
      "2. **Blockchain**\n",
      "3. **Cryptocurrency**\n",
      "4. **Data analytics**\n",
      "5. **Fintech**\n",
      "6. **Insurtech**\n",
      "7. **Machine learning**\n",
      "8. **Personalization**\n",
      "9. **RegTech**\n",
      "10. **Sustainability**\n"
     ]
    }
   ],
   "source": [
    "my_industry = \"financial\" # try changing this to a different industry\n",
    "\n",
    "response = generation_model.predict(\n",
    "    prompt=f\"\"\"Create a numbered list of 10 items. Each item in the list should\n",
    "    be a trend in the {my_industry} industry.\n",
    "\n",
    "    Each trend should be less than 5 words.\"\"\"\n",
    ")\n",
    "\n",
    "print(response.text)"
   ]
  },
  {
   "cell_type": "markdown",
   "metadata": {
    "id": "m65AyLt8yvdB"
   },
   "source": [
    "### Model parameters for `text-bison@001`"
   ]
  },
  {
   "cell_type": "markdown",
   "metadata": {
    "id": "vQuZh6GT0Yn4"
   },
   "source": [
    "You can customize how the PaLM API behaves in response to your prompt by using the following parameters for `text-bison@001`:\n",
    "\n",
    " - `temperature`: higher means more \"creative\" responses\n",
    " - `max_output_tokens`: sets the max number of tokens in the output\n",
    " - `top_p`: higher means it will pull from more possible next tokens, based on cumulative probability\n",
    " - `top_k`: higher means it will sample from more possible next tokens\n",
    "\n",
    "The section below covers each parameter and how to use them."
   ]
  },
  {
   "cell_type": "markdown",
   "metadata": {
    "id": "aMEz2P18SBW-"
   },
   "source": [
    "If you run the following cell multiple times, it should always return the same response, as `temperature=0` is deterministic."
   ]
  },
  {
   "cell_type": "code",
   "execution_count": 28,
   "metadata": {
    "colab": {
     "base_uri": "https://localhost:8080/"
    },
    "id": "cxPM1A8uR81l",
    "outputId": "1a486c6b-e94c-45b9-d9c6-15691a83e9ba"
   },
   "outputs": [
    {
     "name": "stdout",
     "output_type": "stream",
     "text": [
      "[temperature = 0.0]\n",
      "As I prepared the picture frame, I reached into my toolkit to fetch my hammer.\n"
     ]
    }
   ],
   "source": [
    "#Try changing the below values and re run the cells to see different generated responses.\n",
    "\n",
    "temp_val = 0.0  #parameter (range: 0.0 - 1.0, default 0.2). A temperature of 0 is deterministic: the highest probability response is always selected. For most use cases, try starting with a temperature of 0.2.\n",
    "max_output_tokens_val = 128  #range  parameter (range: 1 - 1024, default 128)\n",
    "top_p_val = 0.1  #range parameter (range: 0.0 - 1.0, default 0.95)\n",
    "top_k_val = 40  #range parameter (range: 0.0 - 40, default 40)\n",
    "prompt_temperature = \"Complete the sentence: As I prepared the picture frame, I reached into my toolkit to fetch my:\"\n",
    "\n",
    "response = generation_model.predict(\n",
    "    prompt=prompt_temperature,\n",
    "    temperature=temp_val,max_output_tokens=max_output_tokens_val,top_p=top_p_val, top_k=top_k_val\n",
    ")\n",
    "\n",
    "print(response.text)"
   ]
  },
  {
   "cell_type": "markdown",
   "metadata": {
    "id": "ZRVHZ546yQ98"
   },
   "source": [
    "For easier reading, you can also render Markdown in Jupyter:"
   ]
  },
  {
   "cell_type": "code",
   "execution_count": null,
   "metadata": {
    "id": "6MxmNsp-yQ98"
   },
   "outputs": [],
   "source": [
    "display(Markdown(response.text))"
   ]
  },
  {
   "cell_type": "markdown",
   "metadata": {
    "id": "14ada40abecc"
   },
   "source": [
    "## Chat model with `chat-bison@001`"
   ]
  },
  {
   "cell_type": "markdown",
   "metadata": {
    "id": "1923b5583a2d"
   },
   "source": [
    "The `chat-bison@001` model lets you have a freeform conversation across multiple turns. The application tracks what was previously said in the conversation. As such, if you expect to use conversations in your application, use the `chat-bison@001` model because it has been fine-tuned for multi-turn conversation use cases."
   ]
  },
  {
   "cell_type": "code",
   "execution_count": 8,
   "metadata": {
    "colab": {
     "base_uri": "https://localhost:8080/"
    },
    "id": "1325438b9188",
    "outputId": "eb3590ed-d590-4e36-d2ce-31899793be7c"
   },
   "outputs": [
    {
     "name": "stdout",
     "output_type": "stream",
     "text": [
      "Artificial intelligence (AI) is a branch of computer science that deals with the creation of intelligent agents, which are systems that can reason, learn, and act autonomously. AI has the potential to revolutionize many aspects of our lives, from the way we work and play to the way we interact with the world around us.\n",
      "\n",
      "The impact of AI on society is a complex and multifaceted issue. On the one hand, AI has the potential to solve some of the world's most pressing problems, such as climate change, poverty, and disease. AI can also be used to create new products and services that improve our lives in ways that we can't even imagine.\n",
      "\n",
      "On the other hand, AI also poses a number of risks to society. AI systems can be used to create autonomous weapons systems that could kill without human intervention. AI can also be used to create surveillance systems that track and monitor our every move.\n",
      "\n",
      "The future of AI is uncertain. It is possible that AI will be used for good, or it is possible that AI will be used for evil. It is up to us to decide how AI is used, and to ensure that AI is used for the benefit of humanity, not to its detriment.\n",
      "\n",
      "In this paper, we will explore the potential impact of AI on society. We will discuss the benefits and risks of AI, and we will consider the ways in which AI can be used to solve some of the world's most pressing problems. We will also discuss the challenges that need to be overcome in order to ensure that AI is used for good.\n",
      "\n",
      "We believe that AI has the potential to make the world a better place. However, we also believe that it is important to be aware of the risks associated with AI. By understanding the potential impact of AI, we can take steps to ensure that AI is used for the benefit of humanity, not to its detriment.\n"
     ]
    }
   ],
   "source": [
    "chat_model = ChatModel.from_pretrained(\"chat-bison@001\")\n",
    "\n",
    "chat = chat_model.start_chat()\n",
    "\n",
    "print(\n",
    "    chat.send_message(\n",
    "        \"\"\"\n",
    "Hello! Can you write a 300 word abstract for a research paper I need to write about the impact of AI on society?\n",
    "\"\"\"\n",
    "    )\n",
    ")"
   ]
  },
  {
   "cell_type": "markdown",
   "metadata": {
    "id": "ef81f564bed1"
   },
   "source": [
    "As shown below, the model should respond based on what was previously said in the conversation:"
   ]
  },
  {
   "cell_type": "code",
   "execution_count": 9,
   "metadata": {
    "colab": {
     "base_uri": "https://localhost:8080/"
    },
    "id": "30ab5afac7dc",
    "outputId": "4fc622da-a91a-4743-e8d8-ece447ac1f14"
   },
   "outputs": [
    {
     "name": "stdout",
     "output_type": "stream",
     "text": [
      "The Impact of Artificial Intelligence on Society\n"
     ]
    }
   ],
   "source": [
    "print(\n",
    "    chat.send_message(\n",
    "        \"\"\"\n",
    "Could you give me a catchy title for the paper?\n",
    "\"\"\"\n",
    "    )\n",
    ")"
   ]
  },
  {
   "cell_type": "markdown",
   "metadata": {
    "id": "fe15a6b083e5"
   },
   "source": [
    "### Advanced Chat model with the SDK\n",
    "You can also provide a `context` and `examples` to the model. The model will then respond based on the provided context and examples. You can also use `temperature`, `max_output_tokens`, `top_p`, and `top_k`. These parameters should be used when you start your chat with `chat_model.start_chat()`.\n",
    "\n",
    "For more information on chat models, please refer to the [documentation on chat model parameters](https://cloud.google.com/vertex-ai/docs/generative-ai/learn/models#chat_model_parameters)."
   ]
  },
  {
   "cell_type": "code",
   "execution_count": 32,
   "metadata": {
    "colab": {
     "base_uri": "https://localhost:8080/"
    },
    "id": "4047b525961e",
    "outputId": "bb9ed6a9-2727-4ed0-a005-ab8d5b3ff8d0"
   },
   "outputs": [
    {
     "name": "stdout",
     "output_type": "stream",
     "text": [
      "A walk to remember is based on a book series.\n"
     ]
    }
   ],
   "source": [
    "chat = chat_model.start_chat(\n",
    "    context=\"My name is John doe. You are my personal assistant. My favorite movies are Notebook and A walk to remember.\",\n",
    "    examples=[\n",
    "        InputOutputTextPair(\n",
    "            input_text=\"Who do you work for?\",\n",
    "            output_text=\"I work for John doe.\",\n",
    "        ),\n",
    "        InputOutputTextPair(\n",
    "            input_text=\"What do I like?\",\n",
    "            output_text=\"John doe likes watching movies.\",\n",
    "        ),\n",
    "    ],\n",
    "    temperature=0.3,\n",
    "    max_output_tokens=200,\n",
    "    top_p=0.8,\n",
    "    top_k=40,\n",
    ")\n",
    "print(chat.send_message(\"Are my favorite movies based on a book series?\"))"
   ]
  },
  {
   "cell_type": "code",
   "execution_count": 11,
   "metadata": {
    "colab": {
     "base_uri": "https://localhost:8080/"
    },
    "id": "685184ee4159",
    "outputId": "c5f5b3bf-2015-4d87-d0ce-7085a2ac428f"
   },
   "outputs": [
    {
     "name": "stdout",
     "output_type": "stream",
     "text": [
      "The Lord of the Rings was published in 1954 and The Hobbit was published in 1937.\n"
     ]
    }
   ],
   "source": [
    "print(chat.send_message(\"When where these books published?\"))"
   ]
  },
  {
   "cell_type": "markdown",
   "metadata": {
    "id": "67b6eef99f56"
   },
   "source": [
    "## Embedding model with `textembedding-gecko@001`"
   ]
  },
  {
   "cell_type": "markdown",
   "metadata": {
    "id": "64a58515878c"
   },
   "source": [
    "Text embeddings are a dense, often low-dimensional, vector representation of a piece of content such that, if two pieces of content are semantically similar, their respective embeddings are located near each other in the embedding vector space. This representation can be used to solve common NLP tasks, such as:\n",
    "\n",
    "* **Semantic search**: Search text ranked by semantic similarity.\n",
    "* **Recommendation**: Return items with text attributes similar to the given text.\n",
    "* **Classification**: Return the class of items whose text attributes are similar to the given text.\n",
    "* **Clustering**: Cluster items whose text attributes are similar to the given text.\n",
    "* **Outlier Detection**: Return items where text attributes are least related to the given text.\n",
    "\n",
    "Please refer to the [text embedding model documentation](https://cloud.google.com/vertex-ai/docs/generative-ai/embeddings/get-text-embeddings) for more information."
   ]
  },
  {
   "cell_type": "code",
   "execution_count": 33,
   "metadata": {
    "colab": {
     "base_uri": "https://localhost:8080/"
    },
    "id": "f0f175d5b02a",
    "outputId": "a2e38ad3-f7b6-4539-b3c5-0154e63fd43a"
   },
   "outputs": [
    {
     "name": "stdout",
     "output_type": "stream",
     "text": [
      "Length = 768\n",
      "[-0.03277524933218956, 0.015811266377568245, -0.0285627581179142, 0.019448421895503998, 0.06972312182188034, -0.041524067521095276, 0.033396605402231216, 0.02302083745598793, -0.033378906548023224, 0.04099566861987114, 0.024210404604673386, -0.012579705566167831, 0.0500764474272728, -0.03710556402802467, -0.029600713402032852, -0.013946831226348877, -0.0743672251701355, -0.04611546918749809, 0.008748986758291721, 0.0367404967546463, -0.07470763474702835, 0.0026548735331743956, -0.003853603731840849, -0.06237340718507767, -0.005285688675940037, -0.1060115247964859, -0.0006686986307613552, -0.0010728923371061683, -0.002081572776660323, -0.02342137135565281, 0.018453385680913925, 0.04118049889802933, 0.044924259185791016, -0.009621089324355125, -0.00483302865177393, 0.0694323256611824, -0.01231631450355053, -0.023951172828674316, 0.010156289674341679, 0.04079890251159668, 0.019549714401364326, -0.0040580593049526215, 0.027132760733366013, -0.035701144486665726, 4.228887701174244e-05, -0.0033377096988260746, -0.053361088037490845, 0.03502674028277397, 0.00597061263397336, -0.029119370505213737, 0.029156247153878212, -0.012568285688757896, 0.002224820200353861, 0.04104836285114288, -0.010762170888483524, 0.030016278848052025, -0.03851507976651192, -0.014509471133351326, -0.019505517557263374, -0.05977879464626312, 0.025400904938578606, 0.01726013608276844, 0.005154420621693134, -0.05193672701716423, -0.013759205117821693, 0.05840533599257469, 0.024852704256772995, -0.02912738546729088, -0.02117743156850338, -0.020918698981404305, 0.04630966857075691, 0.02255694940686226, -0.020311113446950912, -0.011161979287862778, 0.02637818269431591, 0.017342563718557358, -0.03051142394542694, 0.02514568157494068, 0.032708339393138885, -0.05530542880296707, 0.020002853125333786, -0.042292457073926926, -0.014906671829521656, -0.07883615046739578, -0.01086377538740635, 0.028801152482628822, -0.013631490059196949, 0.054455846548080444, -0.04662097245454788, 0.07719724625349045, -0.056912411004304886, 0.01672704704105854, -0.019375624135136604, 0.0448828861117363, 0.011942902579903603, -0.041115231812000275, -0.02290331944823265, 3.239651050535031e-05, 0.03845181688666344, -0.01526214461773634, -0.007975657470524311, -0.04623765870928764, 0.037616562098264694, -0.017322467640042305, 0.03966799005866051, 0.03918403759598732, 0.02313810959458351, 0.015330509282648563, -0.04560374841094017, -0.10064932703971863, -0.024688459932804108, -0.04953569918870926, -0.04541363567113876, 0.02507355436682701, 0.02291438728570938, -0.06478463858366013, 0.03462999686598778, 0.03870125114917755, 0.0457642562687397, -0.0026991500053554773, -0.047332633286714554, 0.005491528194397688, 0.00926383025944233, 0.041129220277071, 0.005790673661977053, -0.004505965858697891, 0.05721332132816315, -0.004000630229711533, -0.02133828215301037, 0.012179771438241005, 0.05724051222205162, -0.021120071411132812, 0.04791710525751114, 0.004237620625644922, 0.03493010997772217, 0.014222796075046062, -0.03300626203417778, 0.019909026101231575, -0.045129287987947464, 0.06432371586561203, -0.0733746588230133, 0.03339068219065666, 0.0029628360643982887, 0.0007677104440517724, -0.038105349987745285, 0.009715699590742588, 0.031169386580586433, 0.004380007274448872, -0.04023425281047821, -0.0558597594499588, 0.04860198125243187, 0.0005121699650771916, -0.02723132073879242, 0.006894723512232304, 0.0016238559037446976, 0.07656987011432648, 0.040378324687480927, 0.05021769180893898, -0.0015980126336216927, -0.04165729507803917, -0.00455855205655098, 0.043997231870889664, -0.04578082635998726, 0.014904936775565147, 0.042795490473508835, -0.03241456300020218, -0.010463882237672806, 0.02555377408862114, -0.022992681711912155, 0.025704924017190933, 0.04554721713066101, -0.10254275053739548, -0.04865771904587746, -0.0323956236243248, 0.010535510256886482, -0.045852866023778915, -0.01686273142695427, 0.001571070053614676, 0.04639025777578354, -0.026292556896805763, -0.017918488010764122, -0.08468502759933472, 0.0469408817589283, 0.018116336315870285, -0.06065689027309418, 0.037020064890384674, -0.03736364468932152, -0.031856290996074677, -0.05705499276518822, 0.028759391978383064, -0.021664751693606377, -0.0046694111078977585, 0.06004948914051056, -0.012912794947624207, -0.07325804233551025, 0.007146318443119526, 0.07920795679092407, -0.13337427377700806, -0.011649911291897297, 0.06921035796403885, -0.0004605458816513419, -0.06234118342399597, -0.01318379770964384, -0.0022934700828045607, 0.014235525391995907, -0.007502935826778412, -0.07998933643102646, 0.01611827313899994, 0.0012883300660178065, -0.03304770961403847, 0.04271113499999046, 0.010449777357280254, 0.05701285973191261, -0.010966351255774498, -0.023610351607203484, -0.0164987500756979, 0.0214085690677166, -0.02527564950287342, -0.0716269314289093, 0.006925645284354687, -0.018641214817762375, -0.02878248691558838, -0.0021592197008430958, 0.025287142023444176, -0.016248663887381554, 0.0015591837000101805, 0.03504180163145065, 0.022070808336138725, 0.024525148794054985, -0.0038797531742602587, -0.00933102983981371, -0.01050523854792118, -0.054343391209840775, 0.014502805657684803, 0.015767332166433334, 0.051564112305641174, -0.02974419854581356, -0.012861999683082104, -0.05996810272336006, 0.06282847374677658, -0.011783690191805363, 0.06634753197431564, -0.07175237685441971, 0.06659890711307526, 0.01952393725514412, 0.048072751611471176, 0.034036099910736084, 0.02176404371857643, -0.06448914110660553, 0.00798108521848917, 0.04839211702346802, -0.056038420647382736, 0.012018728069961071, 0.01976112090051174, 0.03192459046840668, -0.024228515103459358, -0.04221411049365997, 0.07627996802330017, -0.06589613109827042, 0.01565113291144371, 0.014646866358816624, 0.001772400108166039, 0.09431146085262299, 0.13175232708454132, -0.028326794505119324, -0.010529948398470879, 0.029795637354254723, 0.027377190068364143, 0.025149937719106674, -0.04652697592973709, -0.017821600660681725, -0.02841462753713131, 0.04155825823545456, 0.04380393028259277, 0.00814062263816595, 0.0215409304946661, -0.017495691776275635, -0.014260498806834221, 0.012503743171691895, 0.02441520243883133, 0.024477526545524597, -0.04463232681155205, 0.053923510015010834, 0.07275618612766266, 0.019960902631282806, 0.003207729896530509, -0.018592828884720802, -0.02352956496179104, -0.04122866317629814, 0.03628610074520111, 0.05665649473667145, 0.02849712036550045, -0.011974138207733631, 0.031896576285362244, 0.02892613224685192, -0.0032342311460524797, 0.05648965761065483, -0.0031080753542482853, -0.01435127668082714, 0.017065955325961113, -0.003516986733302474, 0.019964171573519707, -0.024795357137918472, -0.011879722587764263, -0.026688840240240097, -0.049402546137571335, 0.004491996485739946, -0.007493235170841217, 0.021305711939930916, 0.011094038374722004, -0.005093673709779978, 0.006215785630047321, 0.03664867579936981, -0.03272011876106262, -0.10562780499458313, 0.022511780261993408, 0.006975983735173941, 0.012448417954146862, 0.01475184690207243, -0.004225216805934906, -0.010387132875621319, 0.016972918063402176, 0.06845127791166306, -0.02173590287566185, 0.03887329623103142, -0.005776046775281429, 0.008264766074717045, 0.04133925959467888, 0.07905545085668564, -0.04257538542151451, -0.017207464203238487, 0.01953756995499134, -0.029114538803696632, -0.005275423172861338, -0.002655988559126854, 0.011058882810175419, 0.018657652661204338, 0.021997127681970596, 0.0230526402592659, 0.009787860326468945, -0.007534973789006472, -0.019353007897734642, -0.04300101846456528, -0.01369969267398119, -0.024533258751034737, 0.04089703783392906, -0.05779699608683586, -0.05203003063797951, -0.04597330093383789, 0.0004302272864151746, -0.00997226219624281, -0.014020557515323162, -0.015047513879835606, 0.06790494918823242, -0.00716809555888176, -0.005200583953410387, -0.06835977733135223, -0.006128749810159206, 0.05847778916358948, -0.0025154997128993273, -0.05194689333438873, -0.02217276021838188, -0.04499825835227966, 0.04472643509507179, -0.020082654431462288, 0.030031507834792137, -0.07120132446289062, 0.06351792812347412, 0.010092431679368019, -0.048917677253484726, -0.004817591514438391, 0.008433924987912178, 0.032594017684459686, -0.040571119636297226, 0.004949040245264769, -0.0034677365329116583, -0.011890880763530731, -0.012941112741827965, 0.04098908230662346, 0.02575158141553402, 0.00019449453975539654, 0.03226418420672417, -0.010731861926615238, -0.0033158736769109964, 0.016619594767689705, 0.008688868023455143, 0.009366209618747234, 0.015014288946986198, -0.01668318547308445, 0.02756837010383606, 0.01882598176598549, 0.06277097016572952, 0.014580321498215199, -0.03719935938715935, -0.051628027111291885, 0.03222876042127609, -0.03193904086947441, -0.0036890192423015833, -0.05007427558302879, -0.051930610090494156, 0.01504562422633171, 0.04798375070095062, -0.008903960697352886, -0.09990004450082779, 0.03182218223810196, 0.01037612184882164, 0.029436828568577766, 0.06541430205106735, 0.02568586729466915, -0.02425497956573963, 0.022978711873292923, -0.02027386613190174, 0.026215938851237297, 0.0360451266169548, -0.002370249480009079, -0.04721192643046379, 0.01182938925921917, -0.04147835820913315, 0.017787275835871696, -0.004495452623814344, 0.011439546011388302, 0.005986908450722694, -0.04104645922780037, -0.009196317754685879, 0.0033593743573874235, -0.015063796192407608, -0.044917091727256775, 0.04379643499851227, 0.007112048100680113, 0.01149294339120388, -0.0008351682918146253, 0.029635954648256302, 0.0011118566617369652, -0.05579640716314316, -0.051295652985572815, -0.06903991848230362, -0.014614676125347614, 0.09418845921754837, 0.006571384612470865, -0.006366217974573374, -0.03642362728714943, 0.004404137842357159, -0.03790118545293808, 0.02412255108356476, 0.011415692046284676, -0.08638930320739746, -0.024366896599531174, -0.03779151663184166, -0.02671065740287304, 0.016517141833901405, -0.0248477254062891, 0.0505044162273407, -0.03648170828819275, 0.0481017604470253, -0.014319468289613724, 0.019565602764487267, 0.003267932217568159, -0.043122392147779465, -0.000276838312856853, 0.021957535296678543, -0.01696000248193741, -0.04891292005777359, 0.012918893247842789, 0.011471017263829708, -0.008156177587807178, -0.01901218481361866, 0.0895070880651474, 0.055102523416280746, -0.033757589757442474, 0.02205238863825798, 0.020059021189808846, 0.08638059347867966, -0.019769350066781044, -0.04898980259895325, 0.026293667033314705, 0.027636541053652763, 0.06559814512729645, 0.026784291490912437, -0.033453915268182755, -0.029647769406437874, 0.004394698888063431, 0.008124847896397114, -0.0378979854285717, -0.026724958792328835, 0.010393909178674221, 0.05708175152540207, -0.01256775762885809, -0.05195125937461853, 0.041761238127946854, 0.0015503921313211322, 0.03923457860946655, -0.03080432489514351, 0.022874023765325546, -0.025577640160918236, 0.020628446713089943, -0.029565056785941124, -0.009961423464119434, -0.025642942637205124, 0.023505177348852158, -0.005432899110019207, 0.03997081518173218, 0.025603653863072395, 0.02374217100441456, -0.033335961401462555, -0.007225112523883581, -0.05305224657058716, 0.017787916585803032, -0.03192887455224991, -0.03404217213392258, -0.012303617782890797, 0.051502425223588943, 0.03155529871582985, -0.04077078029513359, -0.01865929178893566, -0.06719081103801727, -0.04841729998588562, -0.017197178676724434, 0.06043417379260063, 0.02864355593919754, 0.0030243461951613426, 0.02606194093823433, -0.04511752724647522, 0.016737008467316628, -0.00306717655621469, 0.02399422600865364, 0.0451885350048542, 0.032276347279548645, -0.010842131450772285, -0.05345406383275986, -0.009713186882436275, 0.003460617270320654, -0.0075991153717041016, 0.010300222784280777, 0.025719383731484413, 0.03131872043013573, -0.03892656788229942, 0.030692148953676224, 0.023646948859095573, -0.015297950245440006, 0.09485922753810883, -0.07506081461906433, -0.03799990564584732, 0.028929097577929497, 0.026949431747198105, 0.015336722135543823, -0.02680966444313526, 0.008886037394404411, -0.007762743625789881, -0.07072458416223526, 0.0643899068236351, 0.030546633526682854, 0.017310112714767456, -0.02769101969897747, 0.054235391318798065, 0.019719362258911133, 0.003019944066181779, 0.014551269821822643, -0.01051865890622139, 0.009632263332605362, -0.016282854601740837, -0.002515755593776703, 0.021722009405493736, -0.01377819199115038, -0.07131132483482361, 0.055457666516304016, -0.02146027609705925, 0.012453892268240452, 0.040089573711156845, 0.00598806980997324, 0.02464916929602623, 0.03564067929983139, -0.03785136342048645, -0.06839294731616974, -0.02580109052360058, -0.02952711284160614, -0.002712146146222949, -0.027406388893723488, 0.034223925322294235, 0.014593692496418953, 0.01455728616565466, -0.03996877372264862, -0.0017912853509187698, 0.009994655847549438, 0.028266219422221184, -0.012742815539240837, -0.006041219923645258, -0.02699454128742218, -0.047674208879470825, -0.00876312144100666, -0.0460750088095665, -0.002557891421020031, -0.03101910650730133, -0.022657660767436028, -0.026860490441322327, -0.018226923421025276, -0.023530863225460052, -0.030918024480342865, -0.0216048751026392, -0.018428046256303787, -0.05240565910935402, -0.010944006033241749, -0.010495051741600037, 0.014070563018321991, 0.009928438812494278, 0.06326433271169662, 0.0036294087767601013, -0.005430866964161396, -0.06518873572349548, 0.04954256862401962, 0.006709520239382982, 0.019822949543595314, -0.01933574117720127, 0.028268324211239815, 0.00875056441873312, -0.012774609960615635, 0.024338848888874054, -0.03818086162209511, 0.045479658991098404, 0.0049741389229893684, 0.01886100135743618, 0.02899245172739029, 0.0034133365843445063, -0.03285117447376251, -0.08236026763916016, 0.05568765103816986, -0.07488250732421875, -0.02405615523457527, -0.04294436424970627, 0.00948153343051672, -0.0016388694057241082, 0.05485460162162781, -0.05190639942884445, -0.037383705377578735, -0.010829808190464973, 0.01588393561542034, -0.04075101017951965, 0.007333436049520969, -0.01186453364789486, 0.025309178978204727, 0.028780778869986534, 0.022059014067053795, 0.005641642492264509, 0.014256023801863194, -0.04561816155910492, 0.021700313314795494, 0.007403872907161713, -0.01716296374797821, -0.01232399232685566, -0.01428743451833725, 0.024856362491846085, -0.013682805001735687, -0.04363206773996353, -0.013514994643628597, -0.056501634418964386, -0.014782951213419437, 0.023614482954144478, 0.002431833650916815, 0.03995348513126373, -0.01490667276084423, -2.8332735382718965e-05, 0.05131308734416962, -0.014525849372148514, -0.008868209086358547, 0.0020417270716279745, -0.08993173390626907, 0.028968116268515587, -0.023282229900360107, -0.015799371525645256, -0.0034136930480599403, 0.007199946790933609, -0.018282616510987282, -0.05307849124073982, -0.011548423208296299, -0.028292469680309296, -0.016865963116288185, 0.03344223275780678, -0.02746083214879036, -0.004394813906401396, 0.029530523344874382, 0.02249768190085888, -0.01950506679713726, 0.04846562445163727, 0.002814773702993989, -0.03258373960852623, 0.015699950978159904, -0.04432717338204384, 0.016103604808449745, -0.0007128179422579706, 0.034467414021492004, -0.015346208587288857, 0.022374354302883148, 0.005159384571015835, 0.01417128462344408, -0.08033912628889084, -0.02006998285651207, -0.019844673573970795, -0.03688047081232071, -0.01608883962035179, 0.016210846602916718, -0.0013841103063896298, -0.005698765628039837, 0.011993130668997765, 0.010907342657446861, 0.021840617060661316, 0.010559272952377796, -0.019059069454669952, -0.006699376739561558, 0.01658005081117153, -0.030043864622712135, -0.023474445566534996, -0.0033652246929705143, -0.056093450635671616, 0.03136468678712845, 0.03363978862762451, 0.03209429606795311, 0.01146282535046339, -0.013316398486495018, -0.026145637035369873, -0.029224885627627373, 0.023790691047906876, -0.014063010923564434, 0.07341191917657852, 0.037074554711580276, -0.04333944618701935, -0.07335381954908371, -0.006039690691977739, -0.0071884882636368275, -0.03593433275818825, 0.008657087571918964, 0.050281014293432236, 0.0011281304759904742, 0.0037751018535345793, 0.027034038677811623, 0.026024024933576584, -0.026764193549752235, -0.015993673354387283, 0.07315025478601456, 0.03275249898433685, 0.05738939344882965, -0.009866415522992611, -0.009219940751791, 0.05726669356226921, -0.03620034456253052, 0.019261807203292847, 0.04917328432202339, -0.024759473279118538, 0.040412452071905136, -0.007126788143068552, -0.025464357808232307, -0.019227517768740654, -0.034822385758161545, 0.029448483139276505, 0.05281175673007965, -0.019955584779381752, 0.044093187898397446, 0.14563652873039246, -0.002194790868088603, -0.06354354321956635, -0.013427076861262321, 0.05445214733481407, -0.019259387627243996, 0.0217739325016737, -0.02411310002207756, 0.011182373389601707, 0.031236102804541588, -0.0061919717118144035, -0.025196710601449013, 0.0044916714541614056]\n"
     ]
    }
   ],
   "source": [
    "embedding_model = TextEmbeddingModel.from_pretrained(\"textembedding-gecko@001\")\n",
    "\n",
    "embeddings = embedding_model.get_embeddings([\"When was last NASA mission launched?\"])\n",
    "\n",
    "for embedding in embeddings:\n",
    "    vector = embedding.values\n",
    "    print(f\"Length = {len(vector)}\")\n",
    "    print(vector)"
   ]
  },
  {
   "cell_type": "markdown",
   "metadata": {
    "id": "601bd7e7ef1d"
   },
   "source": [
    "#### Embeddings and Pandas DataFrames"
   ]
  },
  {
   "cell_type": "markdown",
   "metadata": {
    "id": "9e69d2ba877f"
   },
   "source": [
    "If your text is stored in a column of a DataFrame, you can create a new column with the embeddings with the example below."
   ]
  },
  {
   "cell_type": "code",
   "execution_count": 34,
   "metadata": {
    "colab": {
     "base_uri": "https://localhost:8080/",
     "height": 206
    },
    "id": "d99f08bab254",
    "outputId": "f749beab-d5d1-4aef-ca8d-2cf242dfec8f"
   },
   "outputs": [
    {
     "data": {
      "text/html": [
       "\n",
       "  <div id=\"df-a0c0221c-4569-43d7-acc8-cc1c8306c8a9\" class=\"colab-df-container\">\n",
       "    <div>\n",
       "<style scoped>\n",
       "    .dataframe tbody tr th:only-of-type {\n",
       "        vertical-align: middle;\n",
       "    }\n",
       "\n",
       "    .dataframe tbody tr th {\n",
       "        vertical-align: top;\n",
       "    }\n",
       "\n",
       "    .dataframe thead th {\n",
       "        text-align: right;\n",
       "    }\n",
       "</style>\n",
       "<table border=\"1\" class=\"dataframe\">\n",
       "  <thead>\n",
       "    <tr style=\"text-align: right;\">\n",
       "      <th></th>\n",
       "      <th>text</th>\n",
       "    </tr>\n",
       "  </thead>\n",
       "  <tbody>\n",
       "    <tr>\n",
       "      <th>0</th>\n",
       "      <td>Healthcare systems provide access to healthcar...</td>\n",
       "    </tr>\n",
       "    <tr>\n",
       "      <th>1</th>\n",
       "      <td>so many amazing cinematic scenes yesterday</td>\n",
       "    </tr>\n",
       "    <tr>\n",
       "      <th>2</th>\n",
       "      <td>had a great time writing my Python scripts a f...</td>\n",
       "    </tr>\n",
       "    <tr>\n",
       "      <th>3</th>\n",
       "      <td>huge sense of relief when my .py script finall...</td>\n",
       "    </tr>\n",
       "    <tr>\n",
       "      <th>4</th>\n",
       "      <td>Financial planning is essential for achieving ...</td>\n",
       "    </tr>\n",
       "  </tbody>\n",
       "</table>\n",
       "</div>\n",
       "    <div class=\"colab-df-buttons\">\n",
       "\n",
       "  <div class=\"colab-df-container\">\n",
       "    <button class=\"colab-df-convert\" onclick=\"convertToInteractive('df-a0c0221c-4569-43d7-acc8-cc1c8306c8a9')\"\n",
       "            title=\"Convert this dataframe to an interactive table.\"\n",
       "            style=\"display:none;\">\n",
       "\n",
       "  <svg xmlns=\"http://www.w3.org/2000/svg\" height=\"24px\" viewBox=\"0 -960 960 960\">\n",
       "    <path d=\"M120-120v-720h720v720H120Zm60-500h600v-160H180v160Zm220 220h160v-160H400v160Zm0 220h160v-160H400v160ZM180-400h160v-160H180v160Zm440 0h160v-160H620v160ZM180-180h160v-160H180v160Zm440 0h160v-160H620v160Z\"/>\n",
       "  </svg>\n",
       "    </button>\n",
       "\n",
       "  <style>\n",
       "    .colab-df-container {\n",
       "      display:flex;\n",
       "      gap: 12px;\n",
       "    }\n",
       "\n",
       "    .colab-df-convert {\n",
       "      background-color: #E8F0FE;\n",
       "      border: none;\n",
       "      border-radius: 50%;\n",
       "      cursor: pointer;\n",
       "      display: none;\n",
       "      fill: #1967D2;\n",
       "      height: 32px;\n",
       "      padding: 0 0 0 0;\n",
       "      width: 32px;\n",
       "    }\n",
       "\n",
       "    .colab-df-convert:hover {\n",
       "      background-color: #E2EBFA;\n",
       "      box-shadow: 0px 1px 2px rgba(60, 64, 67, 0.3), 0px 1px 3px 1px rgba(60, 64, 67, 0.15);\n",
       "      fill: #174EA6;\n",
       "    }\n",
       "\n",
       "    .colab-df-buttons div {\n",
       "      margin-bottom: 4px;\n",
       "    }\n",
       "\n",
       "    [theme=dark] .colab-df-convert {\n",
       "      background-color: #3B4455;\n",
       "      fill: #D2E3FC;\n",
       "    }\n",
       "\n",
       "    [theme=dark] .colab-df-convert:hover {\n",
       "      background-color: #434B5C;\n",
       "      box-shadow: 0px 1px 3px 1px rgba(0, 0, 0, 0.15);\n",
       "      filter: drop-shadow(0px 1px 2px rgba(0, 0, 0, 0.3));\n",
       "      fill: #FFFFFF;\n",
       "    }\n",
       "  </style>\n",
       "\n",
       "    <script>\n",
       "      const buttonEl =\n",
       "        document.querySelector('#df-a0c0221c-4569-43d7-acc8-cc1c8306c8a9 button.colab-df-convert');\n",
       "      buttonEl.style.display =\n",
       "        google.colab.kernel.accessAllowed ? 'block' : 'none';\n",
       "\n",
       "      async function convertToInteractive(key) {\n",
       "        const element = document.querySelector('#df-a0c0221c-4569-43d7-acc8-cc1c8306c8a9');\n",
       "        const dataTable =\n",
       "          await google.colab.kernel.invokeFunction('convertToInteractive',\n",
       "                                                    [key], {});\n",
       "        if (!dataTable) return;\n",
       "\n",
       "        const docLinkHtml = 'Like what you see? Visit the ' +\n",
       "          '<a target=\"_blank\" href=https://colab.research.google.com/notebooks/data_table.ipynb>data table notebook</a>'\n",
       "          + ' to learn more about interactive tables.';\n",
       "        element.innerHTML = '';\n",
       "        dataTable['output_type'] = 'display_data';\n",
       "        await google.colab.output.renderOutput(dataTable, element);\n",
       "        const docLink = document.createElement('div');\n",
       "        docLink.innerHTML = docLinkHtml;\n",
       "        element.appendChild(docLink);\n",
       "      }\n",
       "    </script>\n",
       "  </div>\n",
       "\n",
       "\n",
       "<div id=\"df-4a410e8f-75e5-4d6f-b075-e7d9544cc96b\">\n",
       "  <button class=\"colab-df-quickchart\" onclick=\"quickchart('df-4a410e8f-75e5-4d6f-b075-e7d9544cc96b')\"\n",
       "            title=\"Suggest charts.\"\n",
       "            style=\"display:none;\">\n",
       "\n",
       "<svg xmlns=\"http://www.w3.org/2000/svg\" height=\"24px\"viewBox=\"0 0 24 24\"\n",
       "     width=\"24px\">\n",
       "    <g>\n",
       "        <path d=\"M19 3H5c-1.1 0-2 .9-2 2v14c0 1.1.9 2 2 2h14c1.1 0 2-.9 2-2V5c0-1.1-.9-2-2-2zM9 17H7v-7h2v7zm4 0h-2V7h2v10zm4 0h-2v-4h2v4z\"/>\n",
       "    </g>\n",
       "</svg>\n",
       "  </button>\n",
       "\n",
       "<style>\n",
       "  .colab-df-quickchart {\n",
       "      --bg-color: #E8F0FE;\n",
       "      --fill-color: #1967D2;\n",
       "      --hover-bg-color: #E2EBFA;\n",
       "      --hover-fill-color: #174EA6;\n",
       "      --disabled-fill-color: #AAA;\n",
       "      --disabled-bg-color: #DDD;\n",
       "  }\n",
       "\n",
       "  [theme=dark] .colab-df-quickchart {\n",
       "      --bg-color: #3B4455;\n",
       "      --fill-color: #D2E3FC;\n",
       "      --hover-bg-color: #434B5C;\n",
       "      --hover-fill-color: #FFFFFF;\n",
       "      --disabled-bg-color: #3B4455;\n",
       "      --disabled-fill-color: #666;\n",
       "  }\n",
       "\n",
       "  .colab-df-quickchart {\n",
       "    background-color: var(--bg-color);\n",
       "    border: none;\n",
       "    border-radius: 50%;\n",
       "    cursor: pointer;\n",
       "    display: none;\n",
       "    fill: var(--fill-color);\n",
       "    height: 32px;\n",
       "    padding: 0;\n",
       "    width: 32px;\n",
       "  }\n",
       "\n",
       "  .colab-df-quickchart:hover {\n",
       "    background-color: var(--hover-bg-color);\n",
       "    box-shadow: 0 1px 2px rgba(60, 64, 67, 0.3), 0 1px 3px 1px rgba(60, 64, 67, 0.15);\n",
       "    fill: var(--button-hover-fill-color);\n",
       "  }\n",
       "\n",
       "  .colab-df-quickchart-complete:disabled,\n",
       "  .colab-df-quickchart-complete:disabled:hover {\n",
       "    background-color: var(--disabled-bg-color);\n",
       "    fill: var(--disabled-fill-color);\n",
       "    box-shadow: none;\n",
       "  }\n",
       "\n",
       "  .colab-df-spinner {\n",
       "    border: 2px solid var(--fill-color);\n",
       "    border-color: transparent;\n",
       "    border-bottom-color: var(--fill-color);\n",
       "    animation:\n",
       "      spin 1s steps(1) infinite;\n",
       "  }\n",
       "\n",
       "  @keyframes spin {\n",
       "    0% {\n",
       "      border-color: transparent;\n",
       "      border-bottom-color: var(--fill-color);\n",
       "      border-left-color: var(--fill-color);\n",
       "    }\n",
       "    20% {\n",
       "      border-color: transparent;\n",
       "      border-left-color: var(--fill-color);\n",
       "      border-top-color: var(--fill-color);\n",
       "    }\n",
       "    30% {\n",
       "      border-color: transparent;\n",
       "      border-left-color: var(--fill-color);\n",
       "      border-top-color: var(--fill-color);\n",
       "      border-right-color: var(--fill-color);\n",
       "    }\n",
       "    40% {\n",
       "      border-color: transparent;\n",
       "      border-right-color: var(--fill-color);\n",
       "      border-top-color: var(--fill-color);\n",
       "    }\n",
       "    60% {\n",
       "      border-color: transparent;\n",
       "      border-right-color: var(--fill-color);\n",
       "    }\n",
       "    80% {\n",
       "      border-color: transparent;\n",
       "      border-right-color: var(--fill-color);\n",
       "      border-bottom-color: var(--fill-color);\n",
       "    }\n",
       "    90% {\n",
       "      border-color: transparent;\n",
       "      border-bottom-color: var(--fill-color);\n",
       "    }\n",
       "  }\n",
       "</style>\n",
       "\n",
       "  <script>\n",
       "    async function quickchart(key) {\n",
       "      const quickchartButtonEl =\n",
       "        document.querySelector('#' + key + ' button');\n",
       "      quickchartButtonEl.disabled = true;  // To prevent multiple clicks.\n",
       "      quickchartButtonEl.classList.add('colab-df-spinner');\n",
       "      try {\n",
       "        const charts = await google.colab.kernel.invokeFunction(\n",
       "            'suggestCharts', [key], {});\n",
       "      } catch (error) {\n",
       "        console.error('Error during call to suggestCharts:', error);\n",
       "      }\n",
       "      quickchartButtonEl.classList.remove('colab-df-spinner');\n",
       "      quickchartButtonEl.classList.add('colab-df-quickchart-complete');\n",
       "    }\n",
       "    (() => {\n",
       "      let quickchartButtonEl =\n",
       "        document.querySelector('#df-4a410e8f-75e5-4d6f-b075-e7d9544cc96b button');\n",
       "      quickchartButtonEl.style.display =\n",
       "        google.colab.kernel.accessAllowed ? 'block' : 'none';\n",
       "    })();\n",
       "  </script>\n",
       "</div>\n",
       "\n",
       "  <div id=\"id_d7bdffb1-c207-4bcc-967b-d32f0c72858b\">\n",
       "    <style>\n",
       "      .colab-df-generate {\n",
       "        background-color: #E8F0FE;\n",
       "        border: none;\n",
       "        border-radius: 50%;\n",
       "        cursor: pointer;\n",
       "        display: none;\n",
       "        fill: #1967D2;\n",
       "        height: 32px;\n",
       "        padding: 0 0 0 0;\n",
       "        width: 32px;\n",
       "      }\n",
       "\n",
       "      .colab-df-generate:hover {\n",
       "        background-color: #E2EBFA;\n",
       "        box-shadow: 0px 1px 2px rgba(60, 64, 67, 0.3), 0px 1px 3px 1px rgba(60, 64, 67, 0.15);\n",
       "        fill: #174EA6;\n",
       "      }\n",
       "\n",
       "      [theme=dark] .colab-df-generate {\n",
       "        background-color: #3B4455;\n",
       "        fill: #D2E3FC;\n",
       "      }\n",
       "\n",
       "      [theme=dark] .colab-df-generate:hover {\n",
       "        background-color: #434B5C;\n",
       "        box-shadow: 0px 1px 3px 1px rgba(0, 0, 0, 0.15);\n",
       "        filter: drop-shadow(0px 1px 2px rgba(0, 0, 0, 0.3));\n",
       "        fill: #FFFFFF;\n",
       "      }\n",
       "    </style>\n",
       "    <button class=\"colab-df-generate\" onclick=\"generateWithVariable('df')\"\n",
       "            title=\"Generate code using this dataframe.\"\n",
       "            style=\"display:none;\">\n",
       "\n",
       "  <svg xmlns=\"http://www.w3.org/2000/svg\" height=\"24px\"viewBox=\"0 0 24 24\"\n",
       "       width=\"24px\">\n",
       "    <path d=\"M7,19H8.4L18.45,9,17,7.55,7,17.6ZM5,21V16.75L18.45,3.32a2,2,0,0,1,2.83,0l1.4,1.43a1.91,1.91,0,0,1,.58,1.4,1.91,1.91,0,0,1-.58,1.4L9.25,21ZM18.45,9,17,7.55Zm-12,3A5.31,5.31,0,0,0,4.9,8.1,5.31,5.31,0,0,0,1,6.5,5.31,5.31,0,0,0,4.9,4.9,5.31,5.31,0,0,0,6.5,1,5.31,5.31,0,0,0,8.1,4.9,5.31,5.31,0,0,0,12,6.5,5.46,5.46,0,0,0,6.5,12Z\"/>\n",
       "  </svg>\n",
       "    </button>\n",
       "    <script>\n",
       "      (() => {\n",
       "      const buttonEl =\n",
       "        document.querySelector('#id_d7bdffb1-c207-4bcc-967b-d32f0c72858b button.colab-df-generate');\n",
       "      buttonEl.style.display =\n",
       "        google.colab.kernel.accessAllowed ? 'block' : 'none';\n",
       "\n",
       "      buttonEl.onclick = () => {\n",
       "        google.colab.notebook.generateWithVariable('df');\n",
       "      }\n",
       "      })();\n",
       "    </script>\n",
       "  </div>\n",
       "\n",
       "    </div>\n",
       "  </div>\n"
      ],
      "text/plain": [
       "                                                text\n",
       "0  Healthcare systems provide access to healthcar...\n",
       "1         so many amazing cinematic scenes yesterday\n",
       "2  had a great time writing my Python scripts a f...\n",
       "3  huge sense of relief when my .py script finall...\n",
       "4  Financial planning is essential for achieving ..."
      ]
     },
     "execution_count": 34,
     "metadata": {},
     "output_type": "execute_result"
    }
   ],
   "source": [
    "text = [\n",
    "    \"Healthcare systems provide access to healthcare services, such as medical care, dental care, and mental health care.\",\n",
    "    \"so many amazing cinematic scenes yesterday\",\n",
    "    \"had a great time writing my Python scripts a few days ago\",\n",
    "    \"huge sense of relief when my .py script finally ran without error\",\n",
    "    \"Financial planning is essential for achieving your financial goals.\",\n",
    "]\n",
    "\n",
    "df = pd.DataFrame(text, columns=[\"text\"])\n",
    "df"
   ]
  },
  {
   "cell_type": "markdown",
   "metadata": {
    "id": "fabd92d8ddb6"
   },
   "source": [
    "Create a new column, `embeddings`, using the [apply](https://pandas.pydata.org/docs/reference/api/pandas.DataFrame.apply.html) function in pandas with the embeddings model."
   ]
  },
  {
   "cell_type": "code",
   "execution_count": 35,
   "metadata": {
    "colab": {
     "base_uri": "https://localhost:8080/",
     "height": 206
    },
    "id": "096cbf3f2698",
    "outputId": "94afcc88-8daf-4d7d-bb75-662e60f1bb98"
   },
   "outputs": [
    {
     "data": {
      "text/html": [
       "\n",
       "  <div id=\"df-4ade46bf-2343-43ce-8c0f-a442fd18201e\" class=\"colab-df-container\">\n",
       "    <div>\n",
       "<style scoped>\n",
       "    .dataframe tbody tr th:only-of-type {\n",
       "        vertical-align: middle;\n",
       "    }\n",
       "\n",
       "    .dataframe tbody tr th {\n",
       "        vertical-align: top;\n",
       "    }\n",
       "\n",
       "    .dataframe thead th {\n",
       "        text-align: right;\n",
       "    }\n",
       "</style>\n",
       "<table border=\"1\" class=\"dataframe\">\n",
       "  <thead>\n",
       "    <tr style=\"text-align: right;\">\n",
       "      <th></th>\n",
       "      <th>text</th>\n",
       "      <th>embeddings</th>\n",
       "    </tr>\n",
       "  </thead>\n",
       "  <tbody>\n",
       "    <tr>\n",
       "      <th>0</th>\n",
       "      <td>Healthcare systems provide access to healthcar...</td>\n",
       "      <td>[0.006701940204948187, 0.03603282943367958, -0...</td>\n",
       "    </tr>\n",
       "    <tr>\n",
       "      <th>1</th>\n",
       "      <td>so many amazing cinematic scenes yesterday</td>\n",
       "      <td>[-0.0445345863699913, 0.03854769468307495, -0....</td>\n",
       "    </tr>\n",
       "    <tr>\n",
       "      <th>2</th>\n",
       "      <td>had a great time writing my Python scripts a f...</td>\n",
       "      <td>[-0.002230646787211299, -0.00943742785602808, ...</td>\n",
       "    </tr>\n",
       "    <tr>\n",
       "      <th>3</th>\n",
       "      <td>huge sense of relief when my .py script finall...</td>\n",
       "      <td>[-0.0167002584785223, 0.00996268168091774, 0.0...</td>\n",
       "    </tr>\n",
       "    <tr>\n",
       "      <th>4</th>\n",
       "      <td>Financial planning is essential for achieving ...</td>\n",
       "      <td>[0.026299653574824333, -0.032081086188554764, ...</td>\n",
       "    </tr>\n",
       "  </tbody>\n",
       "</table>\n",
       "</div>\n",
       "    <div class=\"colab-df-buttons\">\n",
       "\n",
       "  <div class=\"colab-df-container\">\n",
       "    <button class=\"colab-df-convert\" onclick=\"convertToInteractive('df-4ade46bf-2343-43ce-8c0f-a442fd18201e')\"\n",
       "            title=\"Convert this dataframe to an interactive table.\"\n",
       "            style=\"display:none;\">\n",
       "\n",
       "  <svg xmlns=\"http://www.w3.org/2000/svg\" height=\"24px\" viewBox=\"0 -960 960 960\">\n",
       "    <path d=\"M120-120v-720h720v720H120Zm60-500h600v-160H180v160Zm220 220h160v-160H400v160Zm0 220h160v-160H400v160ZM180-400h160v-160H180v160Zm440 0h160v-160H620v160ZM180-180h160v-160H180v160Zm440 0h160v-160H620v160Z\"/>\n",
       "  </svg>\n",
       "    </button>\n",
       "\n",
       "  <style>\n",
       "    .colab-df-container {\n",
       "      display:flex;\n",
       "      gap: 12px;\n",
       "    }\n",
       "\n",
       "    .colab-df-convert {\n",
       "      background-color: #E8F0FE;\n",
       "      border: none;\n",
       "      border-radius: 50%;\n",
       "      cursor: pointer;\n",
       "      display: none;\n",
       "      fill: #1967D2;\n",
       "      height: 32px;\n",
       "      padding: 0 0 0 0;\n",
       "      width: 32px;\n",
       "    }\n",
       "\n",
       "    .colab-df-convert:hover {\n",
       "      background-color: #E2EBFA;\n",
       "      box-shadow: 0px 1px 2px rgba(60, 64, 67, 0.3), 0px 1px 3px 1px rgba(60, 64, 67, 0.15);\n",
       "      fill: #174EA6;\n",
       "    }\n",
       "\n",
       "    .colab-df-buttons div {\n",
       "      margin-bottom: 4px;\n",
       "    }\n",
       "\n",
       "    [theme=dark] .colab-df-convert {\n",
       "      background-color: #3B4455;\n",
       "      fill: #D2E3FC;\n",
       "    }\n",
       "\n",
       "    [theme=dark] .colab-df-convert:hover {\n",
       "      background-color: #434B5C;\n",
       "      box-shadow: 0px 1px 3px 1px rgba(0, 0, 0, 0.15);\n",
       "      filter: drop-shadow(0px 1px 2px rgba(0, 0, 0, 0.3));\n",
       "      fill: #FFFFFF;\n",
       "    }\n",
       "  </style>\n",
       "\n",
       "    <script>\n",
       "      const buttonEl =\n",
       "        document.querySelector('#df-4ade46bf-2343-43ce-8c0f-a442fd18201e button.colab-df-convert');\n",
       "      buttonEl.style.display =\n",
       "        google.colab.kernel.accessAllowed ? 'block' : 'none';\n",
       "\n",
       "      async function convertToInteractive(key) {\n",
       "        const element = document.querySelector('#df-4ade46bf-2343-43ce-8c0f-a442fd18201e');\n",
       "        const dataTable =\n",
       "          await google.colab.kernel.invokeFunction('convertToInteractive',\n",
       "                                                    [key], {});\n",
       "        if (!dataTable) return;\n",
       "\n",
       "        const docLinkHtml = 'Like what you see? Visit the ' +\n",
       "          '<a target=\"_blank\" href=https://colab.research.google.com/notebooks/data_table.ipynb>data table notebook</a>'\n",
       "          + ' to learn more about interactive tables.';\n",
       "        element.innerHTML = '';\n",
       "        dataTable['output_type'] = 'display_data';\n",
       "        await google.colab.output.renderOutput(dataTable, element);\n",
       "        const docLink = document.createElement('div');\n",
       "        docLink.innerHTML = docLinkHtml;\n",
       "        element.appendChild(docLink);\n",
       "      }\n",
       "    </script>\n",
       "  </div>\n",
       "\n",
       "\n",
       "<div id=\"df-8221a554-5f02-4e2c-87dc-b251d86584c5\">\n",
       "  <button class=\"colab-df-quickchart\" onclick=\"quickchart('df-8221a554-5f02-4e2c-87dc-b251d86584c5')\"\n",
       "            title=\"Suggest charts.\"\n",
       "            style=\"display:none;\">\n",
       "\n",
       "<svg xmlns=\"http://www.w3.org/2000/svg\" height=\"24px\"viewBox=\"0 0 24 24\"\n",
       "     width=\"24px\">\n",
       "    <g>\n",
       "        <path d=\"M19 3H5c-1.1 0-2 .9-2 2v14c0 1.1.9 2 2 2h14c1.1 0 2-.9 2-2V5c0-1.1-.9-2-2-2zM9 17H7v-7h2v7zm4 0h-2V7h2v10zm4 0h-2v-4h2v4z\"/>\n",
       "    </g>\n",
       "</svg>\n",
       "  </button>\n",
       "\n",
       "<style>\n",
       "  .colab-df-quickchart {\n",
       "      --bg-color: #E8F0FE;\n",
       "      --fill-color: #1967D2;\n",
       "      --hover-bg-color: #E2EBFA;\n",
       "      --hover-fill-color: #174EA6;\n",
       "      --disabled-fill-color: #AAA;\n",
       "      --disabled-bg-color: #DDD;\n",
       "  }\n",
       "\n",
       "  [theme=dark] .colab-df-quickchart {\n",
       "      --bg-color: #3B4455;\n",
       "      --fill-color: #D2E3FC;\n",
       "      --hover-bg-color: #434B5C;\n",
       "      --hover-fill-color: #FFFFFF;\n",
       "      --disabled-bg-color: #3B4455;\n",
       "      --disabled-fill-color: #666;\n",
       "  }\n",
       "\n",
       "  .colab-df-quickchart {\n",
       "    background-color: var(--bg-color);\n",
       "    border: none;\n",
       "    border-radius: 50%;\n",
       "    cursor: pointer;\n",
       "    display: none;\n",
       "    fill: var(--fill-color);\n",
       "    height: 32px;\n",
       "    padding: 0;\n",
       "    width: 32px;\n",
       "  }\n",
       "\n",
       "  .colab-df-quickchart:hover {\n",
       "    background-color: var(--hover-bg-color);\n",
       "    box-shadow: 0 1px 2px rgba(60, 64, 67, 0.3), 0 1px 3px 1px rgba(60, 64, 67, 0.15);\n",
       "    fill: var(--button-hover-fill-color);\n",
       "  }\n",
       "\n",
       "  .colab-df-quickchart-complete:disabled,\n",
       "  .colab-df-quickchart-complete:disabled:hover {\n",
       "    background-color: var(--disabled-bg-color);\n",
       "    fill: var(--disabled-fill-color);\n",
       "    box-shadow: none;\n",
       "  }\n",
       "\n",
       "  .colab-df-spinner {\n",
       "    border: 2px solid var(--fill-color);\n",
       "    border-color: transparent;\n",
       "    border-bottom-color: var(--fill-color);\n",
       "    animation:\n",
       "      spin 1s steps(1) infinite;\n",
       "  }\n",
       "\n",
       "  @keyframes spin {\n",
       "    0% {\n",
       "      border-color: transparent;\n",
       "      border-bottom-color: var(--fill-color);\n",
       "      border-left-color: var(--fill-color);\n",
       "    }\n",
       "    20% {\n",
       "      border-color: transparent;\n",
       "      border-left-color: var(--fill-color);\n",
       "      border-top-color: var(--fill-color);\n",
       "    }\n",
       "    30% {\n",
       "      border-color: transparent;\n",
       "      border-left-color: var(--fill-color);\n",
       "      border-top-color: var(--fill-color);\n",
       "      border-right-color: var(--fill-color);\n",
       "    }\n",
       "    40% {\n",
       "      border-color: transparent;\n",
       "      border-right-color: var(--fill-color);\n",
       "      border-top-color: var(--fill-color);\n",
       "    }\n",
       "    60% {\n",
       "      border-color: transparent;\n",
       "      border-right-color: var(--fill-color);\n",
       "    }\n",
       "    80% {\n",
       "      border-color: transparent;\n",
       "      border-right-color: var(--fill-color);\n",
       "      border-bottom-color: var(--fill-color);\n",
       "    }\n",
       "    90% {\n",
       "      border-color: transparent;\n",
       "      border-bottom-color: var(--fill-color);\n",
       "    }\n",
       "  }\n",
       "</style>\n",
       "\n",
       "  <script>\n",
       "    async function quickchart(key) {\n",
       "      const quickchartButtonEl =\n",
       "        document.querySelector('#' + key + ' button');\n",
       "      quickchartButtonEl.disabled = true;  // To prevent multiple clicks.\n",
       "      quickchartButtonEl.classList.add('colab-df-spinner');\n",
       "      try {\n",
       "        const charts = await google.colab.kernel.invokeFunction(\n",
       "            'suggestCharts', [key], {});\n",
       "      } catch (error) {\n",
       "        console.error('Error during call to suggestCharts:', error);\n",
       "      }\n",
       "      quickchartButtonEl.classList.remove('colab-df-spinner');\n",
       "      quickchartButtonEl.classList.add('colab-df-quickchart-complete');\n",
       "    }\n",
       "    (() => {\n",
       "      let quickchartButtonEl =\n",
       "        document.querySelector('#df-8221a554-5f02-4e2c-87dc-b251d86584c5 button');\n",
       "      quickchartButtonEl.style.display =\n",
       "        google.colab.kernel.accessAllowed ? 'block' : 'none';\n",
       "    })();\n",
       "  </script>\n",
       "</div>\n",
       "\n",
       "  <div id=\"id_2d1f52b0-7c77-4ed0-8c50-43a974e1f91c\">\n",
       "    <style>\n",
       "      .colab-df-generate {\n",
       "        background-color: #E8F0FE;\n",
       "        border: none;\n",
       "        border-radius: 50%;\n",
       "        cursor: pointer;\n",
       "        display: none;\n",
       "        fill: #1967D2;\n",
       "        height: 32px;\n",
       "        padding: 0 0 0 0;\n",
       "        width: 32px;\n",
       "      }\n",
       "\n",
       "      .colab-df-generate:hover {\n",
       "        background-color: #E2EBFA;\n",
       "        box-shadow: 0px 1px 2px rgba(60, 64, 67, 0.3), 0px 1px 3px 1px rgba(60, 64, 67, 0.15);\n",
       "        fill: #174EA6;\n",
       "      }\n",
       "\n",
       "      [theme=dark] .colab-df-generate {\n",
       "        background-color: #3B4455;\n",
       "        fill: #D2E3FC;\n",
       "      }\n",
       "\n",
       "      [theme=dark] .colab-df-generate:hover {\n",
       "        background-color: #434B5C;\n",
       "        box-shadow: 0px 1px 3px 1px rgba(0, 0, 0, 0.15);\n",
       "        filter: drop-shadow(0px 1px 2px rgba(0, 0, 0, 0.3));\n",
       "        fill: #FFFFFF;\n",
       "      }\n",
       "    </style>\n",
       "    <button class=\"colab-df-generate\" onclick=\"generateWithVariable('df')\"\n",
       "            title=\"Generate code using this dataframe.\"\n",
       "            style=\"display:none;\">\n",
       "\n",
       "  <svg xmlns=\"http://www.w3.org/2000/svg\" height=\"24px\"viewBox=\"0 0 24 24\"\n",
       "       width=\"24px\">\n",
       "    <path d=\"M7,19H8.4L18.45,9,17,7.55,7,17.6ZM5,21V16.75L18.45,3.32a2,2,0,0,1,2.83,0l1.4,1.43a1.91,1.91,0,0,1,.58,1.4,1.91,1.91,0,0,1-.58,1.4L9.25,21ZM18.45,9,17,7.55Zm-12,3A5.31,5.31,0,0,0,4.9,8.1,5.31,5.31,0,0,0,1,6.5,5.31,5.31,0,0,0,4.9,4.9,5.31,5.31,0,0,0,6.5,1,5.31,5.31,0,0,0,8.1,4.9,5.31,5.31,0,0,0,12,6.5,5.46,5.46,0,0,0,6.5,12Z\"/>\n",
       "  </svg>\n",
       "    </button>\n",
       "    <script>\n",
       "      (() => {\n",
       "      const buttonEl =\n",
       "        document.querySelector('#id_2d1f52b0-7c77-4ed0-8c50-43a974e1f91c button.colab-df-generate');\n",
       "      buttonEl.style.display =\n",
       "        google.colab.kernel.accessAllowed ? 'block' : 'none';\n",
       "\n",
       "      buttonEl.onclick = () => {\n",
       "        google.colab.notebook.generateWithVariable('df');\n",
       "      }\n",
       "      })();\n",
       "    </script>\n",
       "  </div>\n",
       "\n",
       "    </div>\n",
       "  </div>\n"
      ],
      "text/plain": [
       "                                                text  \\\n",
       "0  Healthcare systems provide access to healthcar...   \n",
       "1         so many amazing cinematic scenes yesterday   \n",
       "2  had a great time writing my Python scripts a f...   \n",
       "3  huge sense of relief when my .py script finall...   \n",
       "4  Financial planning is essential for achieving ...   \n",
       "\n",
       "                                          embeddings  \n",
       "0  [0.006701940204948187, 0.03603282943367958, -0...  \n",
       "1  [-0.0445345863699913, 0.03854769468307495, -0....  \n",
       "2  [-0.002230646787211299, -0.00943742785602808, ...  \n",
       "3  [-0.0167002584785223, 0.00996268168091774, 0.0...  \n",
       "4  [0.026299653574824333, -0.032081086188554764, ...  "
      ]
     },
     "execution_count": 35,
     "metadata": {},
     "output_type": "execute_result"
    }
   ],
   "source": [
    "df[\"embeddings\"] = [\n",
    "    emb.values for emb in embedding_model.get_embeddings(df.text.values)\n",
    "]\n",
    "df"
   ]
  },
  {
   "cell_type": "markdown",
   "metadata": {
    "id": "69ebe1a6514d"
   },
   "source": [
    "#### Comparing similarity of text examples using cosine similarity"
   ]
  },
  {
   "cell_type": "markdown",
   "metadata": {
    "id": "04d0f13acedb"
   },
   "source": [
    "By converting text into embeddings, you can compute similarity scores. There are many ways to compute similarity scores, and one common technique is using [cosine similarity](https://en.wikipedia.org/wiki/Cosine_similarity).\n",
    "\n",
    "In the example from above, two of the sentences in the `text` column relate to enjoying a _movie_, and the other two relates to enjoying _coding_. Cosine similarity scores should be higher (closer to 1.0) when doing pairwise comparisons between semantically-related sentences, and scores should be lower between semantically-different sentences.\n",
    "\n",
    "The DataFrame output below shows the resulting cosine similarity scores between the embeddings:"
   ]
  },
  {
   "cell_type": "code",
   "execution_count": 36,
   "metadata": {
    "colab": {
     "base_uri": "https://localhost:8080/",
     "height": 397
    },
    "id": "dc499dae438a",
    "outputId": "83c64961-3c1a-40a3-d88d-c67b0b4030f8"
   },
   "outputs": [
    {
     "data": {
      "text/html": [
       "\n",
       "  <div id=\"df-be648c54-c221-4f62-acc6-7ef112d160ce\" class=\"colab-df-container\">\n",
       "    <div>\n",
       "<style scoped>\n",
       "    .dataframe tbody tr th:only-of-type {\n",
       "        vertical-align: middle;\n",
       "    }\n",
       "\n",
       "    .dataframe tbody tr th {\n",
       "        vertical-align: top;\n",
       "    }\n",
       "\n",
       "    .dataframe thead th {\n",
       "        text-align: right;\n",
       "    }\n",
       "</style>\n",
       "<table border=\"1\" class=\"dataframe\">\n",
       "  <thead>\n",
       "    <tr style=\"text-align: right;\">\n",
       "      <th></th>\n",
       "      <th>Healthcare systems provide access to healthcare services, such as medical care, dental care, and mental health care.</th>\n",
       "      <th>so many amazing cinematic scenes yesterday</th>\n",
       "      <th>had a great time writing my Python scripts a few days ago</th>\n",
       "      <th>huge sense of relief when my .py script finally ran without error</th>\n",
       "      <th>Financial planning is essential for achieving your financial goals.</th>\n",
       "    </tr>\n",
       "  </thead>\n",
       "  <tbody>\n",
       "    <tr>\n",
       "      <th>Healthcare systems provide access to healthcare services, such as medical care, dental care, and mental health care.</th>\n",
       "      <td>1.000000</td>\n",
       "      <td>0.498965</td>\n",
       "      <td>0.383699</td>\n",
       "      <td>0.438331</td>\n",
       "      <td>0.525404</td>\n",
       "    </tr>\n",
       "    <tr>\n",
       "      <th>so many amazing cinematic scenes yesterday</th>\n",
       "      <td>0.498965</td>\n",
       "      <td>1.000000</td>\n",
       "      <td>0.622367</td>\n",
       "      <td>0.564557</td>\n",
       "      <td>0.403595</td>\n",
       "    </tr>\n",
       "    <tr>\n",
       "      <th>had a great time writing my Python scripts a few days ago</th>\n",
       "      <td>0.383699</td>\n",
       "      <td>0.622367</td>\n",
       "      <td>1.000000</td>\n",
       "      <td>0.739008</td>\n",
       "      <td>0.429881</td>\n",
       "    </tr>\n",
       "    <tr>\n",
       "      <th>huge sense of relief when my .py script finally ran without error</th>\n",
       "      <td>0.438331</td>\n",
       "      <td>0.564557</td>\n",
       "      <td>0.739008</td>\n",
       "      <td>1.000000</td>\n",
       "      <td>0.428674</td>\n",
       "    </tr>\n",
       "    <tr>\n",
       "      <th>Financial planning is essential for achieving your financial goals.</th>\n",
       "      <td>0.525404</td>\n",
       "      <td>0.403595</td>\n",
       "      <td>0.429881</td>\n",
       "      <td>0.428674</td>\n",
       "      <td>1.000000</td>\n",
       "    </tr>\n",
       "  </tbody>\n",
       "</table>\n",
       "</div>\n",
       "    <div class=\"colab-df-buttons\">\n",
       "\n",
       "  <div class=\"colab-df-container\">\n",
       "    <button class=\"colab-df-convert\" onclick=\"convertToInteractive('df-be648c54-c221-4f62-acc6-7ef112d160ce')\"\n",
       "            title=\"Convert this dataframe to an interactive table.\"\n",
       "            style=\"display:none;\">\n",
       "\n",
       "  <svg xmlns=\"http://www.w3.org/2000/svg\" height=\"24px\" viewBox=\"0 -960 960 960\">\n",
       "    <path d=\"M120-120v-720h720v720H120Zm60-500h600v-160H180v160Zm220 220h160v-160H400v160Zm0 220h160v-160H400v160ZM180-400h160v-160H180v160Zm440 0h160v-160H620v160ZM180-180h160v-160H180v160Zm440 0h160v-160H620v160Z\"/>\n",
       "  </svg>\n",
       "    </button>\n",
       "\n",
       "  <style>\n",
       "    .colab-df-container {\n",
       "      display:flex;\n",
       "      gap: 12px;\n",
       "    }\n",
       "\n",
       "    .colab-df-convert {\n",
       "      background-color: #E8F0FE;\n",
       "      border: none;\n",
       "      border-radius: 50%;\n",
       "      cursor: pointer;\n",
       "      display: none;\n",
       "      fill: #1967D2;\n",
       "      height: 32px;\n",
       "      padding: 0 0 0 0;\n",
       "      width: 32px;\n",
       "    }\n",
       "\n",
       "    .colab-df-convert:hover {\n",
       "      background-color: #E2EBFA;\n",
       "      box-shadow: 0px 1px 2px rgba(60, 64, 67, 0.3), 0px 1px 3px 1px rgba(60, 64, 67, 0.15);\n",
       "      fill: #174EA6;\n",
       "    }\n",
       "\n",
       "    .colab-df-buttons div {\n",
       "      margin-bottom: 4px;\n",
       "    }\n",
       "\n",
       "    [theme=dark] .colab-df-convert {\n",
       "      background-color: #3B4455;\n",
       "      fill: #D2E3FC;\n",
       "    }\n",
       "\n",
       "    [theme=dark] .colab-df-convert:hover {\n",
       "      background-color: #434B5C;\n",
       "      box-shadow: 0px 1px 3px 1px rgba(0, 0, 0, 0.15);\n",
       "      filter: drop-shadow(0px 1px 2px rgba(0, 0, 0, 0.3));\n",
       "      fill: #FFFFFF;\n",
       "    }\n",
       "  </style>\n",
       "\n",
       "    <script>\n",
       "      const buttonEl =\n",
       "        document.querySelector('#df-be648c54-c221-4f62-acc6-7ef112d160ce button.colab-df-convert');\n",
       "      buttonEl.style.display =\n",
       "        google.colab.kernel.accessAllowed ? 'block' : 'none';\n",
       "\n",
       "      async function convertToInteractive(key) {\n",
       "        const element = document.querySelector('#df-be648c54-c221-4f62-acc6-7ef112d160ce');\n",
       "        const dataTable =\n",
       "          await google.colab.kernel.invokeFunction('convertToInteractive',\n",
       "                                                    [key], {});\n",
       "        if (!dataTable) return;\n",
       "\n",
       "        const docLinkHtml = 'Like what you see? Visit the ' +\n",
       "          '<a target=\"_blank\" href=https://colab.research.google.com/notebooks/data_table.ipynb>data table notebook</a>'\n",
       "          + ' to learn more about interactive tables.';\n",
       "        element.innerHTML = '';\n",
       "        dataTable['output_type'] = 'display_data';\n",
       "        await google.colab.output.renderOutput(dataTable, element);\n",
       "        const docLink = document.createElement('div');\n",
       "        docLink.innerHTML = docLinkHtml;\n",
       "        element.appendChild(docLink);\n",
       "      }\n",
       "    </script>\n",
       "  </div>\n",
       "\n",
       "\n",
       "<div id=\"df-3aaa01d7-8080-487f-870a-c47d60e8ed07\">\n",
       "  <button class=\"colab-df-quickchart\" onclick=\"quickchart('df-3aaa01d7-8080-487f-870a-c47d60e8ed07')\"\n",
       "            title=\"Suggest charts.\"\n",
       "            style=\"display:none;\">\n",
       "\n",
       "<svg xmlns=\"http://www.w3.org/2000/svg\" height=\"24px\"viewBox=\"0 0 24 24\"\n",
       "     width=\"24px\">\n",
       "    <g>\n",
       "        <path d=\"M19 3H5c-1.1 0-2 .9-2 2v14c0 1.1.9 2 2 2h14c1.1 0 2-.9 2-2V5c0-1.1-.9-2-2-2zM9 17H7v-7h2v7zm4 0h-2V7h2v10zm4 0h-2v-4h2v4z\"/>\n",
       "    </g>\n",
       "</svg>\n",
       "  </button>\n",
       "\n",
       "<style>\n",
       "  .colab-df-quickchart {\n",
       "      --bg-color: #E8F0FE;\n",
       "      --fill-color: #1967D2;\n",
       "      --hover-bg-color: #E2EBFA;\n",
       "      --hover-fill-color: #174EA6;\n",
       "      --disabled-fill-color: #AAA;\n",
       "      --disabled-bg-color: #DDD;\n",
       "  }\n",
       "\n",
       "  [theme=dark] .colab-df-quickchart {\n",
       "      --bg-color: #3B4455;\n",
       "      --fill-color: #D2E3FC;\n",
       "      --hover-bg-color: #434B5C;\n",
       "      --hover-fill-color: #FFFFFF;\n",
       "      --disabled-bg-color: #3B4455;\n",
       "      --disabled-fill-color: #666;\n",
       "  }\n",
       "\n",
       "  .colab-df-quickchart {\n",
       "    background-color: var(--bg-color);\n",
       "    border: none;\n",
       "    border-radius: 50%;\n",
       "    cursor: pointer;\n",
       "    display: none;\n",
       "    fill: var(--fill-color);\n",
       "    height: 32px;\n",
       "    padding: 0;\n",
       "    width: 32px;\n",
       "  }\n",
       "\n",
       "  .colab-df-quickchart:hover {\n",
       "    background-color: var(--hover-bg-color);\n",
       "    box-shadow: 0 1px 2px rgba(60, 64, 67, 0.3), 0 1px 3px 1px rgba(60, 64, 67, 0.15);\n",
       "    fill: var(--button-hover-fill-color);\n",
       "  }\n",
       "\n",
       "  .colab-df-quickchart-complete:disabled,\n",
       "  .colab-df-quickchart-complete:disabled:hover {\n",
       "    background-color: var(--disabled-bg-color);\n",
       "    fill: var(--disabled-fill-color);\n",
       "    box-shadow: none;\n",
       "  }\n",
       "\n",
       "  .colab-df-spinner {\n",
       "    border: 2px solid var(--fill-color);\n",
       "    border-color: transparent;\n",
       "    border-bottom-color: var(--fill-color);\n",
       "    animation:\n",
       "      spin 1s steps(1) infinite;\n",
       "  }\n",
       "\n",
       "  @keyframes spin {\n",
       "    0% {\n",
       "      border-color: transparent;\n",
       "      border-bottom-color: var(--fill-color);\n",
       "      border-left-color: var(--fill-color);\n",
       "    }\n",
       "    20% {\n",
       "      border-color: transparent;\n",
       "      border-left-color: var(--fill-color);\n",
       "      border-top-color: var(--fill-color);\n",
       "    }\n",
       "    30% {\n",
       "      border-color: transparent;\n",
       "      border-left-color: var(--fill-color);\n",
       "      border-top-color: var(--fill-color);\n",
       "      border-right-color: var(--fill-color);\n",
       "    }\n",
       "    40% {\n",
       "      border-color: transparent;\n",
       "      border-right-color: var(--fill-color);\n",
       "      border-top-color: var(--fill-color);\n",
       "    }\n",
       "    60% {\n",
       "      border-color: transparent;\n",
       "      border-right-color: var(--fill-color);\n",
       "    }\n",
       "    80% {\n",
       "      border-color: transparent;\n",
       "      border-right-color: var(--fill-color);\n",
       "      border-bottom-color: var(--fill-color);\n",
       "    }\n",
       "    90% {\n",
       "      border-color: transparent;\n",
       "      border-bottom-color: var(--fill-color);\n",
       "    }\n",
       "  }\n",
       "</style>\n",
       "\n",
       "  <script>\n",
       "    async function quickchart(key) {\n",
       "      const quickchartButtonEl =\n",
       "        document.querySelector('#' + key + ' button');\n",
       "      quickchartButtonEl.disabled = true;  // To prevent multiple clicks.\n",
       "      quickchartButtonEl.classList.add('colab-df-spinner');\n",
       "      try {\n",
       "        const charts = await google.colab.kernel.invokeFunction(\n",
       "            'suggestCharts', [key], {});\n",
       "      } catch (error) {\n",
       "        console.error('Error during call to suggestCharts:', error);\n",
       "      }\n",
       "      quickchartButtonEl.classList.remove('colab-df-spinner');\n",
       "      quickchartButtonEl.classList.add('colab-df-quickchart-complete');\n",
       "    }\n",
       "    (() => {\n",
       "      let quickchartButtonEl =\n",
       "        document.querySelector('#df-3aaa01d7-8080-487f-870a-c47d60e8ed07 button');\n",
       "      quickchartButtonEl.style.display =\n",
       "        google.colab.kernel.accessAllowed ? 'block' : 'none';\n",
       "    })();\n",
       "  </script>\n",
       "</div>\n",
       "\n",
       "  <div id=\"id_bd9a9093-de0b-44a8-bd0b-3a648ada3fab\">\n",
       "    <style>\n",
       "      .colab-df-generate {\n",
       "        background-color: #E8F0FE;\n",
       "        border: none;\n",
       "        border-radius: 50%;\n",
       "        cursor: pointer;\n",
       "        display: none;\n",
       "        fill: #1967D2;\n",
       "        height: 32px;\n",
       "        padding: 0 0 0 0;\n",
       "        width: 32px;\n",
       "      }\n",
       "\n",
       "      .colab-df-generate:hover {\n",
       "        background-color: #E2EBFA;\n",
       "        box-shadow: 0px 1px 2px rgba(60, 64, 67, 0.3), 0px 1px 3px 1px rgba(60, 64, 67, 0.15);\n",
       "        fill: #174EA6;\n",
       "      }\n",
       "\n",
       "      [theme=dark] .colab-df-generate {\n",
       "        background-color: #3B4455;\n",
       "        fill: #D2E3FC;\n",
       "      }\n",
       "\n",
       "      [theme=dark] .colab-df-generate:hover {\n",
       "        background-color: #434B5C;\n",
       "        box-shadow: 0px 1px 3px 1px rgba(0, 0, 0, 0.15);\n",
       "        filter: drop-shadow(0px 1px 2px rgba(0, 0, 0, 0.3));\n",
       "        fill: #FFFFFF;\n",
       "      }\n",
       "    </style>\n",
       "    <button class=\"colab-df-generate\" onclick=\"generateWithVariable('df')\"\n",
       "            title=\"Generate code using this dataframe.\"\n",
       "            style=\"display:none;\">\n",
       "\n",
       "  <svg xmlns=\"http://www.w3.org/2000/svg\" height=\"24px\"viewBox=\"0 0 24 24\"\n",
       "       width=\"24px\">\n",
       "    <path d=\"M7,19H8.4L18.45,9,17,7.55,7,17.6ZM5,21V16.75L18.45,3.32a2,2,0,0,1,2.83,0l1.4,1.43a1.91,1.91,0,0,1,.58,1.4,1.91,1.91,0,0,1-.58,1.4L9.25,21ZM18.45,9,17,7.55Zm-12,3A5.31,5.31,0,0,0,4.9,8.1,5.31,5.31,0,0,0,1,6.5,5.31,5.31,0,0,0,4.9,4.9,5.31,5.31,0,0,0,6.5,1,5.31,5.31,0,0,0,8.1,4.9,5.31,5.31,0,0,0,12,6.5,5.46,5.46,0,0,0,6.5,12Z\"/>\n",
       "  </svg>\n",
       "    </button>\n",
       "    <script>\n",
       "      (() => {\n",
       "      const buttonEl =\n",
       "        document.querySelector('#id_bd9a9093-de0b-44a8-bd0b-3a648ada3fab button.colab-df-generate');\n",
       "      buttonEl.style.display =\n",
       "        google.colab.kernel.accessAllowed ? 'block' : 'none';\n",
       "\n",
       "      buttonEl.onclick = () => {\n",
       "        google.colab.notebook.generateWithVariable('df');\n",
       "      }\n",
       "      })();\n",
       "    </script>\n",
       "  </div>\n",
       "\n",
       "    </div>\n",
       "  </div>\n"
      ],
      "text/plain": [
       "                                                    Healthcare systems provide access to healthcare services, such as medical care, dental care, and mental health care.  \\\n",
       "Healthcare systems provide access to healthcare...                                           1.000000                                                                      \n",
       "so many amazing cinematic scenes yesterday                                                   0.498965                                                                      \n",
       "had a great time writing my Python scripts a fe...                                           0.383699                                                                      \n",
       "huge sense of relief when my .py script finally...                                           0.438331                                                                      \n",
       "Financial planning is essential for achieving y...                                           0.525404                                                                      \n",
       "\n",
       "                                                    so many amazing cinematic scenes yesterday  \\\n",
       "Healthcare systems provide access to healthcare...                                    0.498965   \n",
       "so many amazing cinematic scenes yesterday                                            1.000000   \n",
       "had a great time writing my Python scripts a fe...                                    0.622367   \n",
       "huge sense of relief when my .py script finally...                                    0.564557   \n",
       "Financial planning is essential for achieving y...                                    0.403595   \n",
       "\n",
       "                                                    had a great time writing my Python scripts a few days ago  \\\n",
       "Healthcare systems provide access to healthcare...                                           0.383699           \n",
       "so many amazing cinematic scenes yesterday                                                   0.622367           \n",
       "had a great time writing my Python scripts a fe...                                           1.000000           \n",
       "huge sense of relief when my .py script finally...                                           0.739008           \n",
       "Financial planning is essential for achieving y...                                           0.429881           \n",
       "\n",
       "                                                    huge sense of relief when my .py script finally ran without error  \\\n",
       "Healthcare systems provide access to healthcare...                                           0.438331                   \n",
       "so many amazing cinematic scenes yesterday                                                   0.564557                   \n",
       "had a great time writing my Python scripts a fe...                                           0.739008                   \n",
       "huge sense of relief when my .py script finally...                                           1.000000                   \n",
       "Financial planning is essential for achieving y...                                           0.428674                   \n",
       "\n",
       "                                                    Financial planning is essential for achieving your financial goals.  \n",
       "Healthcare systems provide access to healthcare...                                           0.525404                    \n",
       "so many amazing cinematic scenes yesterday                                                   0.403595                    \n",
       "had a great time writing my Python scripts a fe...                                           0.429881                    \n",
       "huge sense of relief when my .py script finally...                                           0.428674                    \n",
       "Financial planning is essential for achieving y...                                           1.000000                    "
      ]
     },
     "execution_count": 36,
     "metadata": {},
     "output_type": "execute_result"
    }
   ],
   "source": [
    "cos_sim_array = cosine_similarity(list(df.embeddings.values))\n",
    "\n",
    "# display as DataFrame\n",
    "df = pd.DataFrame(cos_sim_array, index=text, columns=text)\n",
    "df"
   ]
  },
  {
   "cell_type": "markdown",
   "metadata": {
    "id": "97a5e2e32df5"
   },
   "source": [
    "To make this easier to understand, you can use a heatmap. Naturally, text is most similar when they are identical (score of 1.0). The next highest scores are when sentences are semantically similar. The lowest scores are when sentences are quite different in meaning."
   ]
  },
  {
   "cell_type": "code",
   "execution_count": 37,
   "metadata": {
    "colab": {
     "base_uri": "https://localhost:8080/",
     "height": 1000
    },
    "id": "560ea2a11535",
    "outputId": "70cf1056-608d-403f-9947-435a48995aa3"
   },
   "outputs": [
    {
     "data": {
      "text/plain": [
       "[Text(0.5, 1, 'Healthcare systems provide access to healthcare services, such as medical care, dental care, and mental health care.'),\n",
       " Text(1.5, 1, 'so many amazing cinematic scenes yesterday'),\n",
       " Text(2.5, 1, 'had a great time writing my Python scripts a few days ago'),\n",
       " Text(3.5, 1, 'huge sense of relief when my .py script finally ran without error'),\n",
       " Text(4.5, 1, 'Financial planning is essential for achieving your financial goals.')]"
      ]
     },
     "execution_count": 37,
     "metadata": {},
     "output_type": "execute_result"
    },
    {
     "data": {
      "image/png": "[encoded data removed]",
      "text/plain": [
       "<Figure size 640x480 with 2 Axes>"
      ]
     },
     "metadata": {},
     "output_type": "display_data"
    }
   ],
   "source": [
    "ax = sns.heatmap(df, annot=True, cmap=\"crest\")\n",
    "ax.xaxis.tick_top()\n",
    "ax.set_xticklabels(text, rotation=90)"
   ]
  },
  {
   "cell_type": "markdown",
   "metadata": {
    "id": "5B1PlCAr3GQi"
   },
   "source": [
    "## Code generation with code-bison@001"
   ]
  },
  {
   "cell_type": "markdown",
   "metadata": {
    "id": "wzoNuCqd3pbn"
   },
   "source": [
    "\n",
    "The code generation model (Codey) from PaLM API that you will use in this notebook is code-bison@001. It is fine-tuned to follow natural language instructions to generate required code and is suitable for a variety of coding tasks, such as:\n",
    "\n",
    "- writing functions\n",
    "- writing classes\n",
    "- web-apges\n",
    "- unit tests\n",
    "- docstrings\n",
    "- code translations, and many more use-cases.\n",
    "\n",
    "Currently it supports the following languages:\n",
    "- C++\n",
    "- C#\n",
    "- Go\n",
    "- GoogleSQL\n",
    "- Java\n",
    "- JavaScript\n",
    "- Kotlin\n",
    "- PHP\n",
    "- Python\n",
    "- Ruby\n",
    "- Rust\n",
    "- Scala\n",
    "- Swift\n",
    "- TypeScript\n",
    "\n",
    "You can find our more details [here](https://cloud.google.com/vertex-ai/docs/generative-ai/code/code-models-overview)."
   ]
  },
  {
   "cell_type": "markdown",
   "metadata": {
    "id": "H6AzUJLt-ihw"
   },
   "source": [
    "### Load model"
   ]
  },
  {
   "cell_type": "markdown",
   "metadata": {
    "id": "qDzu2A0k_YYL"
   },
   "source": [
    "### Model parameters for `code-bison@001`\n",
    "\n",
    "You can customize how the PaLM API code generation behaves in response to your prompt by using the following parameters for `code-bison@001`:\n",
    "\n",
    " - `prefix`: it represents the beginning of a piece of meaningful programming code or a natural language prompt that describes code to be generated.\n",
    " - `temperature`: higher means more \"creative\" code responses. range: (0.0 - 1.0, default 0).\n",
    " - `max_output_tokens`: sets the max number of tokens in the output. range: (1 - 2048, default 2048)\n"
   ]
  },
  {
   "cell_type": "markdown",
   "metadata": {
    "id": "WIiZZHJAC0jC"
   },
   "source": [
    "### Hello Codey"
   ]
  },
  {
   "cell_type": "code",
   "execution_count": 38,
   "metadata": {
    "colab": {
     "base_uri": "https://localhost:8080/"
    },
    "id": "oiywwL1T5grZ",
    "outputId": "0ed2cbab-1713-4c28-80de-8dbbeb49ca93"
   },
   "outputs": [
    {
     "name": "stdout",
     "output_type": "stream",
     "text": [
      "```python\n",
      "def binary_search(array, target):\n",
      "  \"\"\"\n",
      "  Performs a binary search on the given array for the given target.\n",
      "\n",
      "  Args:\n",
      "    array: The array to search.\n",
      "    target: The target value to search for.\n",
      "\n",
      "  Returns:\n",
      "    The index of the target value in the array, if found. Otherwise, -1.\n",
      "  \"\"\"\n",
      "\n",
      "  # Check if the array is empty.\n",
      "  if not array:\n",
      "    return -1\n",
      "\n",
      "  # Find the middle index of the array.\n",
      "  middle_index = len(array) // 2\n",
      "\n",
      "  # Check if the target value is equal to the middle element.\n",
      "  if array[middle_index] == target:\n",
      "    return middle_index\n",
      "\n",
      "  # Check if the target value is less than the middle element.\n",
      "  elif target < array[middle_index]:\n",
      "    return binary_search(array[:middle_index], target)\n",
      "\n",
      "  # Otherwise, the target value must be greater than the middle element.\n",
      "  else:\n",
      "    return binary_search(array[middle_index + 1:], target)\n",
      "```\n"
     ]
    }
   ],
   "source": [
    "code_generation_model = CodeGenerationModel.from_pretrained(\"code-bison@001\")\n",
    "prefix = \"write a python function to do binary search\"\n",
    "\n",
    "response = code_generation_model.predict(prefix=prefix)\n",
    "\n",
    "print(response.text)"
   ]
  },
  {
   "cell_type": "markdown",
   "metadata": {
    "id": "YukcUkJRDZvI"
   },
   "source": [
    "Try your own prompts\n",
    "Some examples:\n",
    "* write Go program to extract ip addresses from the text file\n",
    "* write Java program that can extract pincodes from addresses\n",
    "* write a standard SQL function that strips all non-alphabet characters from the string and encodes it to utf-8"
   ]
  },
  {
   "cell_type": "code",
   "execution_count": null,
   "metadata": {
    "id": "CvKHdTHy6RIi"
   },
   "outputs": [],
   "source": [
    "prefix = \"\"\"\n",
    "          \"\"\"\n",
    "\n",
    "response = code_generation_model.predict(prefix=prefix, max_output_tokens=1024)\n",
    "\n",
    "print(response.text)"
   ]
  },
  {
   "cell_type": "markdown",
   "metadata": {
    "id": "iZ0AEuFAEB1N"
   },
   "source": [
    "### Prompt templates"
   ]
  },
  {
   "cell_type": "markdown",
   "metadata": {
    "id": "LpFTrfLnFHBy"
   },
   "source": [
    "Prompt templates are useful if you have found a good way to structure your prompt that you can re-use. This can be also be helpful in limiting the open-endedness of freeform prompts. There are many ways to implement prompt templates, and below is just one example using f-strings. This way you can structure the prompts as per the expected funcationality of the code."
   ]
  },
  {
   "cell_type": "code",
   "execution_count": 19,
   "metadata": {
    "colab": {
     "base_uri": "https://localhost:8080/"
    },
    "id": "gznmqXU067tj",
    "outputId": "b8ce46ab-5eae-41ca-ae1e-02c27b4afa26"
   },
   "outputs": [
    {
     "name": "stdout",
     "output_type": "stream",
     "text": [
      "```c++\n",
      "#include <iostream>\n",
      "#include <string>\n",
      "#include <vector>\n",
      "#include <map>\n",
      "\n",
      "using namespace std;\n",
      "\n",
      "// This function parses a JSON string and extracts all of the names.\n",
      "// The names are returned in a vector of strings.\n",
      "vector<string> getNamesFromJson(string json) {\n",
      "  // Create a map to store the names.\n",
      "  map<string, bool> names;\n",
      "\n",
      "  // Parse the JSON string.\n",
      "  stringstream ss(json);\n",
      "  json::value_parser<string> parser;\n",
      "  while (ss >> parser) {\n",
      "    // Get the name of the current object.\n",
      "    string name = parser.get_name();\n",
      "\n",
      "    // If the name is not already in the map, add it.\n",
      "    if (!names.count(name)) {\n",
      "      names[name] = true;\n",
      "    }\n",
      "  }\n",
      "\n",
      "  // Create a vector to store the names.\n",
      "  vector<string> namesList;\n",
      "\n",
      "  // Add all of the names to the vector.\n",
      "  for (map<string, bool>::iterator it = names.begin(); it != names.end(); it++) {\n",
      "    namesList.push_back(it->first);\n",
      "  }\n",
      "\n",
      "  // Return the vector of names.\n",
      "  return namesList;\n",
      "}\n",
      "\n",
      "int main() {\n",
      "  // Get the JSON string from the user.\n",
      "  cout << \"Enter the JSON string: \" << endl;\n",
      "  string json;\n",
      "  getline(cin, json);\n",
      "\n",
      "  // Get the names from the JSON string.\n",
      "  vector<string> names = getNamesFromJson(json);\n",
      "\n",
      "  // Print the names to the console.\n",
      "  for (int i = 0; i < names.size(); i++) {\n",
      "    cout << names[i] << endl;\n",
      "  }\n",
      "\n",
      "  return 0;\n",
      "}\n",
      "```\n"
     ]
    }
   ],
   "source": [
    "language = \"C++ function\"\n",
    "file_format = \"json\"\n",
    "extract_info = \"names\"\n",
    "requirments = \"\"\"\n",
    "              - the name should be start with capital letters.\n",
    "              - There should be no duplicate names in the final list.\n",
    "              \"\"\"\n",
    "\n",
    "prefix = f\"\"\"Create a {language} to parse {file_format} and extract {extract_info} with the following requirements: {requirments}.\n",
    "              \"\"\"\n",
    "\n",
    "response = code_generation_model.predict(prefix=prefix, max_output_tokens=1024)\n",
    "\n",
    "print(response.text)"
   ]
  }
 ],
 "metadata": {
  "colab": {
   "provenance": []
  },
  "environment": {
   "kernel": "conda-root-py",
   "name": "workbench-notebooks.m119",
   "type": "gcloud",
   "uri": "us-docker.pkg.dev/deeplearning-platform-release/gcr.io/workbench-notebooks:m119"
  },
  "kernelspec": {
   "display_name": "Python 3 (ipykernel) (Local)",
   "language": "python",
   "name": "conda-root-py"
  },
  "language_info": {
   "codemirror_mode": {
    "name": "ipython",
    "version": 3
   },
   "file_extension": ".py",
   "mimetype": "text/x-python",
   "name": "python",
   "nbconvert_exporter": "python",
   "pygments_lexer": "ipython3",
   "version": "3.10.14"
  }
 },
 "nbformat": 4,
 "nbformat_minor": 4
}
